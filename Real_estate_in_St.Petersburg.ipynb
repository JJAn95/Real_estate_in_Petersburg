{
 "cells": [
  {
   "cell_type": "markdown",
   "metadata": {},
   "source": [
    "# Исследование объявлений о продаже квартир\n",
    "\n",
    "В вашем распоряжении данные сервиса Яндекc Недвижимость — архив объявлений о продаже квартир в Санкт-Петербурге и соседних населённых пунктах за несколько лет. Нужно научиться определять рыночную стоимость объектов недвижимости. Ваша задача — установить параметры. Это позволит построить автоматизированную систему: она отследит аномалии и мошенническую деятельность. \n",
    "\n",
    "По каждой квартире на продажу доступны два вида данных. Первые вписаны пользователем, вторые получены автоматически на основе картографических данных. Например, расстояние до центра, аэропорта, ближайшего парка и водоёма. "
   ]
  },
  {
   "cell_type": "markdown",
   "metadata": {},
   "source": [
    "## Изучение данных из файла"
   ]
  },
  {
   "cell_type": "code",
   "execution_count": 144,
   "metadata": {},
   "outputs": [],
   "source": [
    "import pandas as pd\n",
    "import numpy as np\n",
    "import matplotlib.pyplot as plt"
   ]
  },
  {
   "cell_type": "code",
   "execution_count": 145,
   "metadata": {},
   "outputs": [
    {
     "data": {
      "text/html": [
       "<div>\n",
       "<style scoped>\n",
       "    .dataframe tbody tr th:only-of-type {\n",
       "        vertical-align: middle;\n",
       "    }\n",
       "\n",
       "    .dataframe tbody tr th {\n",
       "        vertical-align: top;\n",
       "    }\n",
       "\n",
       "    .dataframe thead th {\n",
       "        text-align: right;\n",
       "    }\n",
       "</style>\n",
       "<table border=\"1\" class=\"dataframe\">\n",
       "  <thead>\n",
       "    <tr style=\"text-align: right;\">\n",
       "      <th></th>\n",
       "      <th>total_images</th>\n",
       "      <th>last_price</th>\n",
       "      <th>total_area</th>\n",
       "      <th>first_day_exposition</th>\n",
       "      <th>rooms</th>\n",
       "      <th>ceiling_height</th>\n",
       "      <th>floors_total</th>\n",
       "      <th>living_area</th>\n",
       "      <th>floor</th>\n",
       "      <th>is_apartment</th>\n",
       "      <th>...</th>\n",
       "      <th>kitchen_area</th>\n",
       "      <th>balcony</th>\n",
       "      <th>locality_name</th>\n",
       "      <th>airports_nearest</th>\n",
       "      <th>cityCenters_nearest</th>\n",
       "      <th>parks_around3000</th>\n",
       "      <th>parks_nearest</th>\n",
       "      <th>ponds_around3000</th>\n",
       "      <th>ponds_nearest</th>\n",
       "      <th>days_exposition</th>\n",
       "    </tr>\n",
       "  </thead>\n",
       "  <tbody>\n",
       "    <tr>\n",
       "      <th>0</th>\n",
       "      <td>20</td>\n",
       "      <td>13000000.0</td>\n",
       "      <td>108.0</td>\n",
       "      <td>2019-03-07T00:00:00</td>\n",
       "      <td>3</td>\n",
       "      <td>2.70</td>\n",
       "      <td>16.0</td>\n",
       "      <td>51.0</td>\n",
       "      <td>8</td>\n",
       "      <td>NaN</td>\n",
       "      <td>...</td>\n",
       "      <td>25.0</td>\n",
       "      <td>NaN</td>\n",
       "      <td>Санкт-Петербург</td>\n",
       "      <td>18863.0</td>\n",
       "      <td>16028.0</td>\n",
       "      <td>1.0</td>\n",
       "      <td>482.0</td>\n",
       "      <td>2.0</td>\n",
       "      <td>755.0</td>\n",
       "      <td>NaN</td>\n",
       "    </tr>\n",
       "    <tr>\n",
       "      <th>1</th>\n",
       "      <td>7</td>\n",
       "      <td>3350000.0</td>\n",
       "      <td>40.4</td>\n",
       "      <td>2018-12-04T00:00:00</td>\n",
       "      <td>1</td>\n",
       "      <td>NaN</td>\n",
       "      <td>11.0</td>\n",
       "      <td>18.6</td>\n",
       "      <td>1</td>\n",
       "      <td>NaN</td>\n",
       "      <td>...</td>\n",
       "      <td>11.0</td>\n",
       "      <td>2.0</td>\n",
       "      <td>посёлок Шушары</td>\n",
       "      <td>12817.0</td>\n",
       "      <td>18603.0</td>\n",
       "      <td>0.0</td>\n",
       "      <td>NaN</td>\n",
       "      <td>0.0</td>\n",
       "      <td>NaN</td>\n",
       "      <td>81.0</td>\n",
       "    </tr>\n",
       "    <tr>\n",
       "      <th>2</th>\n",
       "      <td>10</td>\n",
       "      <td>5196000.0</td>\n",
       "      <td>56.0</td>\n",
       "      <td>2015-08-20T00:00:00</td>\n",
       "      <td>2</td>\n",
       "      <td>NaN</td>\n",
       "      <td>5.0</td>\n",
       "      <td>34.3</td>\n",
       "      <td>4</td>\n",
       "      <td>NaN</td>\n",
       "      <td>...</td>\n",
       "      <td>8.3</td>\n",
       "      <td>0.0</td>\n",
       "      <td>Санкт-Петербург</td>\n",
       "      <td>21741.0</td>\n",
       "      <td>13933.0</td>\n",
       "      <td>1.0</td>\n",
       "      <td>90.0</td>\n",
       "      <td>2.0</td>\n",
       "      <td>574.0</td>\n",
       "      <td>558.0</td>\n",
       "    </tr>\n",
       "    <tr>\n",
       "      <th>3</th>\n",
       "      <td>0</td>\n",
       "      <td>64900000.0</td>\n",
       "      <td>159.0</td>\n",
       "      <td>2015-07-24T00:00:00</td>\n",
       "      <td>3</td>\n",
       "      <td>NaN</td>\n",
       "      <td>14.0</td>\n",
       "      <td>NaN</td>\n",
       "      <td>9</td>\n",
       "      <td>NaN</td>\n",
       "      <td>...</td>\n",
       "      <td>NaN</td>\n",
       "      <td>0.0</td>\n",
       "      <td>Санкт-Петербург</td>\n",
       "      <td>28098.0</td>\n",
       "      <td>6800.0</td>\n",
       "      <td>2.0</td>\n",
       "      <td>84.0</td>\n",
       "      <td>3.0</td>\n",
       "      <td>234.0</td>\n",
       "      <td>424.0</td>\n",
       "    </tr>\n",
       "    <tr>\n",
       "      <th>4</th>\n",
       "      <td>2</td>\n",
       "      <td>10000000.0</td>\n",
       "      <td>100.0</td>\n",
       "      <td>2018-06-19T00:00:00</td>\n",
       "      <td>2</td>\n",
       "      <td>3.03</td>\n",
       "      <td>14.0</td>\n",
       "      <td>32.0</td>\n",
       "      <td>13</td>\n",
       "      <td>NaN</td>\n",
       "      <td>...</td>\n",
       "      <td>41.0</td>\n",
       "      <td>NaN</td>\n",
       "      <td>Санкт-Петербург</td>\n",
       "      <td>31856.0</td>\n",
       "      <td>8098.0</td>\n",
       "      <td>2.0</td>\n",
       "      <td>112.0</td>\n",
       "      <td>1.0</td>\n",
       "      <td>48.0</td>\n",
       "      <td>121.0</td>\n",
       "    </tr>\n",
       "  </tbody>\n",
       "</table>\n",
       "<p>5 rows × 22 columns</p>\n",
       "</div>"
      ],
      "text/plain": [
       "   total_images  last_price  total_area first_day_exposition  rooms  \\\n",
       "0            20  13000000.0       108.0  2019-03-07T00:00:00      3   \n",
       "1             7   3350000.0        40.4  2018-12-04T00:00:00      1   \n",
       "2            10   5196000.0        56.0  2015-08-20T00:00:00      2   \n",
       "3             0  64900000.0       159.0  2015-07-24T00:00:00      3   \n",
       "4             2  10000000.0       100.0  2018-06-19T00:00:00      2   \n",
       "\n",
       "   ceiling_height  floors_total  living_area  floor is_apartment  ...  \\\n",
       "0            2.70          16.0         51.0      8          NaN  ...   \n",
       "1             NaN          11.0         18.6      1          NaN  ...   \n",
       "2             NaN           5.0         34.3      4          NaN  ...   \n",
       "3             NaN          14.0          NaN      9          NaN  ...   \n",
       "4            3.03          14.0         32.0     13          NaN  ...   \n",
       "\n",
       "   kitchen_area  balcony    locality_name  airports_nearest  \\\n",
       "0          25.0      NaN  Санкт-Петербург           18863.0   \n",
       "1          11.0      2.0   посёлок Шушары           12817.0   \n",
       "2           8.3      0.0  Санкт-Петербург           21741.0   \n",
       "3           NaN      0.0  Санкт-Петербург           28098.0   \n",
       "4          41.0      NaN  Санкт-Петербург           31856.0   \n",
       "\n",
       "  cityCenters_nearest  parks_around3000  parks_nearest  ponds_around3000  \\\n",
       "0             16028.0               1.0          482.0               2.0   \n",
       "1             18603.0               0.0            NaN               0.0   \n",
       "2             13933.0               1.0           90.0               2.0   \n",
       "3              6800.0               2.0           84.0               3.0   \n",
       "4              8098.0               2.0          112.0               1.0   \n",
       "\n",
       "   ponds_nearest  days_exposition  \n",
       "0          755.0              NaN  \n",
       "1            NaN             81.0  \n",
       "2          574.0            558.0  \n",
       "3          234.0            424.0  \n",
       "4           48.0            121.0  \n",
       "\n",
       "[5 rows x 22 columns]"
      ]
     },
     "metadata": {},
     "output_type": "display_data"
    },
    {
     "name": "stdout",
     "output_type": "stream",
     "text": [
      "<class 'pandas.core.frame.DataFrame'>\n",
      "RangeIndex: 23699 entries, 0 to 23698\n",
      "Data columns (total 22 columns):\n",
      " #   Column                Non-Null Count  Dtype  \n",
      "---  ------                --------------  -----  \n",
      " 0   total_images          23699 non-null  int64  \n",
      " 1   last_price            23699 non-null  float64\n",
      " 2   total_area            23699 non-null  float64\n",
      " 3   first_day_exposition  23699 non-null  object \n",
      " 4   rooms                 23699 non-null  int64  \n",
      " 5   ceiling_height        14504 non-null  float64\n",
      " 6   floors_total          23613 non-null  float64\n",
      " 7   living_area           21796 non-null  float64\n",
      " 8   floor                 23699 non-null  int64  \n",
      " 9   is_apartment          2775 non-null   object \n",
      " 10  studio                23699 non-null  bool   \n",
      " 11  open_plan             23699 non-null  bool   \n",
      " 12  kitchen_area          21421 non-null  float64\n",
      " 13  balcony               12180 non-null  float64\n",
      " 14  locality_name         23650 non-null  object \n",
      " 15  airports_nearest      18157 non-null  float64\n",
      " 16  cityCenters_nearest   18180 non-null  float64\n",
      " 17  parks_around3000      18181 non-null  float64\n",
      " 18  parks_nearest         8079 non-null   float64\n",
      " 19  ponds_around3000      18181 non-null  float64\n",
      " 20  ponds_nearest         9110 non-null   float64\n",
      " 21  days_exposition       20518 non-null  float64\n",
      "dtypes: bool(2), float64(14), int64(3), object(3)\n",
      "memory usage: 3.7+ MB\n"
     ]
    },
    {
     "data": {
      "text/plain": [
       "None"
      ]
     },
     "metadata": {},
     "output_type": "display_data"
    },
    {
     "data": {
      "text/plain": [
       "total_images                0\n",
       "last_price                  0\n",
       "total_area                  0\n",
       "first_day_exposition        0\n",
       "rooms                       0\n",
       "ceiling_height           9195\n",
       "floors_total               86\n",
       "living_area              1903\n",
       "floor                       0\n",
       "is_apartment            20924\n",
       "studio                      0\n",
       "open_plan                   0\n",
       "kitchen_area             2278\n",
       "balcony                 11519\n",
       "locality_name              49\n",
       "airports_nearest         5542\n",
       "cityCenters_nearest      5519\n",
       "parks_around3000         5518\n",
       "parks_nearest           15620\n",
       "ponds_around3000         5518\n",
       "ponds_nearest           14589\n",
       "days_exposition          3181\n",
       "dtype: int64"
      ]
     },
     "metadata": {},
     "output_type": "display_data"
    },
    {
     "data": {
      "text/plain": [
       "total_images            0.000000\n",
       "last_price              0.000000\n",
       "total_area              0.000000\n",
       "first_day_exposition    0.000000\n",
       "rooms                   0.000000\n",
       "ceiling_height          0.387991\n",
       "floors_total            0.003629\n",
       "living_area             0.080299\n",
       "floor                   0.000000\n",
       "is_apartment            0.882906\n",
       "studio                  0.000000\n",
       "open_plan               0.000000\n",
       "kitchen_area            0.096122\n",
       "balcony                 0.486054\n",
       "locality_name           0.002068\n",
       "airports_nearest        0.233850\n",
       "cityCenters_nearest     0.232879\n",
       "parks_around3000        0.232837\n",
       "parks_nearest           0.659100\n",
       "ponds_around3000        0.232837\n",
       "ponds_nearest           0.615596\n",
       "days_exposition         0.134225\n",
       "dtype: float64"
      ]
     },
     "metadata": {},
     "output_type": "display_data"
    }
   ],
   "source": [
    "data = pd.read_csv('real_estate_data.csv', sep='\\t')\n",
    "#data = pd.read_csv('/datasets/real_estate_data.csv', sep='\\t')\n",
    "display(data.head())\n",
    "display(data.info())\n",
    "display(data.isna().sum())\n",
    "display(data.isna().mean())"
   ]
  },
  {
   "cell_type": "markdown",
   "metadata": {},
   "source": [
    "### Вывод"
   ]
  },
  {
   "cell_type": "markdown",
   "metadata": {},
   "source": [
    "В исследуемом датасете 23699 строк, 22 колонки со значениями, имеются все типы данных. В большинстве серий есть пропуски, где-то они составляют даже больше половины значений. С ними нужно будет разобраться, возможно где-то они \"естественны\" или есть смысл проигнорировать, а где-то их лучше будет заменить. Так же тип данных некоторых колонок определен неверно или некорреткно, тоже стоит рассмотреть их и заменить при необходимости."
   ]
  },
  {
   "cell_type": "markdown",
   "metadata": {},
   "source": [
    "## Предобработка данных"
   ]
  },
  {
   "cell_type": "markdown",
   "metadata": {},
   "source": [
    "**is_apartment**\n",
    "\n",
    "В этом столбце самая большая доля пропусков, почти 90%. Заменим все пропуски на True, если в столбце living_area этой же строки у нас -  не пропуск. Затем поменяем тип данных на bool в этом столбце. Ссылаясь на то, что если указана жилая площадь, значит эта недвижимость предназначена для жилья(то есть апартаменты). Сочтем, что жилой дом тоже апартаменты. Если так можно сейчас.\n",
    "\n",
    "**balcony**\n",
    "\n",
    "В этом столбце тоже большое количество пропусков, почти 50%. Предположим, что каждый пропуск это отсутствие балкона и заменим его значение на \"0\". \n",
    "\n",
    "**ceiling_height**\n",
    "\n",
    "Данный столбец тоже имеет большое количество пропусков. Но мы его проигнорируем, ибо это может исказить наше дальнейшее исследование.\n",
    "\n",
    "**days_exposition**\n",
    "\n",
    "Заменим пропуски на медианное значение по столбцу.\n",
    "\n",
    "**parks_around3000, ponds_around3000**\n",
    "\n",
    "Заменим пропуски на 0, посчитаем, что в этом районе нет парков и водоёмов.\n",
    "\n",
    "**floors_total**\n",
    "\n",
    "Заменим пропуски на 1, чтобы мы могли применить тип int ко всем значениям, ибо доля пропусков в этом столбце крайне мала.\n",
    "\n",
    "**airports_nearest, cityCenters_nearest, parks_nearest, ponds_nearest, days_exposition, kitchen_area, living_area, locality_name**\n",
    "\n",
    "Пропуски в этих столбцах достаточно большие, но мы их проигнорируем. Трудно сейчас утверждать, каким значением праивильно будет заполнить данные пропуски.\n"
   ]
  },
  {
   "cell_type": "code",
   "execution_count": 146,
   "metadata": {},
   "outputs": [
    {
     "data": {
      "text/html": [
       "<div>\n",
       "<style scoped>\n",
       "    .dataframe tbody tr th:only-of-type {\n",
       "        vertical-align: middle;\n",
       "    }\n",
       "\n",
       "    .dataframe tbody tr th {\n",
       "        vertical-align: top;\n",
       "    }\n",
       "\n",
       "    .dataframe thead th {\n",
       "        text-align: right;\n",
       "    }\n",
       "</style>\n",
       "<table border=\"1\" class=\"dataframe\">\n",
       "  <thead>\n",
       "    <tr style=\"text-align: right;\">\n",
       "      <th></th>\n",
       "      <th>ceiling_height</th>\n",
       "    </tr>\n",
       "    <tr>\n",
       "      <th>rooms</th>\n",
       "      <th></th>\n",
       "    </tr>\n",
       "  </thead>\n",
       "  <tbody>\n",
       "    <tr>\n",
       "      <th>0</th>\n",
       "      <td>2.75</td>\n",
       "    </tr>\n",
       "    <tr>\n",
       "      <th>1</th>\n",
       "      <td>2.64</td>\n",
       "    </tr>\n",
       "    <tr>\n",
       "      <th>2</th>\n",
       "      <td>2.60</td>\n",
       "    </tr>\n",
       "    <tr>\n",
       "      <th>3</th>\n",
       "      <td>2.65</td>\n",
       "    </tr>\n",
       "    <tr>\n",
       "      <th>4</th>\n",
       "      <td>2.80</td>\n",
       "    </tr>\n",
       "  </tbody>\n",
       "</table>\n",
       "</div>"
      ],
      "text/plain": [
       "       ceiling_height\n",
       "rooms                \n",
       "0                2.75\n",
       "1                2.64\n",
       "2                2.60\n",
       "3                2.65\n",
       "4                2.80"
      ]
     },
     "metadata": {},
     "output_type": "display_data"
    },
    {
     "data": {
      "text/plain": [
       "9195"
      ]
     },
     "metadata": {},
     "output_type": "display_data"
    },
    {
     "data": {
      "text/plain": [
       "1"
      ]
     },
     "metadata": {},
     "output_type": "display_data"
    },
    {
     "data": {
      "text/plain": [
       "16"
      ]
     },
     "metadata": {},
     "output_type": "display_data"
    },
    {
     "data": {
      "text/plain": [
       "17"
      ]
     },
     "metadata": {},
     "output_type": "display_data"
    }
   ],
   "source": [
    "# Тут я решил, что надо как-то по умному заменить пропуски в ceiling_height\n",
    "\n",
    "# Создал сводную таблицу из количества комнат и среднего значения высоты потолков\n",
    "ceiling_height_median = data.pivot_table(index='rooms', values='ceiling_height', aggfunc=('median'))\n",
    "display(ceiling_height_median.head())\n",
    "\n",
    "# Создал из этой сводной таблицы словарь по типу Кол-во комнат: средняя высота потолков\n",
    "ceiling_height_median_dict = {}\n",
    "for room, ceiling_height in ceiling_height_median.groupby('rooms')['ceiling_height']:\n",
    "    ceiling_height_median_dict[room] = ceiling_height[room]\n",
    "    \n",
    "# Посчитал первоначальное количество пропусков\n",
    "display(data['ceiling_height'].isna().sum())\n",
    "\n",
    "# Заменил все пропуски на 0\n",
    "data['ceiling_height'] = data['ceiling_height'].fillna(0)\n",
    "\n",
    "# Создал функцию с заменой всех 0 значений в датафрейме на среднее значение соответствующего\n",
    "# кол-ва комнат из словаря\n",
    "def no_ceiling_height_nan(row):\n",
    "    rooms_data = row['rooms']\n",
    "    ceiling_height_data = row['ceiling_height']\n",
    "    try:\n",
    "        if ceiling_height_data == 0:\n",
    "            ceiling_height_data = ceiling_height_median_dict[rooms_data]\n",
    "        return ceiling_height_data\n",
    "    except:\n",
    "        return 0\n",
    "\n",
    "# Применил эту функцию к датафрейму\n",
    "data['ceiling_height'] = data.apply(no_ceiling_height_nan, axis=1)\n",
    "\n",
    "# Посчитал количество строк, в кторых осталось нулевое значение\n",
    "display(data[data['ceiling_height'] == 0]['ceiling_height'].count())\n",
    "\n",
    "# Посчитал количество уникальных населенных пунктов в словаре и в датафрейме в целом, чтобы сравнить результат\n",
    "display(len(ceiling_height_median_dict))\n",
    "display(len(data['rooms'].unique()))\n",
    "\n",
    "# Изучим пропуски и их количество в столбце is_apartment, и заполним их. \n",
    "#display(data['is_apartment'].value_counts())\n",
    "\n",
    "def is_apartment(row):\n",
    "    apartment = row['is_apartment']\n",
    "    living_area = row['living_area']\n",
    "    if np.isnan(living_area) == False and apartment != False:\n",
    "        apartment = True\n",
    "    return apartment\n",
    "    \n",
    "data['is_apartment'] = data.apply(is_apartment, axis=1)"
   ]
  },
  {
   "cell_type": "code",
   "execution_count": 147,
   "metadata": {},
   "outputs": [],
   "source": [
    "# Заменим в столбце ceiling_height тип на bool.\n",
    "# data['ceiling_height'] = data['ceiling_height'].fillna(0)\n",
    "\n",
    "# Заменим в столбце is_apartment тип на bool.\n",
    "data['is_apartment'] = data['is_apartment'].fillna('False').astype('bool')\n",
    "#display(data['is_apartment'].value_counts())\n",
    "\n",
    "# Изучим пропуски и их количество в столбце balcony. Заменим сразу тип на int и пропуски на 0.\n",
    "# display(data['balcony'].unique())\n",
    "data['balcony'] = data['balcony'].fillna(0.0).astype('int')\n",
    "\n",
    "# Изучим пропуски и их количество в столбце days_exposition. \n",
    "# Заменим сразу тип на int и пропуски на медианное.\n",
    "data['days_exposition'] = data['days_exposition'].fillna(data['days_exposition'].median()).astype('int')\n",
    "\n",
    "# Изучим пропуски и их количество в столбцах parks_around3000 и ponds_around3000. Заменим сразу тип на int и пропуски на 0.\n",
    "#display(data[np.isnan(data['parks_around3000']) == True])\n",
    "data['parks_around3000'] = data['parks_around3000'].fillna(0.0).astype('int')\n",
    "data['ponds_around3000'] = data['ponds_around3000'].fillna(0.0).astype('int')\n",
    "\n",
    "# Изучим пропуски и их количество в столбце floors_total. Заменим сразу тип на int и пропуски на 0.\n",
    "data['floors_total'] = data['floors_total'].fillna(1.0).astype('int')"
   ]
  },
  {
   "cell_type": "code",
   "execution_count": 148,
   "metadata": {},
   "outputs": [],
   "source": [
    "# Заменим тип данных в столбц last_price на int\n",
    "data['last_price'] = data['last_price'].astype('int')"
   ]
  },
  {
   "cell_type": "markdown",
   "metadata": {},
   "source": [
    "* **last_price** - заменили тип днных на int, ссылась на то, что сумма указана без \"копеек\".\n",
    "* **balcony** — заменили тип данных на int, потому что количество балконов не может быть дробным. Унас либо есть 1, либо 2, либо 3 и т.д. балконов, либо их нет (0).\n",
    "* **days_exposition** — заменили на тип int, ссылаясь на то, что считать дробную часть дня нерационально\n",
    "* **floors_total** — заменили на тип int, потому что количество этажей может быть только целое. Если это какой-то особый сучай, то уже будет указываться в отдельном столбце \"примечание\", напрмиер, при заполнении данных пользователем.\n",
    "* **is_apartment** — заменили на bool, потому что нам нужно знать \"да\" - это апартаменты (True) или нет - (False)\n",
    "* **parks_around3000** — заменили на тип int, потому что количество парков может быть только целое.\n",
    "* **ponds_around3000** — заменили на тип int, потому что количество водоёмов может быть только целое.\n",
    "\n",
    "\n"
   ]
  },
  {
   "cell_type": "markdown",
   "metadata": {},
   "source": [
    "## Расчёты и добавление результатов в таблицу"
   ]
  },
  {
   "cell_type": "code",
   "execution_count": 149,
   "metadata": {},
   "outputs": [
    {
     "data": {
      "text/html": [
       "<div>\n",
       "<style scoped>\n",
       "    .dataframe tbody tr th:only-of-type {\n",
       "        vertical-align: middle;\n",
       "    }\n",
       "\n",
       "    .dataframe tbody tr th {\n",
       "        vertical-align: top;\n",
       "    }\n",
       "\n",
       "    .dataframe thead th {\n",
       "        text-align: right;\n",
       "    }\n",
       "</style>\n",
       "<table border=\"1\" class=\"dataframe\">\n",
       "  <thead>\n",
       "    <tr style=\"text-align: right;\">\n",
       "      <th></th>\n",
       "      <th>total_images</th>\n",
       "      <th>last_price</th>\n",
       "      <th>total_area</th>\n",
       "      <th>first_day_exposition</th>\n",
       "      <th>rooms</th>\n",
       "      <th>ceiling_height</th>\n",
       "      <th>floors_total</th>\n",
       "      <th>living_area</th>\n",
       "      <th>floor</th>\n",
       "      <th>is_apartment</th>\n",
       "      <th>...</th>\n",
       "      <th>ponds_around3000</th>\n",
       "      <th>ponds_nearest</th>\n",
       "      <th>days_exposition</th>\n",
       "      <th>cost_meter</th>\n",
       "      <th>weekday</th>\n",
       "      <th>month</th>\n",
       "      <th>year</th>\n",
       "      <th>floor_type</th>\n",
       "      <th>living_per_total</th>\n",
       "      <th>kitchen_per_total</th>\n",
       "    </tr>\n",
       "  </thead>\n",
       "  <tbody>\n",
       "    <tr>\n",
       "      <th>0</th>\n",
       "      <td>20</td>\n",
       "      <td>13000000</td>\n",
       "      <td>108.0</td>\n",
       "      <td>2019-03-07</td>\n",
       "      <td>3</td>\n",
       "      <td>2.70</td>\n",
       "      <td>16</td>\n",
       "      <td>51.0</td>\n",
       "      <td>8</td>\n",
       "      <td>True</td>\n",
       "      <td>...</td>\n",
       "      <td>2</td>\n",
       "      <td>755.0</td>\n",
       "      <td>95</td>\n",
       "      <td>120370.370370</td>\n",
       "      <td>3</td>\n",
       "      <td>3</td>\n",
       "      <td>2019</td>\n",
       "      <td>Другой</td>\n",
       "      <td>0.472222</td>\n",
       "      <td>0.231481</td>\n",
       "    </tr>\n",
       "    <tr>\n",
       "      <th>1</th>\n",
       "      <td>7</td>\n",
       "      <td>3350000</td>\n",
       "      <td>40.4</td>\n",
       "      <td>2018-12-04</td>\n",
       "      <td>1</td>\n",
       "      <td>2.64</td>\n",
       "      <td>11</td>\n",
       "      <td>18.6</td>\n",
       "      <td>1</td>\n",
       "      <td>True</td>\n",
       "      <td>...</td>\n",
       "      <td>0</td>\n",
       "      <td>NaN</td>\n",
       "      <td>81</td>\n",
       "      <td>82920.792079</td>\n",
       "      <td>1</td>\n",
       "      <td>12</td>\n",
       "      <td>2018</td>\n",
       "      <td>Первый</td>\n",
       "      <td>0.460396</td>\n",
       "      <td>0.272277</td>\n",
       "    </tr>\n",
       "    <tr>\n",
       "      <th>2</th>\n",
       "      <td>10</td>\n",
       "      <td>5196000</td>\n",
       "      <td>56.0</td>\n",
       "      <td>2015-08-20</td>\n",
       "      <td>2</td>\n",
       "      <td>2.60</td>\n",
       "      <td>5</td>\n",
       "      <td>34.3</td>\n",
       "      <td>4</td>\n",
       "      <td>True</td>\n",
       "      <td>...</td>\n",
       "      <td>2</td>\n",
       "      <td>574.0</td>\n",
       "      <td>558</td>\n",
       "      <td>92785.714286</td>\n",
       "      <td>3</td>\n",
       "      <td>8</td>\n",
       "      <td>2015</td>\n",
       "      <td>Другой</td>\n",
       "      <td>0.612500</td>\n",
       "      <td>0.148214</td>\n",
       "    </tr>\n",
       "    <tr>\n",
       "      <th>3</th>\n",
       "      <td>0</td>\n",
       "      <td>64900000</td>\n",
       "      <td>159.0</td>\n",
       "      <td>2015-07-24</td>\n",
       "      <td>3</td>\n",
       "      <td>2.65</td>\n",
       "      <td>14</td>\n",
       "      <td>NaN</td>\n",
       "      <td>9</td>\n",
       "      <td>True</td>\n",
       "      <td>...</td>\n",
       "      <td>3</td>\n",
       "      <td>234.0</td>\n",
       "      <td>424</td>\n",
       "      <td>408176.100629</td>\n",
       "      <td>4</td>\n",
       "      <td>7</td>\n",
       "      <td>2015</td>\n",
       "      <td>Другой</td>\n",
       "      <td>NaN</td>\n",
       "      <td>NaN</td>\n",
       "    </tr>\n",
       "    <tr>\n",
       "      <th>4</th>\n",
       "      <td>2</td>\n",
       "      <td>10000000</td>\n",
       "      <td>100.0</td>\n",
       "      <td>2018-06-19</td>\n",
       "      <td>2</td>\n",
       "      <td>3.03</td>\n",
       "      <td>14</td>\n",
       "      <td>32.0</td>\n",
       "      <td>13</td>\n",
       "      <td>True</td>\n",
       "      <td>...</td>\n",
       "      <td>1</td>\n",
       "      <td>48.0</td>\n",
       "      <td>121</td>\n",
       "      <td>100000.000000</td>\n",
       "      <td>1</td>\n",
       "      <td>6</td>\n",
       "      <td>2018</td>\n",
       "      <td>Другой</td>\n",
       "      <td>0.320000</td>\n",
       "      <td>0.410000</td>\n",
       "    </tr>\n",
       "  </tbody>\n",
       "</table>\n",
       "<p>5 rows × 29 columns</p>\n",
       "</div>"
      ],
      "text/plain": [
       "   total_images  last_price  total_area first_day_exposition  rooms  \\\n",
       "0            20    13000000       108.0           2019-03-07      3   \n",
       "1             7     3350000        40.4           2018-12-04      1   \n",
       "2            10     5196000        56.0           2015-08-20      2   \n",
       "3             0    64900000       159.0           2015-07-24      3   \n",
       "4             2    10000000       100.0           2018-06-19      2   \n",
       "\n",
       "   ceiling_height  floors_total  living_area  floor  is_apartment  ...  \\\n",
       "0            2.70            16         51.0      8          True  ...   \n",
       "1            2.64            11         18.6      1          True  ...   \n",
       "2            2.60             5         34.3      4          True  ...   \n",
       "3            2.65            14          NaN      9          True  ...   \n",
       "4            3.03            14         32.0     13          True  ...   \n",
       "\n",
       "   ponds_around3000  ponds_nearest  days_exposition     cost_meter weekday  \\\n",
       "0                 2          755.0               95  120370.370370       3   \n",
       "1                 0            NaN               81   82920.792079       1   \n",
       "2                 2          574.0              558   92785.714286       3   \n",
       "3                 3          234.0              424  408176.100629       4   \n",
       "4                 1           48.0              121  100000.000000       1   \n",
       "\n",
       "   month  year  floor_type  living_per_total  kitchen_per_total  \n",
       "0      3  2019      Другой          0.472222           0.231481  \n",
       "1     12  2018      Первый          0.460396           0.272277  \n",
       "2      8  2015      Другой          0.612500           0.148214  \n",
       "3      7  2015      Другой               NaN                NaN  \n",
       "4      6  2018      Другой          0.320000           0.410000  \n",
       "\n",
       "[5 rows x 29 columns]"
      ]
     },
     "metadata": {},
     "output_type": "display_data"
    }
   ],
   "source": [
    "# Расчет цены квадратного метра\n",
    "data['cost_meter'] = data['last_price'] / data['total_area']\n",
    "\n",
    "# День недели, месяц и год публикации объявления\n",
    "data['first_day_exposition'] = pd.to_datetime(data['first_day_exposition'], format='%Y-%m-%d %H:%M')\n",
    "\n",
    "data['weekday'] = data['first_day_exposition'].dt.weekday\n",
    "data['month'] = data['first_day_exposition'].dt.month\n",
    "data['year'] = data['first_day_exposition'].dt.year\n",
    "\n",
    "# Этаж квартиры\n",
    "def floor_type(row):\n",
    "    floor = row['floor']\n",
    "    max_floor = row['floors_total']\n",
    "    if floor == 1:\n",
    "        return 'Первый'\n",
    "    elif floor == max_floor:\n",
    "        return 'Последний'\n",
    "    else:\n",
    "        return 'Другой'\n",
    "    \n",
    "data['floor_type'] = data.apply(floor_type, axis=1)\n",
    "\n",
    "# Соотношение жилой и общей площади\n",
    "data['living_per_total'] = data['living_area'] / data['total_area']\n",
    "\n",
    "# Соотношение площади кухни к общей площади\n",
    "data['kitchen_per_total'] = data['kitchen_area'] / data['total_area']\n",
    "\n",
    "display(data.head(5))"
   ]
  },
  {
   "cell_type": "markdown",
   "metadata": {},
   "source": [
    "## Исследовательский анализ данных"
   ]
  },
  {
   "cell_type": "markdown",
   "metadata": {},
   "source": [
    "### Изучите следующие параметры:\n",
    "площадь, цена, число комнат, высота потолков. Постройте гистограммы для каждого параметра."
   ]
  },
  {
   "cell_type": "code",
   "execution_count": 150,
   "metadata": {},
   "outputs": [
    {
     "data": {
      "text/plain": [
       "array([[<AxesSubplot:title={'center':'ceiling_height'}>]], dtype=object)"
      ]
     },
     "execution_count": 150,
     "metadata": {},
     "output_type": "execute_result"
    },
    {
     "data": {
      "image/png": "[encoded data removed]",
      "text/plain": [
       "<Figure size 432x288 with 1 Axes>"
      ]
     },
     "metadata": {
      "needs_background": "light"
     },
     "output_type": "display_data"
    },
    {
     "data": {
      "image/png": "[encoded data removed]",
      "text/plain": [
       "<Figure size 432x288 with 1 Axes>"
      ]
     },
     "metadata": {
      "needs_background": "light"
     },
     "output_type": "display_data"
    },
    {
     "data": {
      "image/png": "[encoded data removed]",
      "text/plain": [
       "<Figure size 432x288 with 1 Axes>"
      ]
     },
     "metadata": {
      "needs_background": "light"
     },
     "output_type": "display_data"
    },
    {
     "data": {
      "image/png": "[encoded data removed]",
      "text/plain": [
       "<Figure size 432x288 with 1 Axes>"
      ]
     },
     "metadata": {
      "needs_background": "light"
     },
     "output_type": "display_data"
    }
   ],
   "source": [
    "# Гистрограмма для площади\n",
    "data.hist('total_area', bins=100, range=(0, 400))\n",
    "\n",
    "# Гистрограмма для wtys\n",
    "data.hist('last_price', bins=100, range=(0, 20000000))\n",
    "\n",
    "# Гистрограмма для числа комнат\n",
    "data.hist('rooms', range=(0,10))\n",
    "\n",
    "# Гистрограмма для высоты потолков\n",
    "data.hist('ceiling_height', bins=10, range=(0,5))\n",
    "#display(data['ceiling_height'].value_counts().sort_values())"
   ]
  },
  {
   "cell_type": "markdown",
   "metadata": {},
   "source": [
    "Было проделано огромное количесво итераций для определения хорошего количества корзин, чтобы чуть более наглядно понимать, распределение большинства значений.\n",
    "\n",
    "Так было определено, что:\n",
    "* Большая часть недвижимости от 25 до 75 квадратов, пик в 40-50 квадратов\n",
    "* Большая часть недвижимости в датасете стоит от 2,5 до 6млн рублей, пик 3-4млн рублей\n",
    "* Больше всего продаются жил. площади с 1-2 комнатами и не сильно уступают им 3х комнатные\n",
    "* Больше всего недвижимости с потолками от 2,5 до 3 метров"
   ]
  },
  {
   "cell_type": "markdown",
   "metadata": {},
   "source": [
    "### Изучите время продажи квартиры.\n",
    "Постройте гистограмму. Посчитайте среднее и медиану. Опишите, сколько обычно занимает продажа. Когда можно считать, что продажи прошли очень быстро, а когда необычно долго?"
   ]
  },
  {
   "cell_type": "code",
   "execution_count": 151,
   "metadata": {},
   "outputs": [
    {
     "data": {
      "text/plain": [
       "count    23699.000000\n",
       "mean       169.360226\n",
       "std        206.535633\n",
       "min          1.000000\n",
       "25%         45.000000\n",
       "50%         95.000000\n",
       "75%        199.000000\n",
       "max       1580.000000\n",
       "Name: days_exposition, dtype: float64"
      ]
     },
     "metadata": {},
     "output_type": "display_data"
    },
    {
     "data": {
      "text/plain": [
       "1"
      ]
     },
     "metadata": {},
     "output_type": "display_data"
    },
    {
     "data": {
      "image/png": "[encoded data removed]",
      "text/plain": [
       "<Figure size 432x288 with 1 Axes>"
      ]
     },
     "metadata": {
      "needs_background": "light"
     },
     "output_type": "display_data"
    }
   ],
   "source": [
    "display(data['days_exposition'].describe())\n",
    "data['days_exposition'].hist(bins=100)\n",
    "# data['days_exposition'].hist(bins=100, range=(0,150))\n",
    "display(data[data['days_exposition'] == 1]['days_exposition'].sum())"
   ]
  },
  {
   "cell_type": "markdown",
   "metadata": {},
   "source": [
    "* Среднее равно = 169.360226, медиана = 95.000000. \n",
    "* Пик \"быстроты\" продаж занимает диапозон от 0-100 дней продажи. \n",
    "* Самая быстрая и долгая продажи так же 1 день и 1580.\n",
    "\n",
    "Все продажи, что прошли раньше, чем 100 дней - можно считать достаточно быстрыми, а те что дольше 199 дней - аномально долгими (например 1580 дней, почти 5 лет)\n",
    "\n",
    "Так же можно увидеть три интересных пика на отрезке от 30-100 дней. За 95 дней продалось более 3000 объектов недвижимости."
   ]
  },
  {
   "cell_type": "markdown",
   "metadata": {},
   "source": [
    "### Уберите редкие и выбивающиеся значения.\n",
    "Опишите, какие особенности обнаружили."
   ]
  },
  {
   "cell_type": "code",
   "execution_count": 152,
   "metadata": {},
   "outputs": [
    {
     "data": {
      "text/plain": [
       "count    23699.000000\n",
       "mean        60.348651\n",
       "std         35.654083\n",
       "min         12.000000\n",
       "25%         40.000000\n",
       "50%         52.000000\n",
       "75%         69.900000\n",
       "max        900.000000\n",
       "Name: total_area, dtype: float64"
      ]
     },
     "metadata": {},
     "output_type": "display_data"
    }
   ],
   "source": [
    "# new_data = data.query('days_exposition > =45 and days_exposition <= 199')\n",
    "# new_data['days_exposition'].hist()\n",
    "\n",
    "display(data['total_area'].describe())"
   ]
  },
  {
   "cell_type": "code",
   "execution_count": 153,
   "metadata": {},
   "outputs": [
    {
     "data": {
      "text/plain": [
       "count    2.369900e+04\n",
       "mean     6.541549e+06\n",
       "std      1.088701e+07\n",
       "min      1.219000e+04\n",
       "25%      3.400000e+06\n",
       "50%      4.650000e+06\n",
       "75%      6.800000e+06\n",
       "max      7.630000e+08\n",
       "Name: last_price, dtype: float64"
      ]
     },
     "metadata": {},
     "output_type": "display_data"
    }
   ],
   "source": [
    "# 1.5 * IQR = 1.5 * (69-12) = 43.5. левый ус = 0, правый ус = 112,5\n",
    "new_data = data.query('total_area <= 112.5')\n",
    "\n",
    "display(data['last_price'].describe())"
   ]
  },
  {
   "cell_type": "code",
   "execution_count": 154,
   "metadata": {},
   "outputs": [
    {
     "data": {
      "text/plain": [
       "count    23699.000000\n",
       "mean         2.070636\n",
       "std          1.078405\n",
       "min          0.000000\n",
       "25%          1.000000\n",
       "50%          2.000000\n",
       "75%          3.000000\n",
       "max         19.000000\n",
       "Name: rooms, dtype: float64"
      ]
     },
     "metadata": {},
     "output_type": "display_data"
    },
    {
     "data": {
      "text/plain": [
       "(21451, 29)"
      ]
     },
     "execution_count": 154,
     "metadata": {},
     "output_type": "execute_result"
    }
   ],
   "source": [
    "# 1.5 * IQR = 1.5 * (6.8-3.4)*10^6 = 5.1. левый ус = 0, правый ус = 1,19 *10^7\n",
    "new_data = new_data.query('last_price <= 11.9 * 10 ** 6')\n",
    "\n",
    "display(data['rooms'].describe())\n",
    "new_data.shape"
   ]
  },
  {
   "cell_type": "code",
   "execution_count": 155,
   "metadata": {},
   "outputs": [
    {
     "data": {
      "text/plain": [
       "count    23699.000000\n",
       "mean         2.722425\n",
       "std          0.989851\n",
       "min          0.000000\n",
       "25%          2.600000\n",
       "50%          2.640000\n",
       "75%          2.700000\n",
       "max        100.000000\n",
       "Name: ceiling_height, dtype: float64"
      ]
     },
     "metadata": {},
     "output_type": "display_data"
    },
    {
     "data": {
      "text/plain": [
       "(21451, 29)"
      ]
     },
     "execution_count": 155,
     "metadata": {},
     "output_type": "execute_result"
    }
   ],
   "source": [
    "# 1.5 * IQR = 1.5 * (3-1) = 3. левый ус = 0, правый ус = 6\n",
    "new_data = new_data.query('rooms <= 6')\n",
    "\n",
    "display(data['ceiling_height'].describe())\n",
    "new_data.shape"
   ]
  },
  {
   "cell_type": "code",
   "execution_count": 156,
   "metadata": {},
   "outputs": [
    {
     "data": {
      "text/plain": [
       "2.60    4598\n",
       "2.64    3501\n",
       "2.50    3479\n",
       "2.65    2408\n",
       "2.70    1484\n",
       "2.80    1046\n",
       "2.55     973\n",
       "2.75     941\n",
       "2.56     138\n",
       "2.57     101\n",
       "2.85      83\n",
       "2.54      82\n",
       "2.52      79\n",
       "2.53      67\n",
       "2.58      62\n",
       "2.77      55\n",
       "2.76      51\n",
       "2.78      44\n",
       "2.67      36\n",
       "2.51      34\n",
       "2.74      26\n",
       "2.72      24\n",
       "2.73      23\n",
       "2.68      23\n",
       "2.66      17\n",
       "2.84      16\n",
       "2.82      16\n",
       "2.45      15\n",
       "2.59      14\n",
       "2.62      12\n",
       "2.63      12\n",
       "2.83      11\n",
       "2.71      11\n",
       "2.79       9\n",
       "2.81       8\n",
       "2.48       8\n",
       "2.61       5\n",
       "2.47       3\n",
       "2.46       2\n",
       "2.69       2\n",
       "2.49       1\n",
       "Name: ceiling_height, dtype: int64"
      ]
     },
     "metadata": {},
     "output_type": "display_data"
    },
    {
     "data": {
      "text/plain": [
       "(19520, 29)"
      ]
     },
     "execution_count": 156,
     "metadata": {},
     "output_type": "execute_result"
    }
   ],
   "source": [
    "# 1.5 * IQR = 1.5 * (2.7-2.6) = 0.15. левый ус = 2.45, правый ус = 2.85\n",
    "new_data = new_data.query('ceiling_height >= 2.45 and ceiling_height <= 2.85')\n",
    "\n",
    "display(new_data['ceiling_height'].value_counts())\n",
    "new_data.shape"
   ]
  },
  {
   "cell_type": "markdown",
   "metadata": {},
   "source": [
    "После \"отсечения\" редких и выбивающихся значений, у нас остался датасет с данными в следующих диапазонах:\n",
    "\n",
    "Общей площадью от 0 до 112,5 квадратных метров, стоимостью до 11,9 млн рублей; с кол-вом комнат  до 6; и высостой потолков от 2.45 до 2.85 метров."
   ]
  },
  {
   "cell_type": "markdown",
   "metadata": {},
   "source": [
    "#### Зависимость цены от площади"
   ]
  },
  {
   "cell_type": "code",
   "execution_count": 157,
   "metadata": {},
   "outputs": [
    {
     "name": "stdout",
     "output_type": "stream",
     "text": [
      "0.6772886526996743\n"
     ]
    },
    {
     "data": {
      "text/plain": [
       "<AxesSubplot:xlabel='total_area', ylabel='last_price'>"
      ]
     },
     "execution_count": 157,
     "metadata": {},
     "output_type": "execute_result"
    },
    {
     "data": {
      "image/png": "[encoded data removed]",
      "text/plain": [
       "<Figure size 432x288 with 1 Axes>"
      ]
     },
     "metadata": {
      "needs_background": "light"
     },
     "output_type": "display_data"
    }
   ],
   "source": [
    "print(new_data['total_area'].corr(new_data['last_price']))\n",
    "new_data.plot(x='total_area', y='last_price', kind='scatter')\n"
   ]
  },
  {
   "cell_type": "markdown",
   "metadata": {},
   "source": [
    "Полученный коэффициент корреляции равен 0,53. Такой коэффциент может лишь сказать, что есть средняя прямая зависимость цены от площади объекта недвижимости. А из графика по нашему новому датасету видно, что однозначной прямой зависимости нет. Так как есть объекты разных площадей и разных цен соотвественно, т.е. есть большие объекты дешевые и дорогие и средней цены, так же есть маленькие объекты во всем ценновом диапозоне и т.д."
   ]
  },
  {
   "cell_type": "markdown",
   "metadata": {},
   "source": [
    "#### Зависимость цены от количества комнат"
   ]
  },
  {
   "cell_type": "code",
   "execution_count": 158,
   "metadata": {},
   "outputs": [
    {
     "data": {
      "text/html": [
       "<div>\n",
       "<style scoped>\n",
       "    .dataframe tbody tr th:only-of-type {\n",
       "        vertical-align: middle;\n",
       "    }\n",
       "\n",
       "    .dataframe tbody tr th {\n",
       "        vertical-align: top;\n",
       "    }\n",
       "\n",
       "    .dataframe thead th {\n",
       "        text-align: right;\n",
       "    }\n",
       "</style>\n",
       "<table border=\"1\" class=\"dataframe\">\n",
       "  <thead>\n",
       "    <tr style=\"text-align: right;\">\n",
       "      <th></th>\n",
       "      <th>last_price</th>\n",
       "    </tr>\n",
       "    <tr>\n",
       "      <th>rooms</th>\n",
       "      <th></th>\n",
       "    </tr>\n",
       "  </thead>\n",
       "  <tbody>\n",
       "    <tr>\n",
       "      <th>0</th>\n",
       "      <td>2700000</td>\n",
       "    </tr>\n",
       "    <tr>\n",
       "      <th>1</th>\n",
       "      <td>3550000</td>\n",
       "    </tr>\n",
       "    <tr>\n",
       "      <th>2</th>\n",
       "      <td>4505000</td>\n",
       "    </tr>\n",
       "    <tr>\n",
       "      <th>5</th>\n",
       "      <td>5450000</td>\n",
       "    </tr>\n",
       "    <tr>\n",
       "      <th>3</th>\n",
       "      <td>5500000</td>\n",
       "    </tr>\n",
       "    <tr>\n",
       "      <th>4</th>\n",
       "      <td>5996500</td>\n",
       "    </tr>\n",
       "    <tr>\n",
       "      <th>6</th>\n",
       "      <td>7982000</td>\n",
       "    </tr>\n",
       "  </tbody>\n",
       "</table>\n",
       "</div>"
      ],
      "text/plain": [
       "       last_price\n",
       "rooms            \n",
       "0         2700000\n",
       "1         3550000\n",
       "2         4505000\n",
       "5         5450000\n",
       "3         5500000\n",
       "4         5996500\n",
       "6         7982000"
      ]
     },
     "metadata": {},
     "output_type": "display_data"
    },
    {
     "data": {
      "text/plain": [
       "<AxesSubplot:xlabel='rooms'>"
      ]
     },
     "execution_count": 158,
     "metadata": {},
     "output_type": "execute_result"
    },
    {
     "data": {
      "image/png": "[encoded data removed]",
      "text/plain": [
       "<Figure size 432x288 with 1 Axes>"
      ]
     },
     "metadata": {
      "needs_background": "light"
     },
     "output_type": "display_data"
    }
   ],
   "source": [
    "new_data_rooms = new_data.pivot_table(index='rooms', values='last_price', aggfunc='median').sort_values(by='last_price')\n",
    "display(new_data_rooms)\n",
    "new_data_rooms.plot(y='last_price', kind='bar')\n",
    "\n",
    "#new_data.boxplot(column='rooms')\n",
    "\n",
    "# print(new_data['rooms'].corr(new_data['last_price']))\n",
    "# new_data.plot(x='rooms', y='last_price', kind='scatter')"
   ]
  },
  {
   "cell_type": "markdown",
   "metadata": {},
   "source": [
    "Из полученного графика видим, что по медианной цене 1-комнатные объекты продаются гораздо дешевле, чем, например, трех-комнатные."
   ]
  },
  {
   "cell_type": "markdown",
   "metadata": {},
   "source": [
    "#### Зависимость цены от расстояния до центра"
   ]
  },
  {
   "cell_type": "code",
   "execution_count": 159,
   "metadata": {},
   "outputs": [
    {
     "name": "stdout",
     "output_type": "stream",
     "text": [
      "-0.3055003662232496\n"
     ]
    },
    {
     "data": {
      "text/plain": [
       "<AxesSubplot:xlabel='cityCenters_nearest', ylabel='last_price'>"
      ]
     },
     "execution_count": 159,
     "metadata": {},
     "output_type": "execute_result"
    },
    {
     "data": {
      "image/png": "[encoded data removed]",
      "text/plain": [
       "<Figure size 432x288 with 1 Axes>"
      ]
     },
     "metadata": {
      "needs_background": "light"
     },
     "output_type": "display_data"
    }
   ],
   "source": [
    "print(new_data['cityCenters_nearest'].corr(new_data['last_price']))\n",
    "new_data.plot(x='cityCenters_nearest', y='last_price', kind='scatter')\n",
    "\n",
    "# new_citynearest_data = data.query('last_price <= 1.5 * 10 ** 8')\n",
    "# print(new_citynearest_data['cityCenters_nearest'].corr(new_citynearest_data['last_price']))\n",
    "# new_citynearest_data.plot(x='cityCenters_nearest', y='last_price', kind='scatter')"
   ]
  },
  {
   "cell_type": "markdown",
   "metadata": {},
   "source": [
    "Хоть и коэффицент корреляции отрицательный и близок к нулю (-0.25) из графика мы видим, что в разы больше объектов недвижимости в районе от 8км до 20км и они с большей вероятностью стоят дороже чем те, что находятся на расстоянии больше 40км от центра."
   ]
  },
  {
   "cell_type": "markdown",
   "metadata": {},
   "source": [
    "#### Зависимость цены от этажности"
   ]
  },
  {
   "cell_type": "code",
   "execution_count": 160,
   "metadata": {},
   "outputs": [
    {
     "data": {
      "text/html": [
       "<div>\n",
       "<style scoped>\n",
       "    .dataframe tbody tr th:only-of-type {\n",
       "        vertical-align: middle;\n",
       "    }\n",
       "\n",
       "    .dataframe tbody tr th {\n",
       "        vertical-align: top;\n",
       "    }\n",
       "\n",
       "    .dataframe thead th {\n",
       "        text-align: right;\n",
       "    }\n",
       "</style>\n",
       "<table border=\"1\" class=\"dataframe\">\n",
       "  <thead>\n",
       "    <tr style=\"text-align: right;\">\n",
       "      <th></th>\n",
       "      <th>last_price</th>\n",
       "    </tr>\n",
       "    <tr>\n",
       "      <th>floor_type</th>\n",
       "      <th></th>\n",
       "    </tr>\n",
       "  </thead>\n",
       "  <tbody>\n",
       "    <tr>\n",
       "      <th>Первый</th>\n",
       "      <td>3600000</td>\n",
       "    </tr>\n",
       "    <tr>\n",
       "      <th>Последний</th>\n",
       "      <td>3800000</td>\n",
       "    </tr>\n",
       "    <tr>\n",
       "      <th>Другой</th>\n",
       "      <td>4450000</td>\n",
       "    </tr>\n",
       "  </tbody>\n",
       "</table>\n",
       "</div>"
      ],
      "text/plain": [
       "            last_price\n",
       "floor_type            \n",
       "Первый         3600000\n",
       "Последний      3800000\n",
       "Другой         4450000"
      ]
     },
     "metadata": {},
     "output_type": "display_data"
    },
    {
     "data": {
      "text/plain": [
       "<AxesSubplot:xlabel='floor_type'>"
      ]
     },
     "execution_count": 160,
     "metadata": {},
     "output_type": "execute_result"
    },
    {
     "data": {
      "image/png": "[encoded data removed]",
      "text/plain": [
       "<Figure size 432x288 with 1 Axes>"
      ]
     },
     "metadata": {
      "needs_background": "light"
     },
     "output_type": "display_data"
    }
   ],
   "source": [
    "new_data_floor = new_data.pivot_table(index='floor_type', values='last_price', aggfunc='median').sort_values(by='last_price')\n",
    "display(new_data_floor)\n",
    "new_data_floor.plot(y='last_price', kind='bar')\n",
    "\n",
    "# data['neww'] = data['floor_type']\n",
    "# data['neww'].replace(['Первый', 'Другой', 'Последний'], [0,1,2], inplace=True)\n",
    "# print(data['neww'].corr(data['last_price']))\n",
    "# data.plot(x='neww', y='last_price', kind='scatter')\n"
   ]
  },
  {
   "cell_type": "markdown",
   "metadata": {},
   "source": [
    "Из полученного графика видим, что по медианной цене объекты, находящиеся на первом этаже продаются дешевле, чем объекты, находящиеся на других этажах, кроме последнего."
   ]
  },
  {
   "cell_type": "markdown",
   "metadata": {},
   "source": [
    "#### Зависимость цены от дня недели"
   ]
  },
  {
   "cell_type": "code",
   "execution_count": 161,
   "metadata": {},
   "outputs": [
    {
     "name": "stdout",
     "output_type": "stream",
     "text": [
      "         last_price\n",
      "weekday            \n",
      "0           4300000\n",
      "1           4250000\n",
      "2           4300000\n",
      "3           4200000\n",
      "4           4200000\n",
      "5           4248000\n",
      "6           4250000\n"
     ]
    },
    {
     "data": {
      "text/plain": [
       "<AxesSubplot:xlabel='weekday'>"
      ]
     },
     "execution_count": 161,
     "metadata": {},
     "output_type": "execute_result"
    },
    {
     "data": {
      "image/png": "[encoded data removed]",
      "text/plain": [
       "<Figure size 432x288 with 1 Axes>"
      ]
     },
     "metadata": {
      "needs_background": "light"
     },
     "output_type": "display_data"
    }
   ],
   "source": [
    "new_data_weekday = new_data.pivot_table(index='weekday', values='last_price', aggfunc='median')\n",
    "print(new_data_weekday)\n",
    "new_data_weekday.plot(y='last_price', kind='bar')\n",
    "\n",
    "# print(data['weekday'].corr(data['last_price']))\n",
    "# data.plot(x='weekday', y='last_price', kind='scatter')\n"
   ]
  },
  {
   "cell_type": "markdown",
   "metadata": {},
   "source": [
    "На графике видим, что ярковыраженной зависимости цены от дня недели продажи нет. Можно отметить, что по медианной цене в выходные дни и вторники объекты продаются чуть дороже, возможно люди чуть добрее в эти дни. А в четверг и среду, наоборот объекты продаются чуть дешевле, видимо, наоборот продавцы более щедры."
   ]
  },
  {
   "cell_type": "markdown",
   "metadata": {},
   "source": [
    "#### Зависимость цены от месяца"
   ]
  },
  {
   "cell_type": "code",
   "execution_count": 162,
   "metadata": {},
   "outputs": [
    {
     "name": "stdout",
     "output_type": "stream",
     "text": [
      "       last_price\n",
      "month            \n",
      "1       4243000.0\n",
      "2       4216697.5\n",
      "3       4300000.0\n",
      "4       4435000.0\n",
      "5       4250000.0\n",
      "6       4100000.0\n",
      "7       4190000.0\n",
      "8       4200000.0\n",
      "9       4275000.0\n",
      "10      4220000.0\n",
      "11      4300000.0\n",
      "12      4250000.0\n"
     ]
    },
    {
     "data": {
      "text/plain": [
       "<AxesSubplot:xlabel='month'>"
      ]
     },
     "execution_count": 162,
     "metadata": {},
     "output_type": "execute_result"
    },
    {
     "data": {
      "image/png": "[encoded data removed]",
      "text/plain": [
       "<Figure size 432x288 with 1 Axes>"
      ]
     },
     "metadata": {
      "needs_background": "light"
     },
     "output_type": "display_data"
    }
   ],
   "source": [
    "new_data_month = new_data.pivot_table(index='month', values='last_price', aggfunc='median')\n",
    "print(new_data_month)\n",
    "new_data_month.plot(y='last_price', kind='bar')\n",
    "\n",
    "# print(data['month'].corr(data['last_price']))\n",
    "# data.plot(x='month', y='last_price', kind='scatter')\n"
   ]
  },
  {
   "cell_type": "markdown",
   "metadata": {},
   "source": [
    "В мае и июне объекты недвижимости продаются немного дешевле, чем в остальные месяцы. И наоборот в марте и апреле пик стоимости проданных объектов недвижимости."
   ]
  },
  {
   "cell_type": "markdown",
   "metadata": {},
   "source": [
    "#### Зависимость цены от года"
   ]
  },
  {
   "cell_type": "code",
   "execution_count": 163,
   "metadata": {},
   "outputs": [
    {
     "name": "stdout",
     "output_type": "stream",
     "text": [
      "      last_price\n",
      "year            \n",
      "2014     4600000\n",
      "2015     4590000\n",
      "2016     4150000\n",
      "2017     4140000\n",
      "2018     4200000\n",
      "2019     4600000\n"
     ]
    },
    {
     "data": {
      "text/plain": [
       "<AxesSubplot:xlabel='year'>"
      ]
     },
     "execution_count": 163,
     "metadata": {},
     "output_type": "execute_result"
    },
    {
     "data": {
      "image/png": "[encoded data removed]",
      "text/plain": [
       "<Figure size 432x288 with 1 Axes>"
      ]
     },
     "metadata": {
      "needs_background": "light"
     },
     "output_type": "display_data"
    }
   ],
   "source": [
    "new_data_year = new_data.pivot_table(index='year', values='last_price', aggfunc='median')\n",
    "print(new_data_year)\n",
    "new_data_year.plot(y='last_price', kind='bar')\n",
    "\n",
    "# new_data_year.boxplot(grid=True)\n",
    "\n",
    "# print(data['year'].corr(data['last_price']))\n",
    "# data.plot(x='year', y='last_price', kind='scatter')"
   ]
  },
  {
   "cell_type": "markdown",
   "metadata": {},
   "source": [
    "в 2019 и 2014 году недвижимость продавалась гораздо дороже, чем, например в 2016 и 2017 годах."
   ]
  },
  {
   "cell_type": "markdown",
   "metadata": {},
   "source": [
    "### Выберите 10 населённых пунктов с наибольшим числом объявлений.\n",
    "Посчитайте среднюю цену квадратного метра в этих населённых пунктах. Выделите населённые пункты с самой высокой и низкой стоимостью жилья. Эти данные можно найти по имени в столбце locality_name."
   ]
  },
  {
   "cell_type": "code",
   "execution_count": 164,
   "metadata": {},
   "outputs": [
    {
     "data": {
      "text/html": [
       "<div>\n",
       "<style scoped>\n",
       "    .dataframe tbody tr th:only-of-type {\n",
       "        vertical-align: middle;\n",
       "    }\n",
       "\n",
       "    .dataframe tbody tr th {\n",
       "        vertical-align: top;\n",
       "    }\n",
       "\n",
       "    .dataframe thead th {\n",
       "        text-align: right;\n",
       "    }\n",
       "</style>\n",
       "<table border=\"1\" class=\"dataframe\">\n",
       "  <thead>\n",
       "    <tr style=\"text-align: right;\">\n",
       "      <th></th>\n",
       "      <th>count</th>\n",
       "      <th>mean</th>\n",
       "    </tr>\n",
       "    <tr>\n",
       "      <th>locality_name</th>\n",
       "      <th></th>\n",
       "      <th></th>\n",
       "    </tr>\n",
       "  </thead>\n",
       "  <tbody>\n",
       "    <tr>\n",
       "      <th>Выборг</th>\n",
       "      <td>237</td>\n",
       "      <td>58141.909153</td>\n",
       "    </tr>\n",
       "    <tr>\n",
       "      <th>Всеволожск</th>\n",
       "      <td>398</td>\n",
       "      <td>68654.473986</td>\n",
       "    </tr>\n",
       "    <tr>\n",
       "      <th>Гатчина</th>\n",
       "      <td>307</td>\n",
       "      <td>68746.146763</td>\n",
       "    </tr>\n",
       "    <tr>\n",
       "      <th>Колпино</th>\n",
       "      <td>338</td>\n",
       "      <td>75424.579098</td>\n",
       "    </tr>\n",
       "    <tr>\n",
       "      <th>посёлок Шушары</th>\n",
       "      <td>440</td>\n",
       "      <td>78677.364217</td>\n",
       "    </tr>\n",
       "    <tr>\n",
       "      <th>посёлок Мурино</th>\n",
       "      <td>522</td>\n",
       "      <td>85752.189195</td>\n",
       "    </tr>\n",
       "    <tr>\n",
       "      <th>посёлок Парголово</th>\n",
       "      <td>327</td>\n",
       "      <td>90175.913458</td>\n",
       "    </tr>\n",
       "    <tr>\n",
       "      <th>деревня Кудрово</th>\n",
       "      <td>299</td>\n",
       "      <td>92473.547576</td>\n",
       "    </tr>\n",
       "    <tr>\n",
       "      <th>Пушкин</th>\n",
       "      <td>369</td>\n",
       "      <td>103125.819291</td>\n",
       "    </tr>\n",
       "    <tr>\n",
       "      <th>Санкт-Петербург</th>\n",
       "      <td>15721</td>\n",
       "      <td>114849.008794</td>\n",
       "    </tr>\n",
       "  </tbody>\n",
       "</table>\n",
       "</div>"
      ],
      "text/plain": [
       "                   count           mean\n",
       "locality_name                          \n",
       "Выборг               237   58141.909153\n",
       "Всеволожск           398   68654.473986\n",
       "Гатчина              307   68746.146763\n",
       "Колпино              338   75424.579098\n",
       "посёлок Шушары       440   78677.364217\n",
       "посёлок Мурино       522   85752.189195\n",
       "посёлок Парголово    327   90175.913458\n",
       "деревня Кудрово      299   92473.547576\n",
       "Пушкин               369  103125.819291\n",
       "Санкт-Петербург    15721  114849.008794"
      ]
     },
     "metadata": {},
     "output_type": "display_data"
    }
   ],
   "source": [
    "top10_location_data = (data.pivot_table(index='locality_name', values='cost_meter', aggfunc=('mean','count'))\n",
    "    .sort_values(by='count', ascending=False))\n",
    "display(top10_location_data.head(10).sort_values(by='mean'))\n",
    "\n",
    "# print('Населённый пункт с самой высокой стоимостью жилья в', data['last_price'].max(), 'рублей:')\n",
    "# print(data[data['last_price'] == data['last_price'].max()]['locality_name'])\n",
    "\n",
    "# print('Населённый пункт с самой низкой стоимостью жилья в', data['cost_meter'].min(), 'рублей:')\n",
    "# print(data[data['last_price'] == data['last_price'].min()]['locality_name'])"
   ]
  },
  {
   "cell_type": "markdown",
   "metadata": {},
   "source": [
    "Определили список ТОП-10 населенных пунктов с наибольшим числом объявлений и отсортировали получений список по средней стоимости квадратного метра. Можно сказать, что в Питере самое большее число объявлений и самая дорогая средняя стоимость квадратного метра в полученном списке.\n",
    "Минимальная средняя стоимость квадратного метра в Выборге."
   ]
  },
  {
   "cell_type": "markdown",
   "metadata": {},
   "source": [
    "### Изучите предложения квартир: \n",
    "для каждой квартиры есть информация о расстоянии до центра. Выделите квартиры в Санкт-Петербурге (locality_name). Ваша задача — выяснить, какая область входит в центр. Создайте столбец с расстоянием до центра в километрах: округлите до целых значений. После этого посчитайте среднюю цену для каждого километра. Постройте график: он должен показывать, как цена зависит от удалённости от центра. Определите границу, где график сильно меняется, — это и будет центральная зона."
   ]
  },
  {
   "cell_type": "code",
   "execution_count": 165,
   "metadata": {},
   "outputs": [
    {
     "data": {
      "text/plain": [
       "5225"
      ]
     },
     "metadata": {},
     "output_type": "display_data"
    }
   ],
   "source": [
    "display(new_data['cityCenters_nearest'].isna().sum())"
   ]
  },
  {
   "cell_type": "markdown",
   "metadata": {},
   "source": [
    "В новом датафрейме без критических и выбивающихся значений есть 5225 пропусков по столбцу cityCenters_nearest. Заполним его медианным значением."
   ]
  },
  {
   "cell_type": "code",
   "execution_count": 166,
   "metadata": {},
   "outputs": [],
   "source": [
    "cityCenters_median = new_data['cityCenters_nearest'].mean()\n",
    "new_data['cityCenters_nearest'] = new_data['cityCenters_nearest'].fillna(cityCenters_median)"
   ]
  },
  {
   "cell_type": "code",
   "execution_count": 167,
   "metadata": {},
   "outputs": [
    {
     "data": {
      "text/html": [
       "<div>\n",
       "<style scoped>\n",
       "    .dataframe tbody tr th:only-of-type {\n",
       "        vertical-align: middle;\n",
       "    }\n",
       "\n",
       "    .dataframe tbody tr th {\n",
       "        vertical-align: top;\n",
       "    }\n",
       "\n",
       "    .dataframe thead th {\n",
       "        text-align: right;\n",
       "    }\n",
       "</style>\n",
       "<table border=\"1\" class=\"dataframe\">\n",
       "  <thead>\n",
       "    <tr style=\"text-align: right;\">\n",
       "      <th></th>\n",
       "      <th>last_price</th>\n",
       "    </tr>\n",
       "    <tr>\n",
       "      <th>cityCenters_km</th>\n",
       "      <th></th>\n",
       "    </tr>\n",
       "  </thead>\n",
       "  <tbody>\n",
       "    <tr>\n",
       "      <th>0</th>\n",
       "      <td>6.466667e+06</td>\n",
       "    </tr>\n",
       "    <tr>\n",
       "      <th>1</th>\n",
       "      <td>7.844686e+06</td>\n",
       "    </tr>\n",
       "    <tr>\n",
       "      <th>2</th>\n",
       "      <td>7.553296e+06</td>\n",
       "    </tr>\n",
       "    <tr>\n",
       "      <th>3</th>\n",
       "      <td>6.906314e+06</td>\n",
       "    </tr>\n",
       "    <tr>\n",
       "      <th>4</th>\n",
       "      <td>7.067099e+06</td>\n",
       "    </tr>\n",
       "    <tr>\n",
       "      <th>5</th>\n",
       "      <td>7.404745e+06</td>\n",
       "    </tr>\n",
       "    <tr>\n",
       "      <th>6</th>\n",
       "      <td>6.961006e+06</td>\n",
       "    </tr>\n",
       "    <tr>\n",
       "      <th>7</th>\n",
       "      <td>6.543460e+06</td>\n",
       "    </tr>\n",
       "    <tr>\n",
       "      <th>8</th>\n",
       "      <td>6.222743e+06</td>\n",
       "    </tr>\n",
       "    <tr>\n",
       "      <th>9</th>\n",
       "      <td>5.205237e+06</td>\n",
       "    </tr>\n",
       "    <tr>\n",
       "      <th>10</th>\n",
       "      <td>5.186825e+06</td>\n",
       "    </tr>\n",
       "    <tr>\n",
       "      <th>11</th>\n",
       "      <td>5.166975e+06</td>\n",
       "    </tr>\n",
       "    <tr>\n",
       "      <th>12</th>\n",
       "      <td>5.237742e+06</td>\n",
       "    </tr>\n",
       "    <tr>\n",
       "      <th>13</th>\n",
       "      <td>5.470578e+06</td>\n",
       "    </tr>\n",
       "    <tr>\n",
       "      <th>14</th>\n",
       "      <td>5.204893e+06</td>\n",
       "    </tr>\n",
       "    <tr>\n",
       "      <th>15</th>\n",
       "      <td>5.212714e+06</td>\n",
       "    </tr>\n",
       "    <tr>\n",
       "      <th>16</th>\n",
       "      <td>5.091525e+06</td>\n",
       "    </tr>\n",
       "    <tr>\n",
       "      <th>17</th>\n",
       "      <td>4.832456e+06</td>\n",
       "    </tr>\n",
       "    <tr>\n",
       "      <th>18</th>\n",
       "      <td>4.635905e+06</td>\n",
       "    </tr>\n",
       "    <tr>\n",
       "      <th>19</th>\n",
       "      <td>4.812333e+06</td>\n",
       "    </tr>\n",
       "  </tbody>\n",
       "</table>\n",
       "</div>"
      ],
      "text/plain": [
       "                  last_price\n",
       "cityCenters_km              \n",
       "0               6.466667e+06\n",
       "1               7.844686e+06\n",
       "2               7.553296e+06\n",
       "3               6.906314e+06\n",
       "4               7.067099e+06\n",
       "5               7.404745e+06\n",
       "6               6.961006e+06\n",
       "7               6.543460e+06\n",
       "8               6.222743e+06\n",
       "9               5.205237e+06\n",
       "10              5.186825e+06\n",
       "11              5.166975e+06\n",
       "12              5.237742e+06\n",
       "13              5.470578e+06\n",
       "14              5.204893e+06\n",
       "15              5.212714e+06\n",
       "16              5.091525e+06\n",
       "17              4.832456e+06\n",
       "18              4.635905e+06\n",
       "19              4.812333e+06"
      ]
     },
     "metadata": {},
     "output_type": "display_data"
    },
    {
     "data": {
      "image/png": "[encoded data removed]",
      "text/plain": [
       "<Figure size 432x288 with 1 Axes>"
      ]
     },
     "metadata": {
      "needs_background": "light"
     },
     "output_type": "display_data"
    }
   ],
   "source": [
    "def m_to_km(row):\n",
    "    meters = row['cityCenters_nearest']\n",
    "    return round(meters / 1000)\n",
    "\n",
    "new_data['cityCenters_km'] = new_data.apply(m_to_km, axis=1)\n",
    "\n",
    "# piter_data = data.query('locality_name == Санкт-Петербург')\n",
    "piter_data = new_data[new_data['locality_name'] == 'Санкт-Петербург']\n",
    "piter_data_avg = (\n",
    "    piter_data.pivot_table(index='cityCenters_km', values='last_price')\n",
    ")\n",
    "\n",
    "piter_data_avg.plot(y='last_price', style='o-', grid=True)\n",
    "display(piter_data_avg.head(20))#.sort_values(by='mean'))\n"
   ]
  },
  {
   "cell_type": "code",
   "execution_count": 168,
   "metadata": {},
   "outputs": [
    {
     "data": {
      "text/plain": [
       "0"
      ]
     },
     "execution_count": 168,
     "metadata": {},
     "output_type": "execute_result"
    }
   ],
   "source": [
    "# код ревьюера\n",
    "round(400/1000)"
   ]
  },
  {
   "cell_type": "markdown",
   "metadata": {},
   "source": [
    "Из графика распределения средней стоимсоти недвижимости в зависимсти от расстояния до центра (км), мы видим несколько пиковых значений. Стоимость жилья в радиусе 3км от центра немного \"просидает\", возможно это обусловлено каким-то географическим фактором. Шумный район, шоссе и т.д., поэтому стоимость жилья в этом радиусе существенно меньше. Но потом опять наблюдается подъем цен за объекты недвижимости и резкое изменение цены мы наблюдаем после 7км и дальше. После 7км есть еще несколько пиков, но уже значительно меньше, чем предыдущий. Это может быть обусловлено возможно тем, что там появляются новые районы, на которые тоже соответсвенно появляется спрос, и резко возрастает цена на недвижимость в этом радиусе.\n",
    "\n",
    "Определяем центр \"Питера\" - 7км"
   ]
  },
  {
   "cell_type": "markdown",
   "metadata": {},
   "source": [
    "### Выделите сегмент квартир в центре.\n",
    "Проанализируйте эту территорию и изучите следующие параметры: площадь, цена, число комнат, высота потолков. Также выделите факторы, которые влияют на стоимость квартиры (число комнат, этаж, удалённость от центра, дата размещения объявления). Сделайте выводы. Отличаются ли они от общих выводов по всей базе?"
   ]
  },
  {
   "cell_type": "markdown",
   "metadata": {},
   "source": [
    "#### Изучите следующие параметры:\n",
    "площадь, цена, число комнат, высота потолков. Постройте гистограммы для каждого параметра."
   ]
  },
  {
   "cell_type": "code",
   "execution_count": 169,
   "metadata": {},
   "outputs": [],
   "source": [
    "# Создаём нашу таблицу с недвижимостью в центре Питера\n",
    "piter7km_data = piter_data.query('cityCenters_km <= 7').reset_index(drop=True)\n",
    "# display(piter7km_data.head(20))"
   ]
  },
  {
   "cell_type": "code",
   "execution_count": 170,
   "metadata": {},
   "outputs": [
    {
     "data": {
      "text/plain": [
       "array([[<AxesSubplot:title={'center':'ceiling_height'}>]], dtype=object)"
      ]
     },
     "execution_count": 170,
     "metadata": {},
     "output_type": "execute_result"
    },
    {
     "data": {
      "image/png": "[encoded data removed]",
      "text/plain": [
       "<Figure size 432x288 with 1 Axes>"
      ]
     },
     "metadata": {
      "needs_background": "light"
     },
     "output_type": "display_data"
    },
    {
     "data": {
      "image/png": "[encoded data removed]",
      "text/plain": [
       "<Figure size 432x288 with 1 Axes>"
      ]
     },
     "metadata": {
      "needs_background": "light"
     },
     "output_type": "display_data"
    },
    {
     "data": {
      "image/png": "[encoded data removed]",
      "text/plain": [
       "<Figure size 432x288 with 1 Axes>"
      ]
     },
     "metadata": {
      "needs_background": "light"
     },
     "output_type": "display_data"
    },
    {
     "data": {
      "image/png": "[encoded data removed]",
      "text/plain": [
       "<Figure size 432x288 with 1 Axes>"
      ]
     },
     "metadata": {
      "needs_background": "light"
     },
     "output_type": "display_data"
    }
   ],
   "source": [
    "# Гистрограмма для площади\n",
    "piter7km_data.hist('total_area', bins=100, range=(0, 100))\n",
    "\n",
    "# Гистрограмма для wtys\n",
    "piter7km_data.hist('last_price', bins=100, range=(0, 10000000))\n",
    "\n",
    "# Гистрограмма для числа комнат\n",
    "piter7km_data.hist('rooms', range=(0,10))\n",
    "\n",
    "# Гистрограмма для высоты потолков\n",
    "piter7km_data.hist('ceiling_height', bins=10, range=(0,5))\n"
   ]
  },
  {
   "cell_type": "markdown",
   "metadata": {},
   "source": [
    "Выводы по полному датасету:\n",
    "* Большая часть недвижимости от 25 до 75 квадратов, пик в 40-50 квадратов\n",
    "* Большая часть недвижимости в датасете стоит от 2,5 до 6млн рублей, пик 3-4млн рублей\n",
    "* Больше всего продаются жил. площади с 1-2 комнатами и не сильно уступают им 3х комнатные\n",
    "* Больше всего недвижимости с потолками от 2,5 до 3 метров\n",
    "\n",
    "Выводы по датасету с недвижимостью в центре Питера:\n",
    "* Пик в 40-50 квадратов\n",
    "* Пик в 6,5-7млн рублей\n",
    "* Больше всего продаются жил. площади с 2 комнатами, затем 1-комнатные, затем 3х комнатные\n",
    "* Все потолки от 2,5 до 3 метров\n",
    "\n",
    "Из данных показателей можно сделать вывод, что в центре Санк-Петербурга спрос на желаемую квадратуру такой же, как и во всем Санкт-Петерубрге, но пиковая цена выше на 2,5-3млн рублей, спрос по количеству комнат тоже меняется, и высота потолков в продаваемых постройках приобретает более однозначный характер."
   ]
  },
  {
   "cell_type": "markdown",
   "metadata": {},
   "source": [
    "#### Зависимость цены от площади"
   ]
  },
  {
   "cell_type": "code",
   "execution_count": 171,
   "metadata": {},
   "outputs": [
    {
     "name": "stdout",
     "output_type": "stream",
     "text": [
      "0.6772886526996743\n",
      "0.7079583624909674\n"
     ]
    },
    {
     "data": {
      "text/plain": [
       "<AxesSubplot:xlabel='total_area', ylabel='last_price'>"
      ]
     },
     "execution_count": 171,
     "metadata": {},
     "output_type": "execute_result"
    },
    {
     "data": {
      "image/png": "[encoded data removed]",
      "text/plain": [
       "<Figure size 432x288 with 1 Axes>"
      ]
     },
     "metadata": {
      "needs_background": "light"
     },
     "output_type": "display_data"
    },
    {
     "data": {
      "image/png": "[encoded data removed]",
      "text/plain": [
       "<Figure size 432x288 with 1 Axes>"
      ]
     },
     "metadata": {
      "needs_background": "light"
     },
     "output_type": "display_data"
    }
   ],
   "source": [
    "print(new_data['total_area'].corr(new_data['last_price']))\n",
    "new_data.plot(x='total_area', y='last_price', kind='scatter')\n",
    "print(piter7km_data['total_area'].corr(piter7km_data['last_price']))\n",
    "piter7km_data.plot(x='total_area', y='last_price', kind='scatter')"
   ]
  },
  {
   "cell_type": "markdown",
   "metadata": {},
   "source": [
    "В целом, видим, что распределение зависимости цены от площади жилья практически такая же, как и у всего датафрейма по Санкт-Петербургу. Единственное, на графике с \"центром Питера\" мы отчетлевее можем наблюдать, что вероятность низкой цены с увеличением площади значительно падает, чем в полном датасете."
   ]
  },
  {
   "cell_type": "markdown",
   "metadata": {},
   "source": [
    "#### Зависимость цены от количества комнат"
   ]
  },
  {
   "cell_type": "code",
   "execution_count": 172,
   "metadata": {},
   "outputs": [
    {
     "data": {
      "text/plain": [
       "<AxesSubplot:xlabel='rooms'>"
      ]
     },
     "execution_count": 172,
     "metadata": {},
     "output_type": "execute_result"
    },
    {
     "data": {
      "image/png": "[encoded data removed]",
      "text/plain": [
       "<Figure size 432x288 with 1 Axes>"
      ]
     },
     "metadata": {
      "needs_background": "light"
     },
     "output_type": "display_data"
    },
    {
     "data": {
      "image/png": "[encoded data removed]",
      "text/plain": [
       "<Figure size 432x288 with 1 Axes>"
      ]
     },
     "metadata": {
      "needs_background": "light"
     },
     "output_type": "display_data"
    }
   ],
   "source": [
    "new_data_rooms = new_data.pivot_table(index='rooms', values='last_price', aggfunc='median').sort_values(by='rooms')\n",
    "#display(new_data_rooms)\n",
    "new_data_rooms.plot(y='last_price', kind='bar')\n",
    "\n",
    "new_piter7km_data_rooms = piter7km_data.pivot_table(index='rooms', values='last_price', aggfunc='median').sort_values(by='rooms')\n",
    "#display(new_piter7km_data_rooms)\n",
    "new_piter7km_data_rooms.plot(y='last_price', kind='bar')"
   ]
  },
  {
   "cell_type": "markdown",
   "metadata": {},
   "source": [
    "Зависимость цены от количества комнат уже меняется. Во-первых, в центре Питера (7км) одномнатные объекты недвижимости стоят в среднем на 1млн дороже априори. И можно заметить хрошо росматриваемую закономерность, что с увеличением количества комнат растёт и цена."
   ]
  },
  {
   "cell_type": "markdown",
   "metadata": {},
   "source": [
    "#### Зависимость цены от расстояния до центра"
   ]
  },
  {
   "cell_type": "code",
   "execution_count": 178,
   "metadata": {},
   "outputs": [
    {
     "name": "stdout",
     "output_type": "stream",
     "text": [
      "-0.24502760183041436\n",
      "-0.09518020484921133\n"
     ]
    },
    {
     "data": {
      "text/plain": [
       "<AxesSubplot:xlabel='cityCenters_nearest', ylabel='last_price'>"
      ]
     },
     "execution_count": 178,
     "metadata": {},
     "output_type": "execute_result"
    },
    {
     "data": {
      "image/png": "[encoded data removed]",
      "text/plain": [
       "<Figure size 432x288 with 1 Axes>"
      ]
     },
     "metadata": {
      "needs_background": "light"
     },
     "output_type": "display_data"
    },
    {
     "data": {
      "image/png": "[encoded data removed]",
      "text/plain": [
       "<Figure size 432x288 with 1 Axes>"
      ]
     },
     "metadata": {
      "needs_background": "light"
     },
     "output_type": "display_data"
    }
   ],
   "source": [
    "print(new_data['cityCenters_nearest'].corr(new_data['last_price']))\n",
    "new_data.plot(x='cityCenters_nearest', y='last_price', kind='scatter')\n",
    "\n",
    "print(piter7km_data['cityCenters_nearest'].corr(piter7km_data['last_price']))\n",
    "piter7km_data.plot(x='cityCenters_nearest', y='last_price', kind='scatter')"
   ]
  },
  {
   "cell_type": "markdown",
   "metadata": {},
   "source": [
    "В данном случае зависимости уже не такие одниаковые. Явная прямопропорциональная зависимость не наблюдается в датасете по центру Питера. Единственное, что можно отметить - начиная примерно от 3км - диапозон цен за недвижимость гораздо шире и насыщеннее."
   ]
  },
  {
   "cell_type": "markdown",
   "metadata": {},
   "source": [
    "#### Зависимость цены от этажности"
   ]
  },
  {
   "cell_type": "code",
   "execution_count": 179,
   "metadata": {},
   "outputs": [
    {
     "data": {
      "text/plain": [
       "<AxesSubplot:xlabel='floor_type'>"
      ]
     },
     "execution_count": 179,
     "metadata": {},
     "output_type": "execute_result"
    },
    {
     "data": {
      "image/png": "[encoded data removed]",
      "text/plain": [
       "<Figure size 432x288 with 1 Axes>"
      ]
     },
     "metadata": {
      "needs_background": "light"
     },
     "output_type": "display_data"
    },
    {
     "data": {
      "image/png": "[encoded data removed]",
      "text/plain": [
       "<Figure size 432x288 with 1 Axes>"
      ]
     },
     "metadata": {
      "needs_background": "light"
     },
     "output_type": "display_data"
    }
   ],
   "source": [
    "new_data_floor = new_data.pivot_table(index='floor_type', values='last_price', aggfunc='median').sort_values(by='floor_type')\n",
    "#display(new_data_floor)\n",
    "new_data_floor.plot(y='last_price', kind='bar')\n",
    "\n",
    "new_piter7km_data_floor = piter7km_data.pivot_table(index='floor_type', values='last_price', aggfunc='median').sort_values(by='floor_type')\n",
    "#display(new_piter7km_data_floor)\n",
    "new_piter7km_data_floor.plot(y='last_price', kind='bar')"
   ]
  },
  {
   "cell_type": "markdown",
   "metadata": {},
   "source": [
    "Общая закономерность по тажности в двух датасетах осталась примерно одинаковой. Но можно отметить, то что в центре Питере недвижимость на \"другом\" этаже стоит практически на 1млн больше. Недвижимость на первом и последних этажах в центре Питера тоже стоят дороже, чем в полном датасете, но примерно на 0.7 млн. Плюс Стоимость последнего этажа практическая такая же, как и любого другого этажа, кроме первого."
   ]
  },
  {
   "cell_type": "markdown",
   "metadata": {},
   "source": [
    "#### Зависимость цены от дня недели"
   ]
  },
  {
   "cell_type": "code",
   "execution_count": 180,
   "metadata": {},
   "outputs": [
    {
     "data": {
      "text/plain": [
       "<AxesSubplot:xlabel='weekday'>"
      ]
     },
     "execution_count": 180,
     "metadata": {},
     "output_type": "execute_result"
    },
    {
     "data": {
      "image/png": "[encoded data removed]",
      "text/plain": [
       "<Figure size 432x288 with 1 Axes>"
      ]
     },
     "metadata": {
      "needs_background": "light"
     },
     "output_type": "display_data"
    },
    {
     "data": {
      "image/png": "[encoded data removed]",
      "text/plain": [
       "<Figure size 432x288 with 1 Axes>"
      ]
     },
     "metadata": {
      "needs_background": "light"
     },
     "output_type": "display_data"
    }
   ],
   "source": [
    "new_data_weekday = new_data.pivot_table(index='weekday', values='last_price', aggfunc='median')\n",
    "# print(new_data_weekday)\n",
    "new_data_weekday.plot(y='last_price', kind='bar')\n",
    "\n",
    "new_piter7km_data_weekday = piter7km_data.pivot_table(index='weekday', values='last_price', aggfunc='median')\n",
    "# print(new_piter7km_data_weekday)\n",
    "new_piter7km_data_weekday.plot(y='last_price', kind='bar')"
   ]
  },
  {
   "cell_type": "markdown",
   "metadata": {},
   "source": [
    "Если в полном датасете трудно на взгляд определить дни недели, в которые недвижимость продается дороже, чем в другие, то в датасете по центру Питера можно с уверенностью сказать, что недвижимость, проданная в воскресенье стоит значительно больше, чем, нпаример, в среду."
   ]
  },
  {
   "cell_type": "markdown",
   "metadata": {},
   "source": [
    "#### Зависимость цены от месяца"
   ]
  },
  {
   "cell_type": "code",
   "execution_count": 181,
   "metadata": {},
   "outputs": [
    {
     "data": {
      "text/plain": [
       "<AxesSubplot:xlabel='month'>"
      ]
     },
     "execution_count": 181,
     "metadata": {},
     "output_type": "execute_result"
    },
    {
     "data": {
      "image/png": "[encoded data removed]",
      "text/plain": [
       "<Figure size 432x288 with 1 Axes>"
      ]
     },
     "metadata": {
      "needs_background": "light"
     },
     "output_type": "display_data"
    },
    {
     "data": {
      "image/png": "[encoded data removed]",
      "text/plain": [
       "<Figure size 432x288 with 1 Axes>"
      ]
     },
     "metadata": {
      "needs_background": "light"
     },
     "output_type": "display_data"
    }
   ],
   "source": [
    "new_data_month = new_data.pivot_table(index='month', values='last_price', aggfunc='median')\n",
    "# print(new_data_month)\n",
    "new_data_month.plot(y='last_price', kind='bar')\n",
    "\n",
    "new_piter7km_data_month = piter7km_data.pivot_table(index='month', values='last_price', aggfunc='median')\n",
    "# print(new_piter7km_data_month)\n",
    "new_piter7km_data_month.plot(y='last_price', kind='bar')"
   ]
  },
  {
   "cell_type": "markdown",
   "metadata": {},
   "source": [
    "Похожая ситуация как и на графиках с днями недели. По графику на датасете центра Питера видно что в сентбяре недвижимость продаётся гораздо дороже, чем, например в июне и августе."
   ]
  },
  {
   "cell_type": "markdown",
   "metadata": {},
   "source": [
    "#### Зависимость цены от года"
   ]
  },
  {
   "cell_type": "code",
   "execution_count": 182,
   "metadata": {},
   "outputs": [
    {
     "data": {
      "text/plain": [
       "<AxesSubplot:xlabel='year'>"
      ]
     },
     "execution_count": 182,
     "metadata": {},
     "output_type": "execute_result"
    },
    {
     "data": {
      "image/png": "[encoded data removed]",
      "text/plain": [
       "<Figure size 432x288 with 1 Axes>"
      ]
     },
     "metadata": {
      "needs_background": "light"
     },
     "output_type": "display_data"
    },
    {
     "data": {
      "image/png": "[encoded data removed]",
      "text/plain": [
       "<Figure size 432x288 with 1 Axes>"
      ]
     },
     "metadata": {
      "needs_background": "light"
     },
     "output_type": "display_data"
    }
   ],
   "source": [
    "new_data_year = new_data.pivot_table(index='year', values='last_price', aggfunc='median')\n",
    "# print(new_data_year)\n",
    "new_data_year.plot(y='last_price', kind='bar')\n",
    "\n",
    "new_piter7km_data_year = piter7km_data.pivot_table(index='year', values='last_price', aggfunc='median')\n",
    "# print(new_piter7km_data_year)\n",
    "new_piter7km_data_year.plot(y='last_price', kind='bar')"
   ]
  },
  {
   "cell_type": "markdown",
   "metadata": {},
   "source": [
    "На полученном графике по центру Питера, видим, что последние 5 лет цена практически никак не изенялась. Была практически одинаковой во всех годах. А вот в 2014 стоила гораздо дешевле"
   ]
  },
  {
   "cell_type": "markdown",
   "metadata": {},
   "source": [
    "## Общий вывод"
   ]
  },
  {
   "cell_type": "markdown",
   "metadata": {},
   "source": [
    "Проведя исследовательский анализ по продаже недвижимости за определенный период времени, можно сказать, что:\n",
    "1. Есть небольшая прямопропорциональная зависимость цены от площади объекта, от близости к центру.\n",
    "2. Есть небольшая тенденция частоты покупки квартир с 1-3 комнатами и на всех этажа, кроме первого.\n",
    "3. Отсутствует какая-либо зависиость цены от даты, дня недели, года продажи объяекта.\n",
    "4. Выводы о наличии и отсуствии зависимости цены от какого-либо фактора так же распространяются и на недвижимость в центре Питербурга (до 7км), с небольшим отличием в конкретных показателях (пиках) по ряду признаков.\n",
    "\n",
    "Таким образом, можно составить \"идеальный объект недвижимости\" для продажи в Санкт-Петербурге и отдельно в радиусе 7км от центра Санкт-Петербурга:\n",
    "1. Высокую цену может иметь недвижимость во всем Петербурге, если удовлетворяет этим харакеристикам:\n",
    "* Общая площадь составляет от 25 до 50квадратов\n",
    "* Стоимость не превышает 2,5-5 млн рублей\n",
    "* Это 1-2-комнатная квартира не на первом этаже, с потолками от 2,5 до 3 метров.\n",
    "\n",
    "2. Высокую цену может иметь недвижимость в радиусе 7км от центра Петербурга, если удовлетворяет этим харакеристикам:\n",
    "* Общая площадь так же составляет от 40 до 50квадратов\n",
    "* Стоимость не превышает 6,5-7 млн рублей\n",
    "* Это 2-комнатная квартира не на первом этаже, с потолками от 2,5 до 3 метров."
   ]
  }
 ],
 "metadata": {
  "ExecuteTimeLog": [
   {
    "duration": 102,
    "start_time": "2022-03-14T08:14:22.584Z"
   },
   {
    "duration": 3755,
    "start_time": "2022-03-14T08:14:39.299Z"
   },
   {
    "duration": 91,
    "start_time": "2022-03-14T08:15:25.713Z"
   },
   {
    "duration": 121,
    "start_time": "2022-03-14T08:16:58.069Z"
   },
   {
    "duration": 102,
    "start_time": "2022-03-14T08:17:27.738Z"
   },
   {
    "duration": 340,
    "start_time": "2022-03-14T12:25:17.097Z"
   },
   {
    "duration": 833,
    "start_time": "2022-03-14T12:25:21.394Z"
   },
   {
    "duration": 9,
    "start_time": "2022-03-14T12:25:22.229Z"
   },
   {
    "duration": 5,
    "start_time": "2022-03-14T12:25:55.740Z"
   },
   {
    "duration": 8,
    "start_time": "2022-03-14T12:26:13.320Z"
   },
   {
    "duration": 36,
    "start_time": "2022-03-14T12:27:20.300Z"
   },
   {
    "duration": 43,
    "start_time": "2022-03-14T12:28:21.451Z"
   },
   {
    "duration": 54,
    "start_time": "2022-03-14T12:28:37.471Z"
   },
   {
    "duration": 8,
    "start_time": "2022-03-14T12:29:10.493Z"
   },
   {
    "duration": 408,
    "start_time": "2022-03-14T17:31:09.678Z"
   },
   {
    "duration": 1041,
    "start_time": "2022-03-14T17:31:13.182Z"
   },
   {
    "duration": 19,
    "start_time": "2022-03-14T17:31:14.226Z"
   },
   {
    "duration": 18,
    "start_time": "2022-03-14T17:33:51.214Z"
   },
   {
    "duration": 19,
    "start_time": "2022-03-14T17:34:28.355Z"
   },
   {
    "duration": 15,
    "start_time": "2022-03-14T17:35:29.569Z"
   },
   {
    "duration": 11,
    "start_time": "2022-03-14T17:35:44.115Z"
   },
   {
    "duration": 10,
    "start_time": "2022-03-14T17:42:48.048Z"
   },
   {
    "duration": 10,
    "start_time": "2022-03-14T17:45:21.346Z"
   },
   {
    "duration": -2131,
    "start_time": "2022-03-14T17:46:33.596Z"
   },
   {
    "duration": 3876,
    "start_time": "2022-03-14T17:46:35.554Z"
   },
   {
    "duration": 96,
    "start_time": "2022-03-14T17:46:52.901Z"
   },
   {
    "duration": 3976,
    "start_time": "2022-03-14T17:46:53.000Z"
   },
   {
    "duration": 3842,
    "start_time": "2022-03-14T17:47:54.441Z"
   },
   {
    "duration": 752,
    "start_time": "2022-03-14T17:49:23.767Z"
   },
   {
    "duration": 117,
    "start_time": "2022-03-14T17:50:24.284Z"
   },
   {
    "duration": 16,
    "start_time": "2022-03-14T17:51:50.199Z"
   },
   {
    "duration": 16,
    "start_time": "2022-03-14T17:52:51.832Z"
   },
   {
    "duration": 17,
    "start_time": "2022-03-14T17:53:10.749Z"
   },
   {
    "duration": 18,
    "start_time": "2022-03-14T17:53:26.536Z"
   },
   {
    "duration": 13,
    "start_time": "2022-03-14T17:57:23.672Z"
   },
   {
    "duration": 11,
    "start_time": "2022-03-14T17:58:38.704Z"
   },
   {
    "duration": 12,
    "start_time": "2022-03-14T17:59:07.560Z"
   },
   {
    "duration": 11,
    "start_time": "2022-03-14T17:59:57.218Z"
   },
   {
    "duration": 343,
    "start_time": "2022-03-14T18:07:46.864Z"
   },
   {
    "duration": 7,
    "start_time": "2022-03-14T18:08:32.732Z"
   },
   {
    "duration": 10,
    "start_time": "2022-03-14T18:09:27.685Z"
   },
   {
    "duration": 8,
    "start_time": "2022-03-14T18:10:04.192Z"
   },
   {
    "duration": 10,
    "start_time": "2022-03-14T18:11:17.008Z"
   },
   {
    "duration": 5,
    "start_time": "2022-03-14T18:11:25.153Z"
   },
   {
    "duration": 8,
    "start_time": "2022-03-14T18:15:11.233Z"
   },
   {
    "duration": 12,
    "start_time": "2022-03-14T18:15:27.924Z"
   },
   {
    "duration": 15,
    "start_time": "2022-03-14T18:15:36.168Z"
   },
   {
    "duration": 10,
    "start_time": "2022-03-14T18:15:50.549Z"
   },
   {
    "duration": 7,
    "start_time": "2022-03-14T18:16:43.467Z"
   },
   {
    "duration": 59,
    "start_time": "2022-03-14T18:24:22.093Z"
   },
   {
    "duration": 38,
    "start_time": "2022-03-14T18:24:48.025Z"
   },
   {
    "duration": 1143,
    "start_time": "2022-03-14T18:37:27.664Z"
   },
   {
    "duration": 1111,
    "start_time": "2022-03-14T18:38:05.416Z"
   },
   {
    "duration": 713,
    "start_time": "2022-03-15T16:51:49.397Z"
   },
   {
    "duration": 406,
    "start_time": "2022-03-15T16:51:50.112Z"
   },
   {
    "duration": -2555,
    "start_time": "2022-03-15T16:51:53.075Z"
   },
   {
    "duration": -2555,
    "start_time": "2022-03-15T16:51:53.077Z"
   },
   {
    "duration": 313,
    "start_time": "2022-03-15T16:52:51.456Z"
   },
   {
    "duration": 11,
    "start_time": "2022-03-15T16:53:21.516Z"
   },
   {
    "duration": 8,
    "start_time": "2022-03-15T16:53:30.958Z"
   },
   {
    "duration": 9,
    "start_time": "2022-03-15T16:53:47.707Z"
   },
   {
    "duration": 451,
    "start_time": "2022-03-15T16:53:50.619Z"
   },
   {
    "duration": 444,
    "start_time": "2022-03-15T16:54:25.942Z"
   },
   {
    "duration": 471,
    "start_time": "2022-03-15T16:55:21.569Z"
   },
   {
    "duration": 5,
    "start_time": "2022-03-15T16:57:59.202Z"
   },
   {
    "duration": 454,
    "start_time": "2022-03-15T16:58:02.168Z"
   },
   {
    "duration": 447,
    "start_time": "2022-03-15T16:59:53.420Z"
   },
   {
    "duration": 6,
    "start_time": "2022-03-15T17:15:02.802Z"
   },
   {
    "duration": 557,
    "start_time": "2022-03-15T17:15:06.598Z"
   },
   {
    "duration": 456,
    "start_time": "2022-03-15T17:20:26.683Z"
   },
   {
    "duration": 9,
    "start_time": "2022-03-15T17:20:38.137Z"
   },
   {
    "duration": 11,
    "start_time": "2022-03-15T17:21:00.417Z"
   },
   {
    "duration": 11,
    "start_time": "2022-03-15T17:21:41.545Z"
   },
   {
    "duration": 82,
    "start_time": "2022-03-15T17:21:52.719Z"
   },
   {
    "duration": 13,
    "start_time": "2022-03-15T17:21:52.802Z"
   },
   {
    "duration": 8,
    "start_time": "2022-03-15T17:21:52.816Z"
   },
   {
    "duration": 506,
    "start_time": "2022-03-15T17:21:52.826Z"
   },
   {
    "duration": 11,
    "start_time": "2022-03-15T17:22:42.204Z"
   },
   {
    "duration": 435,
    "start_time": "2022-03-15T17:46:29.320Z"
   },
   {
    "duration": 637,
    "start_time": "2022-03-15T17:47:03.358Z"
   },
   {
    "duration": 574,
    "start_time": "2022-03-15T17:49:13.493Z"
   },
   {
    "duration": 686,
    "start_time": "2022-03-15T17:49:26.519Z"
   },
   {
    "duration": 499,
    "start_time": "2022-03-15T17:50:04.712Z"
   },
   {
    "duration": 86,
    "start_time": "2022-03-15T17:50:17.912Z"
   },
   {
    "duration": 544,
    "start_time": "2022-03-15T17:50:17.999Z"
   },
   {
    "duration": 7,
    "start_time": "2022-03-15T17:50:18.545Z"
   },
   {
    "duration": 461,
    "start_time": "2022-03-15T17:50:18.554Z"
   },
   {
    "duration": 499,
    "start_time": "2022-03-15T17:50:47.229Z"
   },
   {
    "duration": 570,
    "start_time": "2022-03-15T17:51:13.200Z"
   },
   {
    "duration": 504,
    "start_time": "2022-03-15T17:52:27.923Z"
   },
   {
    "duration": 493,
    "start_time": "2022-03-15T17:53:00.248Z"
   },
   {
    "duration": 77,
    "start_time": "2022-03-15T17:53:40.398Z"
   },
   {
    "duration": 438,
    "start_time": "2022-03-15T17:53:40.477Z"
   },
   {
    "duration": 6,
    "start_time": "2022-03-15T17:53:40.917Z"
   },
   {
    "duration": 469,
    "start_time": "2022-03-15T17:53:40.925Z"
   },
   {
    "duration": 570,
    "start_time": "2022-03-15T17:54:21.602Z"
   },
   {
    "duration": 493,
    "start_time": "2022-03-15T17:54:34.914Z"
   },
   {
    "duration": 81,
    "start_time": "2022-03-15T17:55:09.579Z"
   },
   {
    "duration": 456,
    "start_time": "2022-03-15T17:55:09.662Z"
   },
   {
    "duration": 8,
    "start_time": "2022-03-15T17:55:10.120Z"
   },
   {
    "duration": 475,
    "start_time": "2022-03-15T17:55:10.130Z"
   },
   {
    "duration": 536,
    "start_time": "2022-03-15T17:56:06.547Z"
   },
   {
    "duration": 87,
    "start_time": "2022-03-15T17:56:16.445Z"
   },
   {
    "duration": 445,
    "start_time": "2022-03-15T17:56:16.534Z"
   },
   {
    "duration": 7,
    "start_time": "2022-03-15T17:56:16.981Z"
   },
   {
    "duration": 466,
    "start_time": "2022-03-15T17:56:16.990Z"
   },
   {
    "duration": 583,
    "start_time": "2022-03-15T17:56:46.960Z"
   },
   {
    "duration": 81,
    "start_time": "2022-03-15T17:56:55.237Z"
   },
   {
    "duration": 460,
    "start_time": "2022-03-15T17:56:55.320Z"
   },
   {
    "duration": 6,
    "start_time": "2022-03-15T17:56:55.782Z"
   },
   {
    "duration": 462,
    "start_time": "2022-03-15T17:56:55.802Z"
   },
   {
    "duration": 106,
    "start_time": "2022-03-15T18:00:28.648Z"
   },
   {
    "duration": 445,
    "start_time": "2022-03-15T18:00:28.756Z"
   },
   {
    "duration": 7,
    "start_time": "2022-03-15T18:00:29.203Z"
   },
   {
    "duration": 537,
    "start_time": "2022-03-15T18:00:29.212Z"
   },
   {
    "duration": 811,
    "start_time": "2022-03-15T18:01:30.783Z"
   },
   {
    "duration": 79,
    "start_time": "2022-03-15T18:01:37.489Z"
   },
   {
    "duration": 755,
    "start_time": "2022-03-15T18:01:37.570Z"
   },
   {
    "duration": -2504,
    "start_time": "2022-03-15T18:01:40.831Z"
   },
   {
    "duration": -2505,
    "start_time": "2022-03-15T18:01:40.833Z"
   },
   {
    "duration": 759,
    "start_time": "2022-03-15T18:02:13.016Z"
   },
   {
    "duration": 786,
    "start_time": "2022-03-15T18:02:22.895Z"
   },
   {
    "duration": 430,
    "start_time": "2022-03-15T18:02:49.208Z"
   },
   {
    "duration": 749,
    "start_time": "2022-03-15T18:05:00.970Z"
   },
   {
    "duration": 432,
    "start_time": "2022-03-15T18:05:07.150Z"
   },
   {
    "duration": 468,
    "start_time": "2022-03-15T18:05:41.241Z"
   },
   {
    "duration": 505,
    "start_time": "2022-03-15T18:05:56.569Z"
   },
   {
    "duration": 530,
    "start_time": "2022-03-15T18:11:54.059Z"
   },
   {
    "duration": 481,
    "start_time": "2022-03-15T18:12:16.646Z"
   },
   {
    "duration": 515,
    "start_time": "2022-03-15T18:12:31.122Z"
   },
   {
    "duration": 115,
    "start_time": "2022-03-15T18:28:30.872Z"
   },
   {
    "duration": 447,
    "start_time": "2022-03-15T18:28:30.989Z"
   },
   {
    "duration": 9,
    "start_time": "2022-03-15T18:28:31.439Z"
   },
   {
    "duration": 521,
    "start_time": "2022-03-15T18:28:31.449Z"
   },
   {
    "duration": 532,
    "start_time": "2022-03-15T18:31:32.310Z"
   },
   {
    "duration": 5,
    "start_time": "2022-03-15T18:34:18.516Z"
   },
   {
    "duration": 7,
    "start_time": "2022-03-15T18:34:21.374Z"
   },
   {
    "duration": 323,
    "start_time": "2022-03-15T18:37:27.882Z"
   },
   {
    "duration": 5,
    "start_time": "2022-03-15T18:37:47.339Z"
   },
   {
    "duration": 5,
    "start_time": "2022-03-15T18:37:49.808Z"
   },
   {
    "duration": 9,
    "start_time": "2022-03-15T18:38:35.525Z"
   },
   {
    "duration": 8,
    "start_time": "2022-03-15T18:38:51.372Z"
   },
   {
    "duration": 7,
    "start_time": "2022-03-15T18:39:01.568Z"
   },
   {
    "duration": 747,
    "start_time": "2022-03-15T18:43:35.986Z"
   },
   {
    "duration": 8,
    "start_time": "2022-03-15T18:43:39.985Z"
   },
   {
    "duration": 15,
    "start_time": "2022-03-15T18:44:08.082Z"
   },
   {
    "duration": 7,
    "start_time": "2022-03-15T18:45:30.531Z"
   },
   {
    "duration": 80,
    "start_time": "2022-03-15T18:45:32.987Z"
   },
   {
    "duration": 444,
    "start_time": "2022-03-15T18:45:33.068Z"
   },
   {
    "duration": 313,
    "start_time": "2022-03-15T18:45:33.514Z"
   },
   {
    "duration": -2474,
    "start_time": "2022-03-15T18:45:36.302Z"
   },
   {
    "duration": 296,
    "start_time": "2022-03-15T18:46:08.843Z"
   },
   {
    "duration": 307,
    "start_time": "2022-03-15T18:46:22.135Z"
   },
   {
    "duration": 330,
    "start_time": "2022-03-15T18:48:01.393Z"
   },
   {
    "duration": 337,
    "start_time": "2022-03-15T18:48:20.992Z"
   },
   {
    "duration": 84,
    "start_time": "2022-03-15T18:48:39.604Z"
   },
   {
    "duration": 422,
    "start_time": "2022-03-15T18:48:39.873Z"
   },
   {
    "duration": 333,
    "start_time": "2022-03-15T18:48:40.297Z"
   },
   {
    "duration": -2773,
    "start_time": "2022-03-15T18:48:43.406Z"
   },
   {
    "duration": 328,
    "start_time": "2022-03-15T18:49:07.332Z"
   },
   {
    "duration": 337,
    "start_time": "2022-03-15T18:49:50.529Z"
   },
   {
    "duration": 369,
    "start_time": "2022-03-15T18:51:03.050Z"
   },
   {
    "duration": 294,
    "start_time": "2022-03-15T18:51:25.125Z"
   },
   {
    "duration": 390,
    "start_time": "2022-03-15T18:51:48.976Z"
   },
   {
    "duration": 9,
    "start_time": "2022-03-15T18:53:30.541Z"
   },
   {
    "duration": 6,
    "start_time": "2022-03-15T18:53:32.979Z"
   },
   {
    "duration": 306,
    "start_time": "2022-03-15T18:56:48.314Z"
   },
   {
    "duration": 7,
    "start_time": "2022-03-15T18:58:08.526Z"
   },
   {
    "duration": 8,
    "start_time": "2022-03-15T18:58:26.236Z"
   },
   {
    "duration": 6,
    "start_time": "2022-03-15T19:00:13.561Z"
   },
   {
    "duration": 446,
    "start_time": "2022-03-15T19:01:45.784Z"
   },
   {
    "duration": 3,
    "start_time": "2022-03-15T19:02:14.013Z"
   },
   {
    "duration": 78,
    "start_time": "2022-03-15T19:02:18.007Z"
   },
   {
    "duration": 433,
    "start_time": "2022-03-15T19:02:18.087Z"
   },
   {
    "duration": 3,
    "start_time": "2022-03-15T19:02:18.522Z"
   },
   {
    "duration": 456,
    "start_time": "2022-03-15T19:02:18.526Z"
   },
   {
    "duration": 699,
    "start_time": "2022-03-15T19:02:48.341Z"
   },
   {
    "duration": 478,
    "start_time": "2022-03-15T19:09:18.287Z"
   },
   {
    "duration": 446,
    "start_time": "2022-03-15T19:10:49.603Z"
   },
   {
    "duration": 97,
    "start_time": "2022-03-15T19:11:25.810Z"
   },
   {
    "duration": 105,
    "start_time": "2022-03-15T19:11:29.675Z"
   },
   {
    "duration": 694,
    "start_time": "2022-03-15T19:11:29.781Z"
   },
   {
    "duration": 4,
    "start_time": "2022-03-15T19:11:30.477Z"
   },
   {
    "duration": 738,
    "start_time": "2022-03-15T19:11:30.483Z"
   },
   {
    "duration": 233,
    "start_time": "2022-03-15T19:14:35.401Z"
   },
   {
    "duration": 145,
    "start_time": "2022-03-15T19:14:47.354Z"
   },
   {
    "duration": 137,
    "start_time": "2022-03-15T19:14:55.387Z"
   },
   {
    "duration": 269,
    "start_time": "2022-03-15T19:15:03.967Z"
   },
   {
    "duration": 444,
    "start_time": "2022-03-15T19:15:37.935Z"
   },
   {
    "duration": 543,
    "start_time": "2022-03-15T19:15:46.176Z"
   },
   {
    "duration": 913,
    "start_time": "2022-03-15T19:18:29.301Z"
   },
   {
    "duration": 659,
    "start_time": "2022-03-15T19:18:43.245Z"
   },
   {
    "duration": 739,
    "start_time": "2022-03-15T19:18:51.528Z"
   },
   {
    "duration": 810,
    "start_time": "2022-03-15T19:19:33.775Z"
   },
   {
    "duration": 662,
    "start_time": "2022-03-15T19:19:44.915Z"
   },
   {
    "duration": 657,
    "start_time": "2022-03-15T19:20:00.482Z"
   },
   {
    "duration": 652,
    "start_time": "2022-03-15T19:20:20.239Z"
   },
   {
    "duration": 810,
    "start_time": "2022-03-15T19:20:30.070Z"
   },
   {
    "duration": 803,
    "start_time": "2022-03-15T19:20:42.672Z"
   },
   {
    "duration": 664,
    "start_time": "2022-03-15T19:20:53.539Z"
   },
   {
    "duration": 926,
    "start_time": "2022-03-15T19:21:12.248Z"
   },
   {
    "duration": 851,
    "start_time": "2022-03-15T19:21:28.127Z"
   },
   {
    "duration": 813,
    "start_time": "2022-03-15T19:21:39.146Z"
   },
   {
    "duration": 98,
    "start_time": "2022-03-15T19:22:27.241Z"
   },
   {
    "duration": 916,
    "start_time": "2022-03-15T19:23:42.609Z"
   },
   {
    "duration": 1383,
    "start_time": "2022-03-15T19:25:41.504Z"
   },
   {
    "duration": 823,
    "start_time": "2022-03-15T19:25:48.761Z"
   },
   {
    "duration": 283,
    "start_time": "2022-03-16T09:45:10.509Z"
   },
   {
    "duration": 664,
    "start_time": "2022-03-16T09:46:46.703Z"
   },
   {
    "duration": 487,
    "start_time": "2022-03-16T09:46:47.368Z"
   },
   {
    "duration": 7,
    "start_time": "2022-03-16T09:46:47.856Z"
   },
   {
    "duration": 501,
    "start_time": "2022-03-16T09:46:47.864Z"
   },
   {
    "duration": 937,
    "start_time": "2022-03-16T09:46:48.366Z"
   },
   {
    "duration": 830,
    "start_time": "2022-03-16T09:47:15.788Z"
   },
   {
    "duration": 866,
    "start_time": "2022-03-16T09:48:35.161Z"
   },
   {
    "duration": 903,
    "start_time": "2022-03-16T09:48:56.614Z"
   },
   {
    "duration": 839,
    "start_time": "2022-03-16T09:49:16.423Z"
   },
   {
    "duration": 854,
    "start_time": "2022-03-16T09:49:49.827Z"
   },
   {
    "duration": 959,
    "start_time": "2022-03-16T09:51:59.734Z"
   },
   {
    "duration": 856,
    "start_time": "2022-03-16T09:54:07.977Z"
   },
   {
    "duration": 2603,
    "start_time": "2022-03-16T09:54:45.487Z"
   },
   {
    "duration": 1122,
    "start_time": "2022-03-16T09:54:56.216Z"
   },
   {
    "duration": 888,
    "start_time": "2022-03-16T09:58:35.813Z"
   },
   {
    "duration": 748,
    "start_time": "2022-03-16T09:58:45.964Z"
   },
   {
    "duration": 559,
    "start_time": "2022-03-16T09:59:26.317Z"
   },
   {
    "duration": 842,
    "start_time": "2022-03-16T10:00:35.097Z"
   },
   {
    "duration": 233,
    "start_time": "2022-03-16T10:03:23.341Z"
   },
   {
    "duration": 708,
    "start_time": "2022-03-16T10:03:31.622Z"
   },
   {
    "duration": 355,
    "start_time": "2022-03-16T10:04:07.784Z"
   },
   {
    "duration": 333,
    "start_time": "2022-03-16T10:04:41.955Z"
   },
   {
    "duration": 444,
    "start_time": "2022-03-16T10:04:51.120Z"
   },
   {
    "duration": 365,
    "start_time": "2022-03-16T10:05:04.627Z"
   },
   {
    "duration": 370,
    "start_time": "2022-03-16T10:12:46.938Z"
   },
   {
    "duration": 354,
    "start_time": "2022-03-16T10:12:57.345Z"
   },
   {
    "duration": 363,
    "start_time": "2022-03-16T10:13:47.156Z"
   },
   {
    "duration": 343,
    "start_time": "2022-03-16T10:14:21.471Z"
   },
   {
    "duration": 459,
    "start_time": "2022-03-16T10:14:30.474Z"
   },
   {
    "duration": 728,
    "start_time": "2022-03-16T10:17:28.529Z"
   },
   {
    "duration": 675,
    "start_time": "2022-03-16T10:17:46.830Z"
   },
   {
    "duration": 667,
    "start_time": "2022-03-16T10:19:04.731Z"
   },
   {
    "duration": 758,
    "start_time": "2022-03-16T10:20:03.410Z"
   },
   {
    "duration": 711,
    "start_time": "2022-03-16T10:20:24.448Z"
   },
   {
    "duration": 692,
    "start_time": "2022-03-16T10:21:52.159Z"
   },
   {
    "duration": 705,
    "start_time": "2022-03-16T10:22:25.408Z"
   },
   {
    "duration": 814,
    "start_time": "2022-03-16T10:22:56.384Z"
   },
   {
    "duration": 2134,
    "start_time": "2022-03-16T10:23:16.078Z"
   },
   {
    "duration": 2297,
    "start_time": "2022-03-16T10:23:32.758Z"
   },
   {
    "duration": 9032,
    "start_time": "2022-03-16T10:23:48.835Z"
   },
   {
    "duration": 698,
    "start_time": "2022-03-16T10:24:10.472Z"
   },
   {
    "duration": 702,
    "start_time": "2022-03-16T10:30:01.725Z"
   },
   {
    "duration": 1539,
    "start_time": "2022-03-16T10:30:16.847Z"
   },
   {
    "duration": 841,
    "start_time": "2022-03-16T10:30:29.327Z"
   },
   {
    "duration": 881,
    "start_time": "2022-03-16T10:30:43.949Z"
   },
   {
    "duration": 1000,
    "start_time": "2022-03-16T10:30:57.320Z"
   },
   {
    "duration": 2572,
    "start_time": "2022-03-16T10:31:08.866Z"
   },
   {
    "duration": 2618,
    "start_time": "2022-03-16T10:34:37.027Z"
   },
   {
    "duration": 2540,
    "start_time": "2022-03-16T10:34:57.519Z"
   },
   {
    "duration": 535,
    "start_time": "2022-03-16T10:35:10.731Z"
   },
   {
    "duration": 539,
    "start_time": "2022-03-16T10:35:16.078Z"
   },
   {
    "duration": 771,
    "start_time": "2022-03-16T10:35:33.514Z"
   },
   {
    "duration": 2552,
    "start_time": "2022-03-16T10:35:59.560Z"
   },
   {
    "duration": 2670,
    "start_time": "2022-03-16T10:36:27.028Z"
   },
   {
    "duration": 1111,
    "start_time": "2022-03-16T10:37:10.366Z"
   },
   {
    "duration": 1010,
    "start_time": "2022-03-16T10:40:06.683Z"
   },
   {
    "duration": 1302,
    "start_time": "2022-03-16T10:40:15.368Z"
   },
   {
    "duration": 1014,
    "start_time": "2022-03-16T10:40:27.405Z"
   },
   {
    "duration": 1215,
    "start_time": "2022-03-16T10:40:35.001Z"
   },
   {
    "duration": 1181,
    "start_time": "2022-03-16T10:40:44.971Z"
   },
   {
    "duration": 1171,
    "start_time": "2022-03-16T10:41:48.955Z"
   },
   {
    "duration": 1264,
    "start_time": "2022-03-16T10:42:19.502Z"
   },
   {
    "duration": 575,
    "start_time": "2022-03-16T10:42:36.330Z"
   },
   {
    "duration": 1000,
    "start_time": "2022-03-16T10:42:50.620Z"
   },
   {
    "duration": 1184,
    "start_time": "2022-03-16T10:43:32.960Z"
   },
   {
    "duration": 1085,
    "start_time": "2022-03-16T10:44:55.446Z"
   },
   {
    "duration": 1031,
    "start_time": "2022-03-16T10:45:39.414Z"
   },
   {
    "duration": 1179,
    "start_time": "2022-03-16T10:46:48.039Z"
   },
   {
    "duration": 996,
    "start_time": "2022-03-16T10:47:38.670Z"
   },
   {
    "duration": 970,
    "start_time": "2022-03-16T10:53:20.640Z"
   },
   {
    "duration": 73,
    "start_time": "2022-03-17T08:59:22.123Z"
   },
   {
    "duration": 674,
    "start_time": "2022-03-17T08:59:27.427Z"
   },
   {
    "duration": 542,
    "start_time": "2022-03-17T08:59:28.104Z"
   },
   {
    "duration": 5,
    "start_time": "2022-03-17T08:59:28.649Z"
   },
   {
    "duration": 572,
    "start_time": "2022-03-17T08:59:28.673Z"
   },
   {
    "duration": 1999,
    "start_time": "2022-03-17T08:59:29.248Z"
   },
   {
    "duration": 7,
    "start_time": "2022-03-17T08:59:31.250Z"
   },
   {
    "duration": 11,
    "start_time": "2022-03-17T09:00:56.947Z"
   },
   {
    "duration": 266,
    "start_time": "2022-03-17T09:01:23.673Z"
   },
   {
    "duration": 382,
    "start_time": "2022-03-17T09:02:43.694Z"
   },
   {
    "duration": 342,
    "start_time": "2022-03-17T09:08:50.657Z"
   },
   {
    "duration": 251,
    "start_time": "2022-03-17T09:08:57.107Z"
   },
   {
    "duration": 307,
    "start_time": "2022-03-17T09:09:23.244Z"
   },
   {
    "duration": 2223,
    "start_time": "2022-03-17T09:09:34.600Z"
   },
   {
    "duration": 95,
    "start_time": "2022-03-17T09:10:41.466Z"
   },
   {
    "duration": 2389,
    "start_time": "2022-03-17T09:10:46.800Z"
   },
   {
    "duration": 331,
    "start_time": "2022-03-17T09:10:56.063Z"
   },
   {
    "duration": 227,
    "start_time": "2022-03-17T09:11:08.798Z"
   },
   {
    "duration": 3313,
    "start_time": "2022-03-17T10:32:56.505Z"
   },
   {
    "duration": 258,
    "start_time": "2022-03-17T10:33:13.252Z"
   },
   {
    "duration": 467,
    "start_time": "2022-03-17T10:33:34.260Z"
   },
   {
    "duration": 31,
    "start_time": "2022-03-17T10:34:24.451Z"
   },
   {
    "duration": 483,
    "start_time": "2022-03-17T10:34:34.401Z"
   },
   {
    "duration": 456,
    "start_time": "2022-03-17T10:35:35.144Z"
   },
   {
    "duration": 454,
    "start_time": "2022-03-17T10:38:48.685Z"
   },
   {
    "duration": 491,
    "start_time": "2022-03-17T10:44:36.688Z"
   },
   {
    "duration": 514,
    "start_time": "2022-03-17T10:44:49.693Z"
   },
   {
    "duration": 491,
    "start_time": "2022-03-17T10:45:04.387Z"
   },
   {
    "duration": 41,
    "start_time": "2022-03-17T11:19:48.547Z"
   },
   {
    "duration": 99,
    "start_time": "2022-03-17T11:20:17.087Z"
   },
   {
    "duration": 116,
    "start_time": "2022-03-17T11:20:51.715Z"
   },
   {
    "duration": 83,
    "start_time": "2022-03-17T11:21:07.943Z"
   },
   {
    "duration": 44,
    "start_time": "2022-03-17T11:23:20.222Z"
   },
   {
    "duration": 37,
    "start_time": "2022-03-17T11:24:09.616Z"
   },
   {
    "duration": 91,
    "start_time": "2022-03-17T11:25:08.807Z"
   },
   {
    "duration": 31,
    "start_time": "2022-03-17T11:28:40.555Z"
   },
   {
    "duration": 32,
    "start_time": "2022-03-17T11:29:05.722Z"
   },
   {
    "duration": 101,
    "start_time": "2022-03-17T11:29:31.163Z"
   },
   {
    "duration": 21,
    "start_time": "2022-03-17T11:29:50.694Z"
   },
   {
    "duration": 284,
    "start_time": "2022-03-17T11:29:58.521Z"
   },
   {
    "duration": 747,
    "start_time": "2022-03-17T11:29:58.809Z"
   },
   {
    "duration": 6,
    "start_time": "2022-03-17T11:29:59.559Z"
   },
   {
    "duration": 1084,
    "start_time": "2022-03-17T11:29:59.583Z"
   },
   {
    "duration": 1457,
    "start_time": "2022-03-17T11:30:00.669Z"
   },
   {
    "duration": 574,
    "start_time": "2022-03-17T11:30:02.129Z"
   },
   {
    "duration": 14,
    "start_time": "2022-03-17T11:30:02.706Z"
   },
   {
    "duration": 69,
    "start_time": "2022-03-17T11:30:16.442Z"
   },
   {
    "duration": 73,
    "start_time": "2022-03-17T11:30:30.504Z"
   },
   {
    "duration": 41,
    "start_time": "2022-03-17T11:31:33.240Z"
   },
   {
    "duration": 276,
    "start_time": "2022-03-17T11:31:52.833Z"
   },
   {
    "duration": 514,
    "start_time": "2022-03-17T11:31:53.112Z"
   },
   {
    "duration": 5,
    "start_time": "2022-03-17T11:31:53.629Z"
   },
   {
    "duration": 550,
    "start_time": "2022-03-17T11:31:53.637Z"
   },
   {
    "duration": 2133,
    "start_time": "2022-03-17T11:31:54.189Z"
   },
   {
    "duration": 512,
    "start_time": "2022-03-17T11:31:56.325Z"
   },
   {
    "duration": 46,
    "start_time": "2022-03-17T11:31:56.839Z"
   },
   {
    "duration": 1299,
    "start_time": "2022-03-17T11:33:43.899Z"
   },
   {
    "duration": 1640,
    "start_time": "2022-03-17T11:33:49.355Z"
   },
   {
    "duration": 525,
    "start_time": "2022-03-17T11:33:50.997Z"
   },
   {
    "duration": 6,
    "start_time": "2022-03-17T11:33:51.524Z"
   },
   {
    "duration": 650,
    "start_time": "2022-03-17T11:33:51.535Z"
   },
   {
    "duration": 1997,
    "start_time": "2022-03-17T11:33:52.188Z"
   },
   {
    "duration": 642,
    "start_time": "2022-03-17T11:33:54.188Z"
   },
   {
    "duration": 52,
    "start_time": "2022-03-17T11:33:54.832Z"
   },
   {
    "duration": 731,
    "start_time": "2022-03-17T11:35:12.404Z"
   },
   {
    "duration": 875,
    "start_time": "2022-03-17T11:35:14.037Z"
   },
   {
    "duration": 656,
    "start_time": "2022-03-17T11:35:50.783Z"
   },
   {
    "duration": 1270,
    "start_time": "2022-03-17T11:36:03.894Z"
   },
   {
    "duration": 480,
    "start_time": "2022-03-17T11:36:11.214Z"
   },
   {
    "duration": 229,
    "start_time": "2022-03-17T11:36:41.695Z"
   },
   {
    "duration": 71,
    "start_time": "2022-03-17T13:11:10.053Z"
   },
   {
    "duration": 835,
    "start_time": "2022-03-17T13:11:13.177Z"
   },
   {
    "duration": 514,
    "start_time": "2022-03-17T13:11:14.015Z"
   },
   {
    "duration": 5,
    "start_time": "2022-03-17T13:11:14.531Z"
   },
   {
    "duration": 585,
    "start_time": "2022-03-17T13:11:14.539Z"
   },
   {
    "duration": 1923,
    "start_time": "2022-03-17T13:11:15.127Z"
   },
   {
    "duration": 274,
    "start_time": "2022-03-17T13:11:17.053Z"
   },
   {
    "duration": 42,
    "start_time": "2022-03-17T13:11:17.329Z"
   },
   {
    "duration": 253,
    "start_time": "2022-03-17T13:14:16.988Z"
   },
   {
    "duration": 275,
    "start_time": "2022-03-17T13:26:47.846Z"
   },
   {
    "duration": 286,
    "start_time": "2022-03-17T13:27:08.290Z"
   },
   {
    "duration": 566,
    "start_time": "2022-03-17T13:27:47.846Z"
   },
   {
    "duration": 855,
    "start_time": "2022-03-17T13:28:46.581Z"
   },
   {
    "duration": 1159,
    "start_time": "2022-03-17T13:29:25.338Z"
   },
   {
    "duration": 2021,
    "start_time": "2022-03-17T13:30:39.312Z"
   },
   {
    "duration": 975,
    "start_time": "2022-03-17T15:23:47.124Z"
   },
   {
    "duration": 824,
    "start_time": "2022-03-17T15:23:48.102Z"
   },
   {
    "duration": 5,
    "start_time": "2022-03-17T15:23:48.928Z"
   },
   {
    "duration": 573,
    "start_time": "2022-03-17T15:23:48.936Z"
   },
   {
    "duration": 1905,
    "start_time": "2022-03-17T15:23:49.512Z"
   },
   {
    "duration": 290,
    "start_time": "2022-03-17T15:23:51.421Z"
   },
   {
    "duration": 288,
    "start_time": "2022-03-17T15:23:51.715Z"
   },
   {
    "duration": 722,
    "start_time": "2022-03-17T15:23:52.006Z"
   },
   {
    "duration": 0,
    "start_time": "2022-03-17T15:23:52.731Z"
   },
   {
    "duration": 16,
    "start_time": "2022-03-17T15:26:18.091Z"
   },
   {
    "duration": 309,
    "start_time": "2022-03-17T15:42:19.555Z"
   },
   {
    "duration": 290,
    "start_time": "2022-03-17T15:42:42.625Z"
   },
   {
    "duration": 431,
    "start_time": "2022-03-17T15:43:05.798Z"
   },
   {
    "duration": 288,
    "start_time": "2022-03-17T15:43:37.785Z"
   },
   {
    "duration": 278,
    "start_time": "2022-03-17T15:43:40.944Z"
   },
   {
    "duration": 407,
    "start_time": "2022-03-17T15:44:03.885Z"
   },
   {
    "duration": 299,
    "start_time": "2022-03-17T15:44:17.784Z"
   },
   {
    "duration": 301,
    "start_time": "2022-03-17T15:44:20.119Z"
   },
   {
    "duration": 296,
    "start_time": "2022-03-17T15:44:26.738Z"
   },
   {
    "duration": 606,
    "start_time": "2022-03-17T15:49:39.604Z"
   },
   {
    "duration": 634,
    "start_time": "2022-03-17T15:52:45.447Z"
   },
   {
    "duration": 689,
    "start_time": "2022-03-17T15:53:20.819Z"
   },
   {
    "duration": 175,
    "start_time": "2022-03-17T15:53:31.382Z"
   },
   {
    "duration": 511,
    "start_time": "2022-03-17T15:53:31.559Z"
   },
   {
    "duration": 5,
    "start_time": "2022-03-17T15:53:32.073Z"
   },
   {
    "duration": 537,
    "start_time": "2022-03-17T15:53:32.082Z"
   },
   {
    "duration": 1332,
    "start_time": "2022-03-17T15:53:32.621Z"
   },
   {
    "duration": 270,
    "start_time": "2022-03-17T15:53:33.955Z"
   },
   {
    "duration": 273,
    "start_time": "2022-03-17T15:53:34.227Z"
   },
   {
    "duration": 306,
    "start_time": "2022-03-17T15:53:34.502Z"
   },
   {
    "duration": 314,
    "start_time": "2022-03-17T15:53:34.811Z"
   },
   {
    "duration": 302,
    "start_time": "2022-03-17T15:53:35.130Z"
   },
   {
    "duration": 645,
    "start_time": "2022-03-17T15:53:35.435Z"
   },
   {
    "duration": 298,
    "start_time": "2022-03-17T15:53:36.083Z"
   },
   {
    "duration": 290,
    "start_time": "2022-03-17T15:53:36.383Z"
   },
   {
    "duration": 398,
    "start_time": "2022-03-17T15:53:36.676Z"
   },
   {
    "duration": 620,
    "start_time": "2022-03-17T15:54:24.085Z"
   },
   {
    "duration": 635,
    "start_time": "2022-03-17T15:54:31.621Z"
   },
   {
    "duration": 917,
    "start_time": "2022-03-17T16:07:42.014Z"
   },
   {
    "duration": 679,
    "start_time": "2022-03-17T16:08:10.590Z"
   },
   {
    "duration": 1004,
    "start_time": "2022-03-17T16:09:07.350Z"
   },
   {
    "duration": 172,
    "start_time": "2022-03-17T16:09:25.822Z"
   },
   {
    "duration": 512,
    "start_time": "2022-03-17T16:09:25.996Z"
   },
   {
    "duration": 5,
    "start_time": "2022-03-17T16:09:26.511Z"
   },
   {
    "duration": 541,
    "start_time": "2022-03-17T16:09:26.519Z"
   },
   {
    "duration": 1360,
    "start_time": "2022-03-17T16:09:27.062Z"
   },
   {
    "duration": 272,
    "start_time": "2022-03-17T16:09:28.425Z"
   },
   {
    "duration": 267,
    "start_time": "2022-03-17T16:09:28.700Z"
   },
   {
    "duration": 290,
    "start_time": "2022-03-17T16:09:28.973Z"
   },
   {
    "duration": 325,
    "start_time": "2022-03-17T16:09:29.265Z"
   },
   {
    "duration": 309,
    "start_time": "2022-03-17T16:09:29.593Z"
   },
   {
    "duration": 697,
    "start_time": "2022-03-17T16:09:29.904Z"
   },
   {
    "duration": 444,
    "start_time": "2022-03-17T16:09:30.604Z"
   },
   {
    "duration": 305,
    "start_time": "2022-03-17T16:09:31.050Z"
   },
   {
    "duration": 314,
    "start_time": "2022-03-17T16:09:31.358Z"
   },
   {
    "duration": 986,
    "start_time": "2022-03-17T16:10:08.490Z"
   },
   {
    "duration": 174,
    "start_time": "2022-03-17T16:10:20.724Z"
   },
   {
    "duration": 607,
    "start_time": "2022-03-17T16:10:20.901Z"
   },
   {
    "duration": 5,
    "start_time": "2022-03-17T16:10:21.510Z"
   },
   {
    "duration": 546,
    "start_time": "2022-03-17T16:10:21.518Z"
   },
   {
    "duration": 1249,
    "start_time": "2022-03-17T16:10:22.066Z"
   },
   {
    "duration": 270,
    "start_time": "2022-03-17T16:10:23.317Z"
   },
   {
    "duration": 261,
    "start_time": "2022-03-17T16:10:23.589Z"
   },
   {
    "duration": 285,
    "start_time": "2022-03-17T16:10:23.852Z"
   },
   {
    "duration": 320,
    "start_time": "2022-03-17T16:10:24.139Z"
   },
   {
    "duration": 418,
    "start_time": "2022-03-17T16:10:24.462Z"
   },
   {
    "duration": 658,
    "start_time": "2022-03-17T16:10:24.882Z"
   },
   {
    "duration": 444,
    "start_time": "2022-03-17T16:10:25.542Z"
   },
   {
    "duration": 422,
    "start_time": "2022-03-17T16:10:25.989Z"
   },
   {
    "duration": 428,
    "start_time": "2022-03-17T16:10:26.413Z"
   },
   {
    "duration": 366,
    "start_time": "2022-03-17T16:11:12.338Z"
   },
   {
    "duration": 583,
    "start_time": "2022-03-17T16:18:45.527Z"
   },
   {
    "duration": 606,
    "start_time": "2022-03-17T16:19:16.429Z"
   },
   {
    "duration": 626,
    "start_time": "2022-03-17T16:20:09.652Z"
   },
   {
    "duration": 887,
    "start_time": "2022-03-17T16:20:20.151Z"
   },
   {
    "duration": 611,
    "start_time": "2022-03-17T16:20:35.983Z"
   },
   {
    "duration": 625,
    "start_time": "2022-03-17T16:20:43.886Z"
   },
   {
    "duration": 445,
    "start_time": "2022-03-17T16:20:58.092Z"
   },
   {
    "duration": 605,
    "start_time": "2022-03-17T16:28:23.491Z"
   },
   {
    "duration": 913,
    "start_time": "2022-03-17T16:28:31.246Z"
   },
   {
    "duration": 309,
    "start_time": "2022-03-17T16:31:54.850Z"
   },
   {
    "duration": 286,
    "start_time": "2022-03-17T16:33:20.761Z"
   },
   {
    "duration": 321,
    "start_time": "2022-03-17T16:34:26.940Z"
   },
   {
    "duration": 1029,
    "start_time": "2022-03-17T16:37:49.029Z"
   },
   {
    "duration": 576,
    "start_time": "2022-03-17T16:38:08.171Z"
   },
   {
    "duration": 66,
    "start_time": "2022-03-17T17:02:21.113Z"
   },
   {
    "duration": 174,
    "start_time": "2022-03-17T17:06:40.308Z"
   },
   {
    "duration": 500,
    "start_time": "2022-03-17T17:06:40.485Z"
   },
   {
    "duration": 5,
    "start_time": "2022-03-17T17:06:40.987Z"
   },
   {
    "duration": 537,
    "start_time": "2022-03-17T17:06:40.995Z"
   },
   {
    "duration": 1603,
    "start_time": "2022-03-17T17:06:41.536Z"
   },
   {
    "duration": 281,
    "start_time": "2022-03-17T17:06:43.142Z"
   },
   {
    "duration": 269,
    "start_time": "2022-03-17T17:06:43.425Z"
   },
   {
    "duration": 291,
    "start_time": "2022-03-17T17:06:43.697Z"
   },
   {
    "duration": 454,
    "start_time": "2022-03-17T17:06:43.990Z"
   },
   {
    "duration": 595,
    "start_time": "2022-03-17T17:06:44.449Z"
   },
   {
    "duration": 331,
    "start_time": "2022-03-17T17:06:45.047Z"
   },
   {
    "duration": 311,
    "start_time": "2022-03-17T17:06:45.380Z"
   },
   {
    "duration": 291,
    "start_time": "2022-03-17T17:06:45.694Z"
   },
   {
    "duration": 289,
    "start_time": "2022-03-17T17:06:45.987Z"
   },
   {
    "duration": 108,
    "start_time": "2022-03-17T17:06:46.278Z"
   },
   {
    "duration": 3867,
    "start_time": "2022-03-17T17:08:09.218Z"
   },
   {
    "duration": 4276,
    "start_time": "2022-03-17T17:08:13.247Z"
   },
   {
    "duration": 3357,
    "start_time": "2022-03-17T17:08:22.242Z"
   },
   {
    "duration": 3233,
    "start_time": "2022-03-17T17:09:21.618Z"
   },
   {
    "duration": 26,
    "start_time": "2022-03-17T17:09:42.091Z"
   },
   {
    "duration": 22,
    "start_time": "2022-03-17T17:09:49.183Z"
   },
   {
    "duration": 21,
    "start_time": "2022-03-17T17:10:16.931Z"
   },
   {
    "duration": 23,
    "start_time": "2022-03-17T17:10:49.439Z"
   },
   {
    "duration": 21,
    "start_time": "2022-03-17T17:11:11.655Z"
   },
   {
    "duration": 22,
    "start_time": "2022-03-17T17:11:15.952Z"
   },
   {
    "duration": 26,
    "start_time": "2022-03-17T18:48:16.810Z"
   },
   {
    "duration": 50,
    "start_time": "2022-03-17T18:49:07.563Z"
   },
   {
    "duration": 29,
    "start_time": "2022-03-17T18:49:35.715Z"
   },
   {
    "duration": 31,
    "start_time": "2022-03-17T18:49:59.179Z"
   },
   {
    "duration": 114,
    "start_time": "2022-03-17T18:50:10.168Z"
   },
   {
    "duration": 34,
    "start_time": "2022-03-17T18:50:22.073Z"
   },
   {
    "duration": 29,
    "start_time": "2022-03-17T18:50:30.196Z"
   },
   {
    "duration": 35,
    "start_time": "2022-03-17T18:50:37.601Z"
   },
   {
    "duration": 28,
    "start_time": "2022-03-17T18:50:57.754Z"
   },
   {
    "duration": 105,
    "start_time": "2022-03-17T18:51:27.432Z"
   },
   {
    "duration": 33,
    "start_time": "2022-03-17T18:51:59.332Z"
   },
   {
    "duration": 28,
    "start_time": "2022-03-17T18:52:06.927Z"
   },
   {
    "duration": 30,
    "start_time": "2022-03-17T18:53:04.411Z"
   },
   {
    "duration": 1813,
    "start_time": "2022-03-17T18:53:32.367Z"
   },
   {
    "duration": 94,
    "start_time": "2022-03-17T18:55:20.285Z"
   },
   {
    "duration": 32,
    "start_time": "2022-03-17T18:55:34.244Z"
   },
   {
    "duration": 32,
    "start_time": "2022-03-17T18:57:28.951Z"
   },
   {
    "duration": 38,
    "start_time": "2022-03-17T19:03:52.939Z"
   },
   {
    "duration": 34,
    "start_time": "2022-03-17T19:07:05.470Z"
   },
   {
    "duration": 39,
    "start_time": "2022-03-17T19:07:14.547Z"
   },
   {
    "duration": 31,
    "start_time": "2022-03-17T19:17:24.999Z"
   },
   {
    "duration": 20,
    "start_time": "2022-03-17T19:18:30.265Z"
   },
   {
    "duration": 138,
    "start_time": "2022-03-17T19:20:00.898Z"
   },
   {
    "duration": 168,
    "start_time": "2022-03-17T19:20:10.017Z"
   },
   {
    "duration": 28,
    "start_time": "2022-03-17T19:38:50.036Z"
   },
   {
    "duration": 31,
    "start_time": "2022-03-17T19:41:45.450Z"
   },
   {
    "duration": 87,
    "start_time": "2022-03-17T19:42:35.587Z"
   },
   {
    "duration": 31,
    "start_time": "2022-03-17T19:43:30.500Z"
   },
   {
    "duration": 23,
    "start_time": "2022-03-17T19:43:54.434Z"
   },
   {
    "duration": 23,
    "start_time": "2022-03-17T19:44:15.970Z"
   },
   {
    "duration": 26,
    "start_time": "2022-03-17T19:45:26.623Z"
   },
   {
    "duration": 41,
    "start_time": "2022-03-17T19:45:41.718Z"
   },
   {
    "duration": 29,
    "start_time": "2022-03-17T19:46:01.830Z"
   },
   {
    "duration": 29,
    "start_time": "2022-03-17T19:46:10.765Z"
   },
   {
    "duration": 29,
    "start_time": "2022-03-17T19:46:23.640Z"
   },
   {
    "duration": 93,
    "start_time": "2022-03-17T19:49:49.829Z"
   },
   {
    "duration": 87,
    "start_time": "2022-03-17T19:49:54.689Z"
   },
   {
    "duration": 31,
    "start_time": "2022-03-17T19:51:02.019Z"
   },
   {
    "duration": 28,
    "start_time": "2022-03-17T19:52:21.176Z"
   },
   {
    "duration": 47,
    "start_time": "2022-03-17T19:52:31.905Z"
   },
   {
    "duration": 28,
    "start_time": "2022-03-17T19:52:44.670Z"
   },
   {
    "duration": 33,
    "start_time": "2022-03-17T19:53:01.156Z"
   },
   {
    "duration": 29,
    "start_time": "2022-03-17T19:53:09.548Z"
   },
   {
    "duration": 3685,
    "start_time": "2022-03-17T19:54:32.885Z"
   },
   {
    "duration": 38,
    "start_time": "2022-03-17T19:54:49.605Z"
   },
   {
    "duration": 29,
    "start_time": "2022-03-17T19:55:07.021Z"
   },
   {
    "duration": 29,
    "start_time": "2022-03-17T19:55:26.244Z"
   },
   {
    "duration": 341,
    "start_time": "2022-03-17T20:02:16.064Z"
   },
   {
    "duration": 580,
    "start_time": "2022-03-17T20:03:19.324Z"
   },
   {
    "duration": 798,
    "start_time": "2022-03-17T20:04:31.762Z"
   },
   {
    "duration": 516,
    "start_time": "2022-03-17T20:05:05.767Z"
   },
   {
    "duration": 318,
    "start_time": "2022-03-17T20:08:02.523Z"
   },
   {
    "duration": 40,
    "start_time": "2022-03-17T20:20:27.561Z"
   },
   {
    "duration": 193,
    "start_time": "2022-03-17T20:20:45.583Z"
   },
   {
    "duration": 513,
    "start_time": "2022-03-17T20:20:45.779Z"
   },
   {
    "duration": 6,
    "start_time": "2022-03-17T20:20:46.295Z"
   },
   {
    "duration": 549,
    "start_time": "2022-03-17T20:20:46.304Z"
   },
   {
    "duration": 1243,
    "start_time": "2022-03-17T20:20:46.855Z"
   },
   {
    "duration": 368,
    "start_time": "2022-03-17T20:20:48.100Z"
   },
   {
    "duration": 291,
    "start_time": "2022-03-17T20:20:48.474Z"
   },
   {
    "duration": 296,
    "start_time": "2022-03-17T20:20:48.767Z"
   },
   {
    "duration": 312,
    "start_time": "2022-03-17T20:20:49.065Z"
   },
   {
    "duration": 579,
    "start_time": "2022-03-17T20:20:49.380Z"
   },
   {
    "duration": 338,
    "start_time": "2022-03-17T20:20:49.961Z"
   },
   {
    "duration": 304,
    "start_time": "2022-03-17T20:20:50.301Z"
   },
   {
    "duration": 303,
    "start_time": "2022-03-17T20:20:50.607Z"
   },
   {
    "duration": 306,
    "start_time": "2022-03-17T20:20:50.913Z"
   },
   {
    "duration": 57,
    "start_time": "2022-03-17T20:20:51.222Z"
   },
   {
    "duration": 32,
    "start_time": "2022-03-17T20:20:51.282Z"
   },
   {
    "duration": 14,
    "start_time": "2022-03-17T20:21:08.140Z"
   },
   {
    "duration": 15,
    "start_time": "2022-03-17T20:21:23.615Z"
   },
   {
    "duration": 19,
    "start_time": "2022-03-17T20:21:30.576Z"
   },
   {
    "duration": 241,
    "start_time": "2022-03-17T20:22:19.087Z"
   },
   {
    "duration": 987,
    "start_time": "2022-03-17T20:22:19.331Z"
   },
   {
    "duration": 6,
    "start_time": "2022-03-17T20:22:20.321Z"
   },
   {
    "duration": 648,
    "start_time": "2022-03-17T20:22:20.330Z"
   },
   {
    "duration": 1269,
    "start_time": "2022-03-17T20:22:20.981Z"
   },
   {
    "duration": 284,
    "start_time": "2022-03-17T20:22:22.253Z"
   },
   {
    "duration": 364,
    "start_time": "2022-03-17T20:22:22.540Z"
   },
   {
    "duration": 378,
    "start_time": "2022-03-17T20:22:22.906Z"
   },
   {
    "duration": 334,
    "start_time": "2022-03-17T20:22:23.286Z"
   },
   {
    "duration": 645,
    "start_time": "2022-03-17T20:22:23.624Z"
   },
   {
    "duration": 334,
    "start_time": "2022-03-17T20:22:24.274Z"
   },
   {
    "duration": 309,
    "start_time": "2022-03-17T20:22:24.610Z"
   },
   {
    "duration": 301,
    "start_time": "2022-03-17T20:22:24.921Z"
   },
   {
    "duration": 295,
    "start_time": "2022-03-17T20:22:25.224Z"
   },
   {
    "duration": 59,
    "start_time": "2022-03-17T20:22:25.522Z"
   },
   {
    "duration": 97,
    "start_time": "2022-03-17T20:22:25.583Z"
   },
   {
    "duration": 59,
    "start_time": "2022-03-17T20:22:52.389Z"
   },
   {
    "duration": 385,
    "start_time": "2022-03-17T20:24:13.242Z"
   },
   {
    "duration": 174,
    "start_time": "2022-03-17T20:25:06.237Z"
   },
   {
    "duration": 503,
    "start_time": "2022-03-17T20:25:06.414Z"
   },
   {
    "duration": 5,
    "start_time": "2022-03-17T20:25:06.919Z"
   },
   {
    "duration": 630,
    "start_time": "2022-03-17T20:25:06.927Z"
   },
   {
    "duration": 1235,
    "start_time": "2022-03-17T20:25:07.559Z"
   },
   {
    "duration": 345,
    "start_time": "2022-03-17T20:25:08.796Z"
   },
   {
    "duration": 454,
    "start_time": "2022-03-17T20:25:09.144Z"
   },
   {
    "duration": 290,
    "start_time": "2022-03-17T20:25:09.600Z"
   },
   {
    "duration": 408,
    "start_time": "2022-03-17T20:25:09.892Z"
   },
   {
    "duration": 570,
    "start_time": "2022-03-17T20:25:10.305Z"
   },
   {
    "duration": 337,
    "start_time": "2022-03-17T20:25:10.878Z"
   },
   {
    "duration": 325,
    "start_time": "2022-03-17T20:25:11.218Z"
   },
   {
    "duration": 428,
    "start_time": "2022-03-17T20:25:11.545Z"
   },
   {
    "duration": 346,
    "start_time": "2022-03-17T20:25:11.976Z"
   },
   {
    "duration": 61,
    "start_time": "2022-03-17T20:25:12.324Z"
   },
   {
    "duration": 358,
    "start_time": "2022-03-17T20:25:12.388Z"
   },
   {
    "duration": 540,
    "start_time": "2022-03-17T20:27:47.941Z"
   },
   {
    "duration": 726,
    "start_time": "2022-03-17T20:28:02.679Z"
   },
   {
    "duration": 235,
    "start_time": "2022-03-17T20:28:13.109Z"
   },
   {
    "duration": 760,
    "start_time": "2022-03-17T20:28:13.348Z"
   },
   {
    "duration": 6,
    "start_time": "2022-03-17T20:28:14.110Z"
   },
   {
    "duration": 701,
    "start_time": "2022-03-17T20:28:14.119Z"
   },
   {
    "duration": 1243,
    "start_time": "2022-03-17T20:28:14.822Z"
   },
   {
    "duration": 506,
    "start_time": "2022-03-17T20:28:16.067Z"
   },
   {
    "duration": 343,
    "start_time": "2022-03-17T20:28:16.577Z"
   },
   {
    "duration": 319,
    "start_time": "2022-03-17T20:28:16.923Z"
   },
   {
    "duration": 321,
    "start_time": "2022-03-17T20:28:17.245Z"
   },
   {
    "duration": 798,
    "start_time": "2022-03-17T20:28:17.575Z"
   },
   {
    "duration": 461,
    "start_time": "2022-03-17T20:28:18.376Z"
   },
   {
    "duration": 318,
    "start_time": "2022-03-17T20:28:18.839Z"
   },
   {
    "duration": 314,
    "start_time": "2022-03-17T20:28:19.159Z"
   },
   {
    "duration": 399,
    "start_time": "2022-03-17T20:28:19.476Z"
   },
   {
    "duration": 54,
    "start_time": "2022-03-17T20:28:19.877Z"
   },
   {
    "duration": 551,
    "start_time": "2022-03-17T20:28:19.933Z"
   },
   {
    "duration": 530,
    "start_time": "2022-03-17T20:28:34.058Z"
   },
   {
    "duration": 177,
    "start_time": "2022-03-17T20:28:42.819Z"
   },
   {
    "duration": 525,
    "start_time": "2022-03-17T20:28:42.999Z"
   },
   {
    "duration": 5,
    "start_time": "2022-03-17T20:28:43.527Z"
   },
   {
    "duration": 559,
    "start_time": "2022-03-17T20:28:43.536Z"
   },
   {
    "duration": 1800,
    "start_time": "2022-03-17T20:28:44.098Z"
   },
   {
    "duration": 290,
    "start_time": "2022-03-17T20:28:45.900Z"
   },
   {
    "duration": 290,
    "start_time": "2022-03-17T20:28:46.193Z"
   },
   {
    "duration": 297,
    "start_time": "2022-03-17T20:28:46.485Z"
   },
   {
    "duration": 321,
    "start_time": "2022-03-17T20:28:46.784Z"
   },
   {
    "duration": 613,
    "start_time": "2022-03-17T20:28:47.109Z"
   },
   {
    "duration": 355,
    "start_time": "2022-03-17T20:28:47.724Z"
   },
   {
    "duration": 320,
    "start_time": "2022-03-17T20:28:48.081Z"
   },
   {
    "duration": 307,
    "start_time": "2022-03-17T20:28:48.403Z"
   },
   {
    "duration": 318,
    "start_time": "2022-03-17T20:28:48.713Z"
   },
   {
    "duration": 62,
    "start_time": "2022-03-17T20:28:49.034Z"
   },
   {
    "duration": 546,
    "start_time": "2022-03-17T20:28:49.098Z"
   },
   {
    "duration": 527,
    "start_time": "2022-03-17T20:29:57.814Z"
   },
   {
    "duration": 194,
    "start_time": "2022-03-17T20:30:02.609Z"
   },
   {
    "duration": 657,
    "start_time": "2022-03-17T20:30:02.806Z"
   },
   {
    "duration": 9,
    "start_time": "2022-03-17T20:30:03.465Z"
   },
   {
    "duration": 847,
    "start_time": "2022-03-17T20:30:03.478Z"
   },
   {
    "duration": 1682,
    "start_time": "2022-03-17T20:30:04.328Z"
   },
   {
    "duration": 384,
    "start_time": "2022-03-17T20:30:06.013Z"
   },
   {
    "duration": 378,
    "start_time": "2022-03-17T20:30:06.399Z"
   },
   {
    "duration": 362,
    "start_time": "2022-03-17T20:30:06.780Z"
   },
   {
    "duration": 318,
    "start_time": "2022-03-17T20:30:07.145Z"
   },
   {
    "duration": 573,
    "start_time": "2022-03-17T20:30:07.467Z"
   },
   {
    "duration": 418,
    "start_time": "2022-03-17T20:30:08.043Z"
   },
   {
    "duration": 410,
    "start_time": "2022-03-17T20:30:08.463Z"
   },
   {
    "duration": 353,
    "start_time": "2022-03-17T20:30:08.877Z"
   },
   {
    "duration": 305,
    "start_time": "2022-03-17T20:30:09.233Z"
   },
   {
    "duration": 65,
    "start_time": "2022-03-17T20:30:09.540Z"
   },
   {
    "duration": 520,
    "start_time": "2022-03-17T20:30:09.608Z"
   },
   {
    "duration": 527,
    "start_time": "2022-03-17T20:31:05.850Z"
   },
   {
    "duration": 236,
    "start_time": "2022-03-17T20:31:11.452Z"
   },
   {
    "duration": 820,
    "start_time": "2022-03-17T20:31:11.691Z"
   },
   {
    "duration": 7,
    "start_time": "2022-03-17T20:31:12.514Z"
   },
   {
    "duration": 659,
    "start_time": "2022-03-17T20:31:12.524Z"
   },
   {
    "duration": 1495,
    "start_time": "2022-03-17T20:31:13.187Z"
   },
   {
    "duration": 394,
    "start_time": "2022-03-17T20:31:14.685Z"
   },
   {
    "duration": 695,
    "start_time": "2022-03-17T20:31:15.082Z"
   },
   {
    "duration": 416,
    "start_time": "2022-03-17T20:31:15.780Z"
   },
   {
    "duration": 347,
    "start_time": "2022-03-17T20:31:16.198Z"
   },
   {
    "duration": 585,
    "start_time": "2022-03-17T20:31:16.549Z"
   },
   {
    "duration": 461,
    "start_time": "2022-03-17T20:31:17.138Z"
   },
   {
    "duration": 407,
    "start_time": "2022-03-17T20:31:17.602Z"
   },
   {
    "duration": 335,
    "start_time": "2022-03-17T20:31:18.011Z"
   },
   {
    "duration": 304,
    "start_time": "2022-03-17T20:31:18.349Z"
   },
   {
    "duration": 60,
    "start_time": "2022-03-17T20:31:18.656Z"
   },
   {
    "duration": 538,
    "start_time": "2022-03-17T20:31:18.718Z"
   },
   {
    "duration": 533,
    "start_time": "2022-03-17T20:33:36.755Z"
   },
   {
    "duration": 164,
    "start_time": "2022-03-17T20:33:41.858Z"
   },
   {
    "duration": 503,
    "start_time": "2022-03-17T20:33:42.025Z"
   },
   {
    "duration": 6,
    "start_time": "2022-03-17T20:33:42.530Z"
   },
   {
    "duration": 542,
    "start_time": "2022-03-17T20:33:42.538Z"
   },
   {
    "duration": 1292,
    "start_time": "2022-03-17T20:33:43.082Z"
   },
   {
    "duration": 355,
    "start_time": "2022-03-17T20:33:44.377Z"
   },
   {
    "duration": 273,
    "start_time": "2022-03-17T20:33:44.734Z"
   },
   {
    "duration": 297,
    "start_time": "2022-03-17T20:33:45.010Z"
   },
   {
    "duration": 585,
    "start_time": "2022-03-17T20:33:45.309Z"
   },
   {
    "duration": 611,
    "start_time": "2022-03-17T20:33:45.899Z"
   },
   {
    "duration": 334,
    "start_time": "2022-03-17T20:33:46.512Z"
   },
   {
    "duration": 312,
    "start_time": "2022-03-17T20:33:46.849Z"
   },
   {
    "duration": 303,
    "start_time": "2022-03-17T20:33:47.163Z"
   },
   {
    "duration": 310,
    "start_time": "2022-03-17T20:33:47.474Z"
   },
   {
    "duration": 47,
    "start_time": "2022-03-17T20:33:47.786Z"
   },
   {
    "duration": 541,
    "start_time": "2022-03-17T20:33:47.836Z"
   },
   {
    "duration": 523,
    "start_time": "2022-03-17T20:34:52.433Z"
   },
   {
    "duration": 174,
    "start_time": "2022-03-17T20:35:32.155Z"
   },
   {
    "duration": 562,
    "start_time": "2022-03-17T20:35:32.333Z"
   },
   {
    "duration": 5,
    "start_time": "2022-03-17T20:35:32.897Z"
   },
   {
    "duration": 660,
    "start_time": "2022-03-17T20:35:32.904Z"
   },
   {
    "duration": 1362,
    "start_time": "2022-03-17T20:35:33.574Z"
   },
   {
    "duration": 292,
    "start_time": "2022-03-17T20:35:34.939Z"
   },
   {
    "duration": 330,
    "start_time": "2022-03-17T20:35:35.233Z"
   },
   {
    "duration": 323,
    "start_time": "2022-03-17T20:35:35.565Z"
   },
   {
    "duration": 315,
    "start_time": "2022-03-17T20:35:35.890Z"
   },
   {
    "duration": 596,
    "start_time": "2022-03-17T20:35:36.208Z"
   },
   {
    "duration": 403,
    "start_time": "2022-03-17T20:35:36.807Z"
   },
   {
    "duration": 395,
    "start_time": "2022-03-17T20:35:37.213Z"
   },
   {
    "duration": 580,
    "start_time": "2022-03-17T20:35:37.611Z"
   },
   {
    "duration": 361,
    "start_time": "2022-03-17T20:35:38.193Z"
   },
   {
    "duration": 66,
    "start_time": "2022-03-17T20:35:38.556Z"
   },
   {
    "duration": 189,
    "start_time": "2022-03-17T20:35:38.625Z"
   },
   {
    "duration": 56,
    "start_time": "2022-03-17T20:37:37.583Z"
   },
   {
    "duration": 61,
    "start_time": "2022-03-17T20:37:51.494Z"
   },
   {
    "duration": 194,
    "start_time": "2022-03-17T20:37:56.681Z"
   },
   {
    "duration": 512,
    "start_time": "2022-03-17T20:37:56.878Z"
   },
   {
    "duration": 5,
    "start_time": "2022-03-17T20:37:57.393Z"
   },
   {
    "duration": 537,
    "start_time": "2022-03-17T20:37:57.401Z"
   },
   {
    "duration": 1227,
    "start_time": "2022-03-17T20:37:57.940Z"
   },
   {
    "duration": 300,
    "start_time": "2022-03-17T20:37:59.169Z"
   },
   {
    "duration": 264,
    "start_time": "2022-03-17T20:37:59.474Z"
   },
   {
    "duration": 312,
    "start_time": "2022-03-17T20:37:59.740Z"
   },
   {
    "duration": 303,
    "start_time": "2022-03-17T20:38:00.054Z"
   },
   {
    "duration": 578,
    "start_time": "2022-03-17T20:38:00.360Z"
   },
   {
    "duration": 339,
    "start_time": "2022-03-17T20:38:00.940Z"
   },
   {
    "duration": 308,
    "start_time": "2022-03-17T20:38:01.281Z"
   },
   {
    "duration": 396,
    "start_time": "2022-03-17T20:38:01.591Z"
   },
   {
    "duration": 325,
    "start_time": "2022-03-17T20:38:01.989Z"
   },
   {
    "duration": 68,
    "start_time": "2022-03-17T20:38:02.317Z"
   },
   {
    "duration": 34,
    "start_time": "2022-03-17T20:38:02.387Z"
   },
   {
    "duration": 189,
    "start_time": "2022-03-17T20:39:50.134Z"
   },
   {
    "duration": 523,
    "start_time": "2022-03-17T20:39:50.326Z"
   },
   {
    "duration": 5,
    "start_time": "2022-03-17T20:39:50.851Z"
   },
   {
    "duration": 549,
    "start_time": "2022-03-17T20:39:50.859Z"
   },
   {
    "duration": 1569,
    "start_time": "2022-03-17T20:39:51.410Z"
   },
   {
    "duration": 271,
    "start_time": "2022-03-17T20:39:52.982Z"
   },
   {
    "duration": 272,
    "start_time": "2022-03-17T20:39:53.256Z"
   },
   {
    "duration": 299,
    "start_time": "2022-03-17T20:39:53.531Z"
   },
   {
    "duration": 305,
    "start_time": "2022-03-17T20:39:53.832Z"
   },
   {
    "duration": 579,
    "start_time": "2022-03-17T20:39:54.143Z"
   },
   {
    "duration": 340,
    "start_time": "2022-03-17T20:39:54.725Z"
   },
   {
    "duration": 302,
    "start_time": "2022-03-17T20:39:55.067Z"
   },
   {
    "duration": 296,
    "start_time": "2022-03-17T20:39:55.370Z"
   },
   {
    "duration": 293,
    "start_time": "2022-03-17T20:39:55.669Z"
   },
   {
    "duration": 60,
    "start_time": "2022-03-17T20:39:55.964Z"
   },
   {
    "duration": 788,
    "start_time": "2022-03-17T20:39:56.027Z"
   },
   {
    "duration": 237,
    "start_time": "2022-03-17T20:40:38.885Z"
   },
   {
    "duration": 762,
    "start_time": "2022-03-17T20:40:39.126Z"
   },
   {
    "duration": 8,
    "start_time": "2022-03-17T20:40:39.890Z"
   },
   {
    "duration": 561,
    "start_time": "2022-03-17T20:40:39.900Z"
   },
   {
    "duration": 1259,
    "start_time": "2022-03-17T20:40:40.474Z"
   },
   {
    "duration": 276,
    "start_time": "2022-03-17T20:40:41.736Z"
   },
   {
    "duration": 261,
    "start_time": "2022-03-17T20:40:42.015Z"
   },
   {
    "duration": 291,
    "start_time": "2022-03-17T20:40:42.279Z"
   },
   {
    "duration": 388,
    "start_time": "2022-03-17T20:40:42.573Z"
   },
   {
    "duration": 631,
    "start_time": "2022-03-17T20:40:42.963Z"
   },
   {
    "duration": 352,
    "start_time": "2022-03-17T20:40:43.596Z"
   },
   {
    "duration": 325,
    "start_time": "2022-03-17T20:40:43.951Z"
   },
   {
    "duration": 408,
    "start_time": "2022-03-17T20:40:44.278Z"
   },
   {
    "duration": 412,
    "start_time": "2022-03-17T20:40:44.690Z"
   },
   {
    "duration": 69,
    "start_time": "2022-03-17T20:40:45.105Z"
   },
   {
    "duration": 982,
    "start_time": "2022-03-17T20:40:45.177Z"
   },
   {
    "duration": 171,
    "start_time": "2022-03-17T20:41:55.828Z"
   },
   {
    "duration": 510,
    "start_time": "2022-03-17T20:41:56.002Z"
   },
   {
    "duration": 5,
    "start_time": "2022-03-17T20:41:56.515Z"
   },
   {
    "duration": 541,
    "start_time": "2022-03-17T20:41:56.524Z"
   },
   {
    "duration": 1320,
    "start_time": "2022-03-17T20:41:57.068Z"
   },
   {
    "duration": 268,
    "start_time": "2022-03-17T20:41:58.390Z"
   },
   {
    "duration": 273,
    "start_time": "2022-03-17T20:41:58.660Z"
   },
   {
    "duration": 291,
    "start_time": "2022-03-17T20:41:58.935Z"
   },
   {
    "duration": 318,
    "start_time": "2022-03-17T20:41:59.228Z"
   },
   {
    "duration": 575,
    "start_time": "2022-03-17T20:41:59.549Z"
   },
   {
    "duration": 337,
    "start_time": "2022-03-17T20:42:00.127Z"
   },
   {
    "duration": 314,
    "start_time": "2022-03-17T20:42:00.467Z"
   },
   {
    "duration": 304,
    "start_time": "2022-03-17T20:42:00.783Z"
   },
   {
    "duration": 310,
    "start_time": "2022-03-17T20:42:01.089Z"
   },
   {
    "duration": 43,
    "start_time": "2022-03-17T20:42:01.402Z"
   },
   {
    "duration": 572,
    "start_time": "2022-03-17T20:42:01.447Z"
   },
   {
    "duration": 189,
    "start_time": "2022-03-17T20:42:51.299Z"
   },
   {
    "duration": 520,
    "start_time": "2022-03-17T20:42:51.492Z"
   },
   {
    "duration": 6,
    "start_time": "2022-03-17T20:42:52.015Z"
   },
   {
    "duration": 555,
    "start_time": "2022-03-17T20:42:52.025Z"
   },
   {
    "duration": 1287,
    "start_time": "2022-03-17T20:42:52.582Z"
   },
   {
    "duration": 270,
    "start_time": "2022-03-17T20:42:53.871Z"
   },
   {
    "duration": 266,
    "start_time": "2022-03-17T20:42:54.143Z"
   },
   {
    "duration": 639,
    "start_time": "2022-03-17T20:42:54.412Z"
   },
   {
    "duration": 312,
    "start_time": "2022-03-17T20:42:55.054Z"
   },
   {
    "duration": 580,
    "start_time": "2022-03-17T20:42:55.375Z"
   },
   {
    "duration": 347,
    "start_time": "2022-03-17T20:42:55.958Z"
   },
   {
    "duration": 306,
    "start_time": "2022-03-17T20:42:56.307Z"
   },
   {
    "duration": 316,
    "start_time": "2022-03-17T20:42:56.615Z"
   },
   {
    "duration": 305,
    "start_time": "2022-03-17T20:42:56.934Z"
   },
   {
    "duration": 58,
    "start_time": "2022-03-17T20:42:57.241Z"
   },
   {
    "duration": 543,
    "start_time": "2022-03-17T20:42:57.301Z"
   },
   {
    "duration": 178,
    "start_time": "2022-03-17T20:43:43.881Z"
   },
   {
    "duration": 612,
    "start_time": "2022-03-17T20:43:44.074Z"
   },
   {
    "duration": 5,
    "start_time": "2022-03-17T20:43:44.689Z"
   },
   {
    "duration": 550,
    "start_time": "2022-03-17T20:43:44.699Z"
   },
   {
    "duration": 1287,
    "start_time": "2022-03-17T20:43:45.252Z"
   },
   {
    "duration": 281,
    "start_time": "2022-03-17T20:43:46.542Z"
   },
   {
    "duration": 275,
    "start_time": "2022-03-17T20:43:46.826Z"
   },
   {
    "duration": 364,
    "start_time": "2022-03-17T20:43:47.104Z"
   },
   {
    "duration": 332,
    "start_time": "2022-03-17T20:43:47.475Z"
   },
   {
    "duration": 616,
    "start_time": "2022-03-17T20:43:47.812Z"
   },
   {
    "duration": 351,
    "start_time": "2022-03-17T20:43:48.431Z"
   },
   {
    "duration": 345,
    "start_time": "2022-03-17T20:43:48.785Z"
   },
   {
    "duration": 313,
    "start_time": "2022-03-17T20:43:49.133Z"
   },
   {
    "duration": 428,
    "start_time": "2022-03-17T20:43:49.448Z"
   },
   {
    "duration": 44,
    "start_time": "2022-03-17T20:43:49.879Z"
   },
   {
    "duration": 685,
    "start_time": "2022-03-17T20:43:49.925Z"
   },
   {
    "duration": 186,
    "start_time": "2022-03-17T20:44:24.262Z"
   },
   {
    "duration": 506,
    "start_time": "2022-03-17T20:44:24.451Z"
   },
   {
    "duration": 5,
    "start_time": "2022-03-17T20:44:24.959Z"
   },
   {
    "duration": 552,
    "start_time": "2022-03-17T20:44:24.967Z"
   },
   {
    "duration": 1737,
    "start_time": "2022-03-17T20:44:25.522Z"
   },
   {
    "duration": 373,
    "start_time": "2022-03-17T20:44:27.262Z"
   },
   {
    "duration": 356,
    "start_time": "2022-03-17T20:44:27.638Z"
   },
   {
    "duration": 336,
    "start_time": "2022-03-17T20:44:27.997Z"
   },
   {
    "duration": 312,
    "start_time": "2022-03-17T20:44:28.336Z"
   },
   {
    "duration": 579,
    "start_time": "2022-03-17T20:44:28.652Z"
   },
   {
    "duration": 376,
    "start_time": "2022-03-17T20:44:29.234Z"
   },
   {
    "duration": 317,
    "start_time": "2022-03-17T20:44:29.612Z"
   },
   {
    "duration": 323,
    "start_time": "2022-03-17T20:44:29.932Z"
   },
   {
    "duration": 301,
    "start_time": "2022-03-17T20:44:30.258Z"
   },
   {
    "duration": 56,
    "start_time": "2022-03-17T20:44:30.562Z"
   },
   {
    "duration": 562,
    "start_time": "2022-03-17T20:44:30.621Z"
   },
   {
    "duration": 655,
    "start_time": "2022-03-17T20:45:04.840Z"
   },
   {
    "duration": 182,
    "start_time": "2022-03-17T20:45:09.108Z"
   },
   {
    "duration": 488,
    "start_time": "2022-03-17T20:45:09.292Z"
   },
   {
    "duration": 4,
    "start_time": "2022-03-17T20:45:09.783Z"
   },
   {
    "duration": 639,
    "start_time": "2022-03-17T20:45:09.790Z"
   },
   {
    "duration": 1227,
    "start_time": "2022-03-17T20:45:10.431Z"
   },
   {
    "duration": 275,
    "start_time": "2022-03-17T20:45:11.660Z"
   },
   {
    "duration": 256,
    "start_time": "2022-03-17T20:45:11.937Z"
   },
   {
    "duration": 296,
    "start_time": "2022-03-17T20:45:12.196Z"
   },
   {
    "duration": 321,
    "start_time": "2022-03-17T20:45:12.494Z"
   },
   {
    "duration": 603,
    "start_time": "2022-03-17T20:45:12.821Z"
   },
   {
    "duration": 338,
    "start_time": "2022-03-17T20:45:13.427Z"
   },
   {
    "duration": 321,
    "start_time": "2022-03-17T20:45:13.773Z"
   },
   {
    "duration": 329,
    "start_time": "2022-03-17T20:45:14.096Z"
   },
   {
    "duration": 309,
    "start_time": "2022-03-17T20:45:14.428Z"
   },
   {
    "duration": 50,
    "start_time": "2022-03-17T20:45:14.740Z"
   },
   {
    "duration": 893,
    "start_time": "2022-03-17T20:45:14.793Z"
   },
   {
    "duration": 174,
    "start_time": "2022-03-17T20:48:21.989Z"
   },
   {
    "duration": 495,
    "start_time": "2022-03-17T20:48:22.175Z"
   },
   {
    "duration": 5,
    "start_time": "2022-03-17T20:48:22.674Z"
   },
   {
    "duration": 641,
    "start_time": "2022-03-17T20:48:22.682Z"
   },
   {
    "duration": 1261,
    "start_time": "2022-03-17T20:48:23.325Z"
   },
   {
    "duration": 272,
    "start_time": "2022-03-17T20:48:24.589Z"
   },
   {
    "duration": 360,
    "start_time": "2022-03-17T20:48:24.863Z"
   },
   {
    "duration": 294,
    "start_time": "2022-03-17T20:48:25.226Z"
   },
   {
    "duration": 315,
    "start_time": "2022-03-17T20:48:25.522Z"
   },
   {
    "duration": 610,
    "start_time": "2022-03-17T20:48:25.842Z"
   },
   {
    "duration": 433,
    "start_time": "2022-03-17T20:48:26.454Z"
   },
   {
    "duration": 306,
    "start_time": "2022-03-17T20:48:26.890Z"
   },
   {
    "duration": 312,
    "start_time": "2022-03-17T20:48:27.199Z"
   },
   {
    "duration": 307,
    "start_time": "2022-03-17T20:48:27.514Z"
   },
   {
    "duration": 67,
    "start_time": "2022-03-17T20:48:27.825Z"
   },
   {
    "duration": 561,
    "start_time": "2022-03-17T20:48:27.895Z"
   },
   {
    "duration": 282,
    "start_time": "2022-03-17T20:49:20.493Z"
   },
   {
    "duration": 823,
    "start_time": "2022-03-17T20:49:20.780Z"
   },
   {
    "duration": 4,
    "start_time": "2022-03-17T20:49:21.606Z"
   },
   {
    "duration": 546,
    "start_time": "2022-03-17T20:49:21.613Z"
   },
   {
    "duration": 1317,
    "start_time": "2022-03-17T20:49:22.162Z"
   },
   {
    "duration": 280,
    "start_time": "2022-03-17T20:49:23.481Z"
   },
   {
    "duration": 258,
    "start_time": "2022-03-17T20:49:23.763Z"
   },
   {
    "duration": 306,
    "start_time": "2022-03-17T20:49:24.023Z"
   },
   {
    "duration": 341,
    "start_time": "2022-03-17T20:49:24.332Z"
   },
   {
    "duration": 618,
    "start_time": "2022-03-17T20:49:24.677Z"
   },
   {
    "duration": 344,
    "start_time": "2022-03-17T20:49:25.298Z"
   },
   {
    "duration": 312,
    "start_time": "2022-03-17T20:49:25.645Z"
   },
   {
    "duration": 404,
    "start_time": "2022-03-17T20:49:25.959Z"
   },
   {
    "duration": 308,
    "start_time": "2022-03-17T20:49:26.366Z"
   },
   {
    "duration": 43,
    "start_time": "2022-03-17T20:49:26.676Z"
   },
   {
    "duration": 1082,
    "start_time": "2022-03-17T20:49:26.721Z"
   },
   {
    "duration": 239,
    "start_time": "2022-03-17T20:54:33.604Z"
   },
   {
    "duration": 509,
    "start_time": "2022-03-17T20:54:33.846Z"
   },
   {
    "duration": 5,
    "start_time": "2022-03-17T20:54:34.357Z"
   },
   {
    "duration": 532,
    "start_time": "2022-03-17T20:54:34.375Z"
   },
   {
    "duration": 1256,
    "start_time": "2022-03-17T20:54:34.909Z"
   },
   {
    "duration": 271,
    "start_time": "2022-03-17T20:54:36.174Z"
   },
   {
    "duration": 280,
    "start_time": "2022-03-17T20:54:36.447Z"
   },
   {
    "duration": 290,
    "start_time": "2022-03-17T20:54:36.729Z"
   },
   {
    "duration": 311,
    "start_time": "2022-03-17T20:54:37.021Z"
   },
   {
    "duration": 589,
    "start_time": "2022-03-17T20:54:37.335Z"
   },
   {
    "duration": 531,
    "start_time": "2022-03-17T20:54:37.928Z"
   },
   {
    "duration": 302,
    "start_time": "2022-03-17T20:54:38.461Z"
   },
   {
    "duration": 288,
    "start_time": "2022-03-17T20:54:38.773Z"
   },
   {
    "duration": 306,
    "start_time": "2022-03-17T20:54:39.064Z"
   },
   {
    "duration": 42,
    "start_time": "2022-03-17T20:54:39.374Z"
   },
   {
    "duration": 571,
    "start_time": "2022-03-17T20:54:39.419Z"
   },
   {
    "duration": 176,
    "start_time": "2022-03-17T20:55:20.124Z"
   },
   {
    "duration": 522,
    "start_time": "2022-03-17T20:55:20.304Z"
   },
   {
    "duration": 6,
    "start_time": "2022-03-17T20:55:20.828Z"
   },
   {
    "duration": 546,
    "start_time": "2022-03-17T20:55:20.835Z"
   },
   {
    "duration": 1287,
    "start_time": "2022-03-17T20:55:21.384Z"
   },
   {
    "duration": 288,
    "start_time": "2022-03-17T20:55:22.678Z"
   },
   {
    "duration": 268,
    "start_time": "2022-03-17T20:55:22.969Z"
   },
   {
    "duration": 322,
    "start_time": "2022-03-17T20:55:23.240Z"
   },
   {
    "duration": 351,
    "start_time": "2022-03-17T20:55:23.573Z"
   },
   {
    "duration": 615,
    "start_time": "2022-03-17T20:55:23.927Z"
   },
   {
    "duration": 345,
    "start_time": "2022-03-17T20:55:24.544Z"
   },
   {
    "duration": 318,
    "start_time": "2022-03-17T20:55:24.892Z"
   },
   {
    "duration": 314,
    "start_time": "2022-03-17T20:55:25.212Z"
   },
   {
    "duration": 315,
    "start_time": "2022-03-17T20:55:25.531Z"
   },
   {
    "duration": 59,
    "start_time": "2022-03-17T20:55:25.849Z"
   },
   {
    "duration": 806,
    "start_time": "2022-03-17T20:55:25.910Z"
   },
   {
    "duration": 168,
    "start_time": "2022-03-17T20:59:14.698Z"
   },
   {
    "duration": 504,
    "start_time": "2022-03-17T20:59:14.872Z"
   },
   {
    "duration": 4,
    "start_time": "2022-03-17T20:59:15.379Z"
   },
   {
    "duration": 967,
    "start_time": "2022-03-17T20:59:15.386Z"
   },
   {
    "duration": 1256,
    "start_time": "2022-03-17T20:59:16.355Z"
   },
   {
    "duration": 281,
    "start_time": "2022-03-17T20:59:17.613Z"
   },
   {
    "duration": 272,
    "start_time": "2022-03-17T20:59:17.896Z"
   },
   {
    "duration": 286,
    "start_time": "2022-03-17T20:59:18.174Z"
   },
   {
    "duration": 316,
    "start_time": "2022-03-17T20:59:18.463Z"
   },
   {
    "duration": 596,
    "start_time": "2022-03-17T20:59:18.784Z"
   },
   {
    "duration": 426,
    "start_time": "2022-03-17T20:59:19.382Z"
   },
   {
    "duration": 489,
    "start_time": "2022-03-17T20:59:19.811Z"
   },
   {
    "duration": 404,
    "start_time": "2022-03-17T20:59:20.303Z"
   },
   {
    "duration": 297,
    "start_time": "2022-03-17T20:59:20.709Z"
   },
   {
    "duration": 43,
    "start_time": "2022-03-17T20:59:21.009Z"
   },
   {
    "duration": 108,
    "start_time": "2022-03-17T20:59:21.054Z"
   },
   {
    "duration": 180,
    "start_time": "2022-03-17T20:59:37.847Z"
   },
   {
    "duration": 578,
    "start_time": "2022-03-17T20:59:38.030Z"
   },
   {
    "duration": 5,
    "start_time": "2022-03-17T20:59:38.610Z"
   },
   {
    "duration": 546,
    "start_time": "2022-03-17T20:59:38.619Z"
   },
   {
    "duration": 1245,
    "start_time": "2022-03-17T20:59:39.173Z"
   },
   {
    "duration": 275,
    "start_time": "2022-03-17T20:59:40.421Z"
   },
   {
    "duration": 277,
    "start_time": "2022-03-17T20:59:40.699Z"
   },
   {
    "duration": 305,
    "start_time": "2022-03-17T20:59:40.979Z"
   },
   {
    "duration": 317,
    "start_time": "2022-03-17T20:59:41.287Z"
   },
   {
    "duration": 584,
    "start_time": "2022-03-17T20:59:41.607Z"
   },
   {
    "duration": 341,
    "start_time": "2022-03-17T20:59:42.193Z"
   },
   {
    "duration": 319,
    "start_time": "2022-03-17T20:59:42.537Z"
   },
   {
    "duration": 307,
    "start_time": "2022-03-17T20:59:42.859Z"
   },
   {
    "duration": 308,
    "start_time": "2022-03-17T20:59:43.173Z"
   },
   {
    "duration": 45,
    "start_time": "2022-03-17T20:59:43.484Z"
   },
   {
    "duration": 593,
    "start_time": "2022-03-17T20:59:43.532Z"
   },
   {
    "duration": 181,
    "start_time": "2022-03-17T21:13:32.542Z"
   },
   {
    "duration": 535,
    "start_time": "2022-03-17T21:13:32.726Z"
   },
   {
    "duration": 18,
    "start_time": "2022-03-17T21:13:33.263Z"
   },
   {
    "duration": 659,
    "start_time": "2022-03-17T21:13:33.284Z"
   },
   {
    "duration": 1397,
    "start_time": "2022-03-17T21:13:33.945Z"
   },
   {
    "duration": 289,
    "start_time": "2022-03-17T21:13:35.344Z"
   },
   {
    "duration": 272,
    "start_time": "2022-03-17T21:13:35.635Z"
   },
   {
    "duration": 805,
    "start_time": "2022-03-17T21:13:35.909Z"
   },
   {
    "duration": 321,
    "start_time": "2022-03-17T21:13:36.716Z"
   },
   {
    "duration": 588,
    "start_time": "2022-03-17T21:13:37.040Z"
   },
   {
    "duration": 351,
    "start_time": "2022-03-17T21:13:37.631Z"
   },
   {
    "duration": 305,
    "start_time": "2022-03-17T21:13:37.985Z"
   },
   {
    "duration": 321,
    "start_time": "2022-03-17T21:13:38.293Z"
   },
   {
    "duration": 310,
    "start_time": "2022-03-17T21:13:38.616Z"
   },
   {
    "duration": 64,
    "start_time": "2022-03-17T21:13:38.928Z"
   },
   {
    "duration": 552,
    "start_time": "2022-03-17T21:13:38.995Z"
   },
   {
    "duration": 4,
    "start_time": "2022-03-17T21:13:39.549Z"
   },
   {
    "duration": 189,
    "start_time": "2022-03-17T21:14:51.852Z"
   },
   {
    "duration": 531,
    "start_time": "2022-03-17T21:14:52.043Z"
   },
   {
    "duration": 7,
    "start_time": "2022-03-17T21:14:52.576Z"
   },
   {
    "duration": 566,
    "start_time": "2022-03-17T21:14:52.588Z"
   },
   {
    "duration": 1430,
    "start_time": "2022-03-17T21:14:53.156Z"
   },
   {
    "duration": 278,
    "start_time": "2022-03-17T21:14:54.589Z"
   },
   {
    "duration": 269,
    "start_time": "2022-03-17T21:14:54.873Z"
   },
   {
    "duration": 296,
    "start_time": "2022-03-17T21:14:55.144Z"
   },
   {
    "duration": 333,
    "start_time": "2022-03-17T21:14:55.443Z"
   },
   {
    "duration": 612,
    "start_time": "2022-03-17T21:14:55.780Z"
   },
   {
    "duration": 346,
    "start_time": "2022-03-17T21:14:56.395Z"
   },
   {
    "duration": 320,
    "start_time": "2022-03-17T21:14:56.743Z"
   },
   {
    "duration": 304,
    "start_time": "2022-03-17T21:14:57.065Z"
   },
   {
    "duration": 317,
    "start_time": "2022-03-17T21:14:57.375Z"
   },
   {
    "duration": 47,
    "start_time": "2022-03-17T21:14:57.695Z"
   },
   {
    "duration": 576,
    "start_time": "2022-03-17T21:14:57.744Z"
   },
   {
    "duration": 4,
    "start_time": "2022-03-17T21:14:58.322Z"
   },
   {
    "duration": 400,
    "start_time": "2022-03-17T21:22:17.157Z"
   },
   {
    "duration": 241,
    "start_time": "2022-03-17T21:22:40.234Z"
   },
   {
    "duration": 758,
    "start_time": "2022-03-17T21:22:40.479Z"
   },
   {
    "duration": 6,
    "start_time": "2022-03-17T21:22:41.239Z"
   },
   {
    "duration": 564,
    "start_time": "2022-03-17T21:22:41.250Z"
   },
   {
    "duration": 1262,
    "start_time": "2022-03-17T21:22:41.817Z"
   },
   {
    "duration": 281,
    "start_time": "2022-03-17T21:22:43.081Z"
   },
   {
    "duration": 270,
    "start_time": "2022-03-17T21:22:43.365Z"
   },
   {
    "duration": 296,
    "start_time": "2022-03-17T21:22:43.637Z"
   },
   {
    "duration": 325,
    "start_time": "2022-03-17T21:22:43.935Z"
   },
   {
    "duration": 642,
    "start_time": "2022-03-17T21:22:44.263Z"
   },
   {
    "duration": 348,
    "start_time": "2022-03-17T21:22:44.907Z"
   },
   {
    "duration": 316,
    "start_time": "2022-03-17T21:22:45.257Z"
   },
   {
    "duration": 297,
    "start_time": "2022-03-17T21:22:45.576Z"
   },
   {
    "duration": 818,
    "start_time": "2022-03-17T21:22:45.876Z"
   },
   {
    "duration": 44,
    "start_time": "2022-03-17T21:22:46.696Z"
   },
   {
    "duration": 563,
    "start_time": "2022-03-17T21:22:46.742Z"
   },
   {
    "duration": 511,
    "start_time": "2022-03-17T21:22:47.307Z"
   },
   {
    "duration": 618,
    "start_time": "2022-03-17T21:24:25.090Z"
   },
   {
    "duration": 630,
    "start_time": "2022-03-17T21:24:45.531Z"
   },
   {
    "duration": 746,
    "start_time": "2022-03-17T21:25:28.844Z"
   },
   {
    "duration": 594,
    "start_time": "2022-03-17T21:26:23.509Z"
   },
   {
    "duration": 580,
    "start_time": "2022-03-17T21:26:54.953Z"
   },
   {
    "duration": 376,
    "start_time": "2022-03-17T21:27:27.953Z"
   },
   {
    "duration": 407,
    "start_time": "2022-03-17T21:27:51.147Z"
   },
   {
    "duration": 454,
    "start_time": "2022-03-17T21:28:09.194Z"
   },
   {
    "duration": 196,
    "start_time": "2022-03-17T21:28:15.678Z"
   },
   {
    "duration": 519,
    "start_time": "2022-03-17T21:28:15.876Z"
   },
   {
    "duration": 6,
    "start_time": "2022-03-17T21:28:16.398Z"
   },
   {
    "duration": 593,
    "start_time": "2022-03-17T21:28:16.408Z"
   },
   {
    "duration": 1352,
    "start_time": "2022-03-17T21:28:17.004Z"
   },
   {
    "duration": 955,
    "start_time": "2022-03-17T21:28:18.359Z"
   },
   {
    "duration": 365,
    "start_time": "2022-03-17T21:28:19.317Z"
   },
   {
    "duration": 329,
    "start_time": "2022-03-17T21:28:19.686Z"
   },
   {
    "duration": 316,
    "start_time": "2022-03-17T21:28:20.018Z"
   },
   {
    "duration": 808,
    "start_time": "2022-03-17T21:28:20.339Z"
   },
   {
    "duration": 378,
    "start_time": "2022-03-17T21:28:21.150Z"
   },
   {
    "duration": 338,
    "start_time": "2022-03-17T21:28:21.530Z"
   },
   {
    "duration": 311,
    "start_time": "2022-03-17T21:28:21.874Z"
   },
   {
    "duration": 354,
    "start_time": "2022-03-17T21:28:22.188Z"
   },
   {
    "duration": 62,
    "start_time": "2022-03-17T21:28:22.544Z"
   },
   {
    "duration": 655,
    "start_time": "2022-03-17T21:28:22.610Z"
   },
   {
    "duration": 449,
    "start_time": "2022-03-17T21:28:23.273Z"
   },
   {
    "duration": 420,
    "start_time": "2022-03-17T21:39:58.438Z"
   },
   {
    "duration": 619,
    "start_time": "2022-03-17T21:41:18.211Z"
   },
   {
    "duration": 666,
    "start_time": "2022-03-17T21:41:52.030Z"
   },
   {
    "duration": 405,
    "start_time": "2022-03-17T21:42:07.372Z"
   },
   {
    "duration": 520,
    "start_time": "2022-03-17T21:42:24.784Z"
   },
   {
    "duration": 4009,
    "start_time": "2022-03-17T21:45:09.529Z"
   },
   {
    "duration": 2379,
    "start_time": "2022-03-17T21:47:10.593Z"
   },
   {
    "duration": 2331,
    "start_time": "2022-03-17T21:48:58.694Z"
   },
   {
    "duration": 952,
    "start_time": "2022-03-17T21:49:27.954Z"
   },
   {
    "duration": 1181,
    "start_time": "2022-03-17T21:50:02.195Z"
   },
   {
    "duration": 2399,
    "start_time": "2022-03-17T21:50:34.061Z"
   },
   {
    "duration": 643,
    "start_time": "2022-03-17T21:50:50.086Z"
   },
   {
    "duration": 628,
    "start_time": "2022-03-17T21:51:50.040Z"
   },
   {
    "duration": 642,
    "start_time": "2022-03-18T09:03:04.430Z"
   },
   {
    "duration": 371,
    "start_time": "2022-03-18T09:03:05.075Z"
   },
   {
    "duration": 4,
    "start_time": "2022-03-18T09:03:05.447Z"
   },
   {
    "duration": 432,
    "start_time": "2022-03-18T09:03:05.454Z"
   },
   {
    "duration": 1467,
    "start_time": "2022-03-18T09:03:05.888Z"
   },
   {
    "duration": 206,
    "start_time": "2022-03-18T09:03:07.357Z"
   },
   {
    "duration": 188,
    "start_time": "2022-03-18T09:03:07.565Z"
   },
   {
    "duration": 234,
    "start_time": "2022-03-18T09:03:07.755Z"
   },
   {
    "duration": 233,
    "start_time": "2022-03-18T09:03:07.991Z"
   },
   {
    "duration": 439,
    "start_time": "2022-03-18T09:03:08.232Z"
   },
   {
    "duration": 248,
    "start_time": "2022-03-18T09:03:08.673Z"
   },
   {
    "duration": 220,
    "start_time": "2022-03-18T09:03:08.923Z"
   },
   {
    "duration": 290,
    "start_time": "2022-03-18T09:03:09.145Z"
   },
   {
    "duration": 227,
    "start_time": "2022-03-18T09:03:09.437Z"
   },
   {
    "duration": 67,
    "start_time": "2022-03-18T09:03:09.666Z"
   },
   {
    "duration": 369,
    "start_time": "2022-03-18T09:03:09.736Z"
   },
   {
    "duration": 420,
    "start_time": "2022-03-18T09:03:10.107Z"
   },
   {
    "duration": 526,
    "start_time": "2022-03-18T09:04:09.957Z"
   },
   {
    "duration": 3433,
    "start_time": "2022-03-18T09:32:16.831Z"
   },
   {
    "duration": 319,
    "start_time": "2022-03-18T09:33:10.148Z"
   },
   {
    "duration": 139,
    "start_time": "2022-03-18T09:33:44.547Z"
   },
   {
    "duration": 272,
    "start_time": "2022-03-18T09:33:44.688Z"
   },
   {
    "duration": 316,
    "start_time": "2022-03-18T09:33:44.962Z"
   },
   {
    "duration": 4,
    "start_time": "2022-03-18T09:33:45.280Z"
   },
   {
    "duration": 336,
    "start_time": "2022-03-18T09:33:45.285Z"
   },
   {
    "duration": 880,
    "start_time": "2022-03-18T09:33:45.622Z"
   },
   {
    "duration": 178,
    "start_time": "2022-03-18T09:33:46.504Z"
   },
   {
    "duration": 186,
    "start_time": "2022-03-18T09:33:46.684Z"
   },
   {
    "duration": 209,
    "start_time": "2022-03-18T09:33:46.872Z"
   },
   {
    "duration": 215,
    "start_time": "2022-03-18T09:33:47.084Z"
   },
   {
    "duration": 413,
    "start_time": "2022-03-18T09:33:47.301Z"
   },
   {
    "duration": 238,
    "start_time": "2022-03-18T09:33:47.716Z"
   },
   {
    "duration": 211,
    "start_time": "2022-03-18T09:33:47.956Z"
   },
   {
    "duration": 288,
    "start_time": "2022-03-18T09:33:48.168Z"
   },
   {
    "duration": 206,
    "start_time": "2022-03-18T09:33:48.457Z"
   },
   {
    "duration": 28,
    "start_time": "2022-03-18T09:33:48.664Z"
   },
   {
    "duration": 338,
    "start_time": "2022-03-18T09:33:48.694Z"
   },
   {
    "duration": 399,
    "start_time": "2022-03-18T09:33:49.034Z"
   },
   {
    "duration": 392,
    "start_time": "2022-03-18T09:36:25.563Z"
   },
   {
    "duration": 141,
    "start_time": "2022-03-18T09:36:30.954Z"
   },
   {
    "duration": 288,
    "start_time": "2022-03-18T09:36:31.097Z"
   },
   {
    "duration": 326,
    "start_time": "2022-03-18T09:36:31.387Z"
   },
   {
    "duration": 4,
    "start_time": "2022-03-18T09:36:31.715Z"
   },
   {
    "duration": 365,
    "start_time": "2022-03-18T09:36:31.720Z"
   },
   {
    "duration": 836,
    "start_time": "2022-03-18T09:36:32.087Z"
   },
   {
    "duration": 195,
    "start_time": "2022-03-18T09:36:32.925Z"
   },
   {
    "duration": 184,
    "start_time": "2022-03-18T09:36:33.121Z"
   },
   {
    "duration": 218,
    "start_time": "2022-03-18T09:36:33.307Z"
   },
   {
    "duration": 313,
    "start_time": "2022-03-18T09:36:33.530Z"
   },
   {
    "duration": 422,
    "start_time": "2022-03-18T09:36:33.845Z"
   },
   {
    "duration": 240,
    "start_time": "2022-03-18T09:36:34.269Z"
   },
   {
    "duration": 223,
    "start_time": "2022-03-18T09:36:34.510Z"
   },
   {
    "duration": 218,
    "start_time": "2022-03-18T09:36:34.735Z"
   },
   {
    "duration": 223,
    "start_time": "2022-03-18T09:36:34.954Z"
   },
   {
    "duration": 29,
    "start_time": "2022-03-18T09:36:35.179Z"
   },
   {
    "duration": 366,
    "start_time": "2022-03-18T09:36:35.210Z"
   },
   {
    "duration": 512,
    "start_time": "2022-03-18T09:36:35.578Z"
   },
   {
    "duration": 147,
    "start_time": "2022-03-18T09:42:48.120Z"
   },
   {
    "duration": 297,
    "start_time": "2022-03-18T09:42:48.270Z"
   },
   {
    "duration": 317,
    "start_time": "2022-03-18T09:42:48.569Z"
   },
   {
    "duration": 4,
    "start_time": "2022-03-18T09:42:48.888Z"
   },
   {
    "duration": 359,
    "start_time": "2022-03-18T09:42:48.893Z"
   },
   {
    "duration": 882,
    "start_time": "2022-03-18T09:42:49.254Z"
   },
   {
    "duration": 208,
    "start_time": "2022-03-18T09:42:50.138Z"
   },
   {
    "duration": 188,
    "start_time": "2022-03-18T09:42:50.348Z"
   },
   {
    "duration": 317,
    "start_time": "2022-03-18T09:42:50.538Z"
   },
   {
    "duration": 231,
    "start_time": "2022-03-18T09:42:50.858Z"
   },
   {
    "duration": 419,
    "start_time": "2022-03-18T09:42:51.091Z"
   },
   {
    "duration": 244,
    "start_time": "2022-03-18T09:42:51.512Z"
   },
   {
    "duration": 228,
    "start_time": "2022-03-18T09:42:51.758Z"
   },
   {
    "duration": 253,
    "start_time": "2022-03-18T09:42:51.988Z"
   },
   {
    "duration": 224,
    "start_time": "2022-03-18T09:42:52.243Z"
   },
   {
    "duration": 33,
    "start_time": "2022-03-18T09:42:52.469Z"
   },
   {
    "duration": 379,
    "start_time": "2022-03-18T09:42:52.504Z"
   },
   {
    "duration": 522,
    "start_time": "2022-03-18T09:42:52.885Z"
   },
   {
    "duration": 37,
    "start_time": "2022-03-18T09:58:45.019Z"
   },
   {
    "duration": 34,
    "start_time": "2022-03-18T10:00:49.461Z"
   },
   {
    "duration": 10,
    "start_time": "2022-03-18T10:01:22.332Z"
   },
   {
    "duration": 9,
    "start_time": "2022-03-18T10:01:25.620Z"
   },
   {
    "duration": 916,
    "start_time": "2022-03-18T10:01:40.695Z"
   },
   {
    "duration": 864,
    "start_time": "2022-03-18T10:03:04.820Z"
   },
   {
    "duration": 972,
    "start_time": "2022-03-18T10:03:28.360Z"
   },
   {
    "duration": 898,
    "start_time": "2022-03-18T10:04:43.713Z"
   },
   {
    "duration": 1000,
    "start_time": "2022-03-18T10:04:52.452Z"
   },
   {
    "duration": 823,
    "start_time": "2022-03-18T10:06:32.541Z"
   },
   {
    "duration": 356,
    "start_time": "2022-03-18T10:12:59.761Z"
   },
   {
    "duration": 355,
    "start_time": "2022-03-18T10:14:31.423Z"
   },
   {
    "duration": 350,
    "start_time": "2022-03-18T10:16:15.556Z"
   },
   {
    "duration": 218,
    "start_time": "2022-03-18T10:16:32.003Z"
   },
   {
    "duration": 383,
    "start_time": "2022-03-18T10:16:47.814Z"
   },
   {
    "duration": 754,
    "start_time": "2022-03-18T10:21:19.112Z"
   },
   {
    "duration": 393,
    "start_time": "2022-03-18T10:29:14.573Z"
   },
   {
    "duration": 202,
    "start_time": "2022-03-18T10:31:24.285Z"
   },
   {
    "duration": 377,
    "start_time": "2022-03-18T10:31:49.106Z"
   },
   {
    "duration": 386,
    "start_time": "2022-03-18T10:36:23.130Z"
   },
   {
    "duration": 370,
    "start_time": "2022-03-18T10:39:43.882Z"
   },
   {
    "duration": 555,
    "start_time": "2022-03-29T08:48:11.390Z"
   },
   {
    "duration": 261,
    "start_time": "2022-03-29T08:48:11.948Z"
   },
   {
    "duration": 328,
    "start_time": "2022-03-29T08:48:12.213Z"
   },
   {
    "duration": 3,
    "start_time": "2022-03-29T08:48:12.542Z"
   },
   {
    "duration": 351,
    "start_time": "2022-03-29T08:48:12.547Z"
   },
   {
    "duration": 1000,
    "start_time": "2022-03-29T08:48:12.899Z"
   },
   {
    "duration": 174,
    "start_time": "2022-03-29T08:48:13.901Z"
   },
   {
    "duration": 169,
    "start_time": "2022-03-29T08:48:14.076Z"
   },
   {
    "duration": 195,
    "start_time": "2022-03-29T08:48:14.247Z"
   },
   {
    "duration": 200,
    "start_time": "2022-03-29T08:48:14.444Z"
   },
   {
    "duration": 392,
    "start_time": "2022-03-29T08:48:14.645Z"
   },
   {
    "duration": 229,
    "start_time": "2022-03-29T08:48:15.039Z"
   },
   {
    "duration": 202,
    "start_time": "2022-03-29T08:48:15.270Z"
   },
   {
    "duration": 195,
    "start_time": "2022-03-29T08:48:15.474Z"
   },
   {
    "duration": 266,
    "start_time": "2022-03-29T08:48:15.670Z"
   },
   {
    "duration": 28,
    "start_time": "2022-03-29T08:48:15.937Z"
   },
   {
    "duration": 331,
    "start_time": "2022-03-29T08:48:15.967Z"
   },
   {
    "duration": 386,
    "start_time": "2022-03-29T08:48:16.299Z"
   },
   {
    "duration": 10,
    "start_time": "2022-03-29T08:48:16.687Z"
   },
   {
    "duration": 831,
    "start_time": "2022-03-29T08:48:16.698Z"
   },
   {
    "duration": 337,
    "start_time": "2022-03-29T08:48:17.531Z"
   },
   {
    "duration": 351,
    "start_time": "2022-03-29T08:48:17.869Z"
   },
   {
    "duration": 703,
    "start_time": "2022-03-29T08:48:18.222Z"
   },
   {
    "duration": 380,
    "start_time": "2022-03-29T08:48:18.926Z"
   },
   {
    "duration": 341,
    "start_time": "2022-03-29T08:48:19.308Z"
   },
   {
    "duration": 347,
    "start_time": "2022-03-29T08:48:19.651Z"
   },
   {
    "duration": 342,
    "start_time": "2022-03-29T08:48:20.008Z"
   },
   {
    "duration": 487,
    "start_time": "2022-03-31T08:14:35.460Z"
   },
   {
    "duration": 172,
    "start_time": "2022-03-31T08:14:35.950Z"
   },
   {
    "duration": 885,
    "start_time": "2022-03-31T08:14:36.124Z"
   },
   {
    "duration": 18,
    "start_time": "2022-03-31T08:14:37.012Z"
   },
   {
    "duration": 20,
    "start_time": "2022-03-31T08:14:37.033Z"
   },
   {
    "duration": 514,
    "start_time": "2022-03-31T08:14:37.055Z"
   },
   {
    "duration": 1682,
    "start_time": "2022-03-31T08:14:37.571Z"
   },
   {
    "duration": 243,
    "start_time": "2022-03-31T08:14:39.255Z"
   },
   {
    "duration": 236,
    "start_time": "2022-03-31T08:14:39.500Z"
   },
   {
    "duration": 277,
    "start_time": "2022-03-31T08:14:39.740Z"
   },
   {
    "duration": 286,
    "start_time": "2022-03-31T08:14:40.019Z"
   },
   {
    "duration": 545,
    "start_time": "2022-03-31T08:14:40.307Z"
   },
   {
    "duration": 315,
    "start_time": "2022-03-31T08:14:40.854Z"
   },
   {
    "duration": 275,
    "start_time": "2022-03-31T08:14:41.172Z"
   },
   {
    "duration": 335,
    "start_time": "2022-03-31T08:14:41.450Z"
   },
   {
    "duration": 303,
    "start_time": "2022-03-31T08:14:41.788Z"
   },
   {
    "duration": 43,
    "start_time": "2022-03-31T08:14:42.094Z"
   },
   {
    "duration": 543,
    "start_time": "2022-03-31T08:14:42.139Z"
   },
   {
    "duration": 619,
    "start_time": "2022-03-31T08:14:42.684Z"
   },
   {
    "duration": 15,
    "start_time": "2022-03-31T08:14:43.305Z"
   },
   {
    "duration": 1216,
    "start_time": "2022-03-31T08:14:43.322Z"
   },
   {
    "duration": 516,
    "start_time": "2022-03-31T08:14:44.541Z"
   },
   {
    "duration": 533,
    "start_time": "2022-03-31T08:14:45.060Z"
   },
   {
    "duration": 1057,
    "start_time": "2022-03-31T08:14:45.596Z"
   },
   {
    "duration": 533,
    "start_time": "2022-03-31T08:14:46.656Z"
   },
   {
    "duration": 503,
    "start_time": "2022-03-31T08:14:47.192Z"
   },
   {
    "duration": 499,
    "start_time": "2022-03-31T08:14:47.698Z"
   },
   {
    "duration": 496,
    "start_time": "2022-03-31T08:14:48.203Z"
   },
   {
    "duration": 360,
    "start_time": "2022-03-31T09:20:39.089Z"
   },
   {
    "duration": 389,
    "start_time": "2022-03-31T09:20:51.547Z"
   },
   {
    "duration": 464,
    "start_time": "2022-03-31T09:23:08.389Z"
   },
   {
    "duration": 352,
    "start_time": "2022-03-31T09:25:54.504Z"
   },
   {
    "duration": 388,
    "start_time": "2022-03-31T09:26:09.618Z"
   },
   {
    "duration": 651,
    "start_time": "2022-03-31T09:27:53.457Z"
   },
   {
    "duration": 4,
    "start_time": "2022-03-31T09:29:10.960Z"
   },
   {
    "duration": 855,
    "start_time": "2022-03-31T09:31:30.734Z"
   },
   {
    "duration": 960,
    "start_time": "2022-03-31T09:42:00.565Z"
   },
   {
    "duration": 674,
    "start_time": "2022-03-31T09:42:15.739Z"
   },
   {
    "duration": 5,
    "start_time": "2022-03-31T09:42:34.357Z"
   },
   {
    "duration": 244,
    "start_time": "2022-03-31T09:42:34.365Z"
   },
   {
    "duration": 950,
    "start_time": "2022-03-31T09:42:34.612Z"
   },
   {
    "duration": 23,
    "start_time": "2022-03-31T09:42:35.567Z"
   },
   {
    "duration": 5,
    "start_time": "2022-03-31T09:42:35.593Z"
   },
   {
    "duration": 645,
    "start_time": "2022-03-31T09:42:35.600Z"
   },
   {
    "duration": 1196,
    "start_time": "2022-03-31T09:42:36.248Z"
   },
   {
    "duration": 480,
    "start_time": "2022-03-31T09:42:37.447Z"
   },
   {
    "duration": 250,
    "start_time": "2022-03-31T09:42:37.930Z"
   },
   {
    "duration": 275,
    "start_time": "2022-03-31T09:42:38.182Z"
   },
   {
    "duration": 290,
    "start_time": "2022-03-31T09:42:38.461Z"
   },
   {
    "duration": 650,
    "start_time": "2022-03-31T09:42:38.753Z"
   },
   {
    "duration": 324,
    "start_time": "2022-03-31T09:42:39.405Z"
   },
   {
    "duration": 296,
    "start_time": "2022-03-31T09:42:39.731Z"
   },
   {
    "duration": 288,
    "start_time": "2022-03-31T09:42:40.029Z"
   },
   {
    "duration": 299,
    "start_time": "2022-03-31T09:42:40.319Z"
   },
   {
    "duration": 59,
    "start_time": "2022-03-31T09:42:40.620Z"
   },
   {
    "duration": 536,
    "start_time": "2022-03-31T09:42:40.682Z"
   },
   {
    "duration": 1350,
    "start_time": "2022-03-31T09:42:41.220Z"
   },
   {
    "duration": 14,
    "start_time": "2022-03-31T09:42:42.572Z"
   },
   {
    "duration": 2310,
    "start_time": "2022-03-31T09:42:42.589Z"
   },
   {
    "duration": 724,
    "start_time": "2022-03-31T09:42:44.901Z"
   },
   {
    "duration": 559,
    "start_time": "2022-03-31T09:42:45.627Z"
   },
   {
    "duration": 1048,
    "start_time": "2022-03-31T09:42:46.188Z"
   },
   {
    "duration": 540,
    "start_time": "2022-03-31T09:42:47.238Z"
   },
   {
    "duration": 622,
    "start_time": "2022-03-31T09:42:47.781Z"
   },
   {
    "duration": 497,
    "start_time": "2022-03-31T09:42:48.405Z"
   },
   {
    "duration": 521,
    "start_time": "2022-03-31T09:42:48.905Z"
   },
   {
    "duration": 398,
    "start_time": "2022-03-31T09:43:20.464Z"
   },
   {
    "duration": 1175,
    "start_time": "2022-03-31T10:09:19.711Z"
   },
   {
    "duration": 192,
    "start_time": "2022-03-31T10:09:20.889Z"
   },
   {
    "duration": 893,
    "start_time": "2022-03-31T10:09:21.083Z"
   },
   {
    "duration": 20,
    "start_time": "2022-03-31T10:09:21.979Z"
   },
   {
    "duration": 5,
    "start_time": "2022-03-31T10:09:22.001Z"
   },
   {
    "duration": 516,
    "start_time": "2022-03-31T10:09:22.008Z"
   },
   {
    "duration": 1270,
    "start_time": "2022-03-31T10:09:22.526Z"
   },
   {
    "duration": 380,
    "start_time": "2022-03-31T10:09:23.799Z"
   },
   {
    "duration": 235,
    "start_time": "2022-03-31T10:09:24.182Z"
   },
   {
    "duration": 275,
    "start_time": "2022-03-31T10:09:24.421Z"
   },
   {
    "duration": 386,
    "start_time": "2022-03-31T10:09:24.698Z"
   },
   {
    "duration": 555,
    "start_time": "2022-03-31T10:09:25.087Z"
   },
   {
    "duration": 315,
    "start_time": "2022-03-31T10:09:25.645Z"
   },
   {
    "duration": 290,
    "start_time": "2022-03-31T10:09:25.962Z"
   },
   {
    "duration": 351,
    "start_time": "2022-03-31T10:09:26.254Z"
   },
   {
    "duration": 280,
    "start_time": "2022-03-31T10:09:26.608Z"
   },
   {
    "duration": 53,
    "start_time": "2022-03-31T10:09:26.890Z"
   },
   {
    "duration": 916,
    "start_time": "2022-03-31T10:09:26.945Z"
   },
   {
    "duration": 1113,
    "start_time": "2022-03-31T10:09:27.864Z"
   },
   {
    "duration": 70,
    "start_time": "2022-03-31T10:09:28.979Z"
   },
   {
    "duration": 1525,
    "start_time": "2022-03-31T10:09:29.051Z"
   },
   {
    "duration": 488,
    "start_time": "2022-03-31T10:09:30.579Z"
   },
   {
    "duration": 531,
    "start_time": "2022-03-31T10:09:31.070Z"
   },
   {
    "duration": 1108,
    "start_time": "2022-03-31T10:09:31.605Z"
   },
   {
    "duration": 546,
    "start_time": "2022-03-31T10:09:32.716Z"
   },
   {
    "duration": 580,
    "start_time": "2022-03-31T10:09:33.264Z"
   },
   {
    "duration": 740,
    "start_time": "2022-03-31T10:09:33.846Z"
   },
   {
    "duration": 1012,
    "start_time": "2022-03-31T10:09:34.645Z"
   },
   {
    "duration": 13,
    "start_time": "2022-03-31T10:13:43.208Z"
   },
   {
    "duration": 21,
    "start_time": "2022-03-31T10:15:07.285Z"
   },
   {
    "duration": 117,
    "start_time": "2022-03-31T10:20:29.690Z"
   },
   {
    "duration": 21,
    "start_time": "2022-03-31T10:21:12.863Z"
   },
   {
    "duration": 14,
    "start_time": "2022-03-31T10:21:42.170Z"
   },
   {
    "duration": 950,
    "start_time": "2022-04-16T09:44:57.937Z"
   },
   {
    "duration": 163,
    "start_time": "2022-04-16T09:44:58.890Z"
   },
   {
    "duration": 0,
    "start_time": "2022-04-16T09:44:59.057Z"
   },
   {
    "duration": 0,
    "start_time": "2022-04-16T09:44:59.058Z"
   },
   {
    "duration": 0,
    "start_time": "2022-04-16T09:44:59.059Z"
   },
   {
    "duration": 0,
    "start_time": "2022-04-16T09:44:59.061Z"
   },
   {
    "duration": 0,
    "start_time": "2022-04-16T09:44:59.062Z"
   },
   {
    "duration": 0,
    "start_time": "2022-04-16T09:44:59.063Z"
   },
   {
    "duration": 1,
    "start_time": "2022-04-16T09:44:59.064Z"
   },
   {
    "duration": 0,
    "start_time": "2022-04-16T09:44:59.066Z"
   },
   {
    "duration": 0,
    "start_time": "2022-04-16T09:44:59.067Z"
   },
   {
    "duration": 0,
    "start_time": "2022-04-16T09:44:59.068Z"
   },
   {
    "duration": 0,
    "start_time": "2022-04-16T09:44:59.069Z"
   },
   {
    "duration": 0,
    "start_time": "2022-04-16T09:44:59.071Z"
   },
   {
    "duration": 0,
    "start_time": "2022-04-16T09:44:59.072Z"
   },
   {
    "duration": 0,
    "start_time": "2022-04-16T09:44:59.073Z"
   },
   {
    "duration": 0,
    "start_time": "2022-04-16T09:44:59.074Z"
   },
   {
    "duration": 0,
    "start_time": "2022-04-16T09:44:59.075Z"
   },
   {
    "duration": 0,
    "start_time": "2022-04-16T09:44:59.076Z"
   },
   {
    "duration": 0,
    "start_time": "2022-04-16T09:44:59.077Z"
   },
   {
    "duration": 0,
    "start_time": "2022-04-16T09:44:59.078Z"
   },
   {
    "duration": 0,
    "start_time": "2022-04-16T09:44:59.079Z"
   },
   {
    "duration": 0,
    "start_time": "2022-04-16T09:44:59.081Z"
   },
   {
    "duration": 0,
    "start_time": "2022-04-16T09:44:59.082Z"
   },
   {
    "duration": 0,
    "start_time": "2022-04-16T09:44:59.083Z"
   },
   {
    "duration": 0,
    "start_time": "2022-04-16T09:44:59.084Z"
   },
   {
    "duration": 0,
    "start_time": "2022-04-16T09:44:59.085Z"
   },
   {
    "duration": 0,
    "start_time": "2022-04-16T09:44:59.086Z"
   },
   {
    "duration": 0,
    "start_time": "2022-04-16T09:44:59.087Z"
   },
   {
    "duration": 0,
    "start_time": "2022-04-16T09:44:59.133Z"
   },
   {
    "duration": 0,
    "start_time": "2022-04-16T09:44:59.134Z"
   },
   {
    "duration": 0,
    "start_time": "2022-04-16T09:44:59.135Z"
   },
   {
    "duration": 0,
    "start_time": "2022-04-16T09:44:59.137Z"
   },
   {
    "duration": 728,
    "start_time": "2022-04-16T09:45:39.049Z"
   },
   {
    "duration": 157,
    "start_time": "2022-04-16T09:45:39.780Z"
   },
   {
    "duration": 633,
    "start_time": "2022-04-16T09:45:39.939Z"
   },
   {
    "duration": 17,
    "start_time": "2022-04-16T09:45:40.574Z"
   },
   {
    "duration": 5,
    "start_time": "2022-04-16T09:45:40.593Z"
   },
   {
    "duration": 354,
    "start_time": "2022-04-16T09:45:40.600Z"
   },
   {
    "duration": 924,
    "start_time": "2022-04-16T09:45:40.957Z"
   },
   {
    "duration": 277,
    "start_time": "2022-04-16T09:45:41.883Z"
   },
   {
    "duration": 12,
    "start_time": "2022-04-16T09:45:42.162Z"
   },
   {
    "duration": 20,
    "start_time": "2022-04-16T09:45:42.176Z"
   },
   {
    "duration": 47,
    "start_time": "2022-04-16T09:45:42.198Z"
   },
   {
    "duration": 17,
    "start_time": "2022-04-16T09:45:42.247Z"
   },
   {
    "duration": 13,
    "start_time": "2022-04-16T09:45:42.266Z"
   },
   {
    "duration": 201,
    "start_time": "2022-04-16T09:45:42.282Z"
   },
   {
    "duration": 157,
    "start_time": "2022-04-16T09:45:42.486Z"
   },
   {
    "duration": 177,
    "start_time": "2022-04-16T09:45:42.645Z"
   },
   {
    "duration": 166,
    "start_time": "2022-04-16T09:45:42.824Z"
   },
   {
    "duration": 176,
    "start_time": "2022-04-16T09:45:42.993Z"
   },
   {
    "duration": 203,
    "start_time": "2022-04-16T09:45:43.171Z"
   },
   {
    "duration": 245,
    "start_time": "2022-04-16T09:45:43.375Z"
   },
   {
    "duration": 29,
    "start_time": "2022-04-16T09:45:43.622Z"
   },
   {
    "duration": 5,
    "start_time": "2022-04-16T09:45:43.653Z"
   },
   {
    "duration": 9,
    "start_time": "2022-04-16T09:45:43.660Z"
   },
   {
    "duration": 246,
    "start_time": "2022-04-16T09:45:43.671Z"
   },
   {
    "duration": 16,
    "start_time": "2022-04-16T09:45:43.919Z"
   },
   {
    "duration": 804,
    "start_time": "2022-04-16T09:45:43.937Z"
   },
   {
    "duration": 396,
    "start_time": "2022-04-16T09:45:44.743Z"
   },
   {
    "duration": 279,
    "start_time": "2022-04-16T09:45:45.141Z"
   },
   {
    "duration": 344,
    "start_time": "2022-04-16T09:45:45.422Z"
   },
   {
    "duration": 377,
    "start_time": "2022-04-16T09:45:45.768Z"
   },
   {
    "duration": 316,
    "start_time": "2022-04-16T09:45:46.147Z"
   },
   {
    "duration": 386,
    "start_time": "2022-04-16T09:45:46.465Z"
   },
   {
    "duration": 325,
    "start_time": "2022-04-16T09:45:46.853Z"
   },
   {
    "duration": 60,
    "start_time": "2022-04-16T09:51:34.923Z"
   },
   {
    "duration": 4,
    "start_time": "2022-04-16T09:56:28.270Z"
   }
  ],
  "kernelspec": {
   "display_name": "Python 3 (ipykernel)",
   "language": "python",
   "name": "python3"
  },
  "language_info": {
   "codemirror_mode": {
    "name": "ipython",
    "version": 3
   },
   "file_extension": ".py",
   "mimetype": "text/x-python",
   "name": "python",
   "nbconvert_exporter": "python",
   "pygments_lexer": "ipython3",
   "version": "3.9.12"
  },
  "toc": {
   "base_numbering": 1,
   "nav_menu": {},
   "number_sections": false,
   "sideBar": true,
   "skip_h1_title": false,
   "title_cell": "Содержание",
   "title_sidebar": "Contents",
   "toc_cell": true,
   "toc_position": {
    "height": "calc(100% - 180px)",
    "left": "10px",
    "top": "150px",
    "width": "407.031px"
   },
   "toc_section_display": true,
   "toc_window_display": true
  }
 },
 "nbformat": 4,
 "nbformat_minor": 4
}
